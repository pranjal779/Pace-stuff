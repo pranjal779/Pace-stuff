{
  "nbformat": 4,
  "nbformat_minor": 0,
  "metadata": {
    "colab": {
      "name": "Midterm_PranjalShukla.ipynb",
      "provenance": [],
      "collapsed_sections": []
    },
    "kernelspec": {
      "name": "python3",
      "display_name": "Python 3"
    },
    "language_info": {
      "name": "python"
    }
  },
  "cells": [
    {
      "cell_type": "markdown",
      "metadata": {
        "id": "Z3CHg9q2sj8A"
      },
      "source": [
        "Create 4 variables, each storing an integer, a float, a string and a boolean [2]"
      ]
    },
    {
      "cell_type": "code",
      "metadata": {
        "id": "Ldo2vEQ8sjnT",
        "colab": {
          "base_uri": "https://localhost:8080/"
        },
        "outputId": "16cc25df-80e8-4804-abf0-7d0747699517"
      },
      "source": [
        "number = 123\n",
        "decimal_number = 123.45\n",
        "sentence = \"Hello World\"\n",
        "BOO_variable = True\n",
        "\n",
        "print(f\"{number}, {decimal_number}, {sentence}, {BOO_variable}\")"
      ],
      "execution_count": 1,
      "outputs": [
        {
          "output_type": "stream",
          "name": "stdout",
          "text": [
            "123, 123.45, Hello World, True\n"
          ]
        }
      ]
    },
    {
      "cell_type": "markdown",
      "metadata": {
        "id": "-kGM3IAXsrIx"
      },
      "source": [
        "Create a function that takes any number of integers as input and returns their sum [2]"
      ]
    },
    {
      "cell_type": "code",
      "metadata": {
        "id": "6qCqHptisi_h",
        "colab": {
          "base_uri": "https://localhost:8080/",
          "height": 235
        },
        "outputId": "9a5e6576-a90c-4c44-f1e4-a14daa0d7fb7"
      },
      "source": [
        "def add(x, y):\n",
        "  resultxy = x + y\n",
        "  return resultxy\n",
        "\n",
        "One = int(x)\n",
        "Two = int(y)\n",
        "\n",
        "int(input(f\"The value of X: {x}\"))\n",
        "int(input(f\"The value of Y: {y}\"))\n",
        "\n",
        "add(One, Two)"
      ],
      "execution_count": 22,
      "outputs": [
        {
          "output_type": "error",
          "ename": "NameError",
          "evalue": "ignored",
          "traceback": [
            "\u001b[0;31m---------------------------------------------------------------------------\u001b[0m",
            "\u001b[0;31mNameError\u001b[0m                                 Traceback (most recent call last)",
            "\u001b[0;32m<ipython-input-22-65707cb67070>\u001b[0m in \u001b[0;36m<module>\u001b[0;34m()\u001b[0m\n\u001b[1;32m      3\u001b[0m   \u001b[0;32mreturn\u001b[0m \u001b[0mresultxy\u001b[0m\u001b[0;34m\u001b[0m\u001b[0;34m\u001b[0m\u001b[0m\n\u001b[1;32m      4\u001b[0m \u001b[0;34m\u001b[0m\u001b[0m\n\u001b[0;32m----> 5\u001b[0;31m \u001b[0mOne\u001b[0m \u001b[0;34m=\u001b[0m \u001b[0mint\u001b[0m\u001b[0;34m(\u001b[0m\u001b[0mx\u001b[0m\u001b[0;34m)\u001b[0m\u001b[0;34m\u001b[0m\u001b[0;34m\u001b[0m\u001b[0m\n\u001b[0m\u001b[1;32m      6\u001b[0m \u001b[0mTwo\u001b[0m \u001b[0;34m=\u001b[0m \u001b[0mint\u001b[0m\u001b[0;34m(\u001b[0m\u001b[0my\u001b[0m\u001b[0;34m)\u001b[0m\u001b[0;34m\u001b[0m\u001b[0;34m\u001b[0m\u001b[0m\n\u001b[1;32m      7\u001b[0m \u001b[0;34m\u001b[0m\u001b[0m\n",
            "\u001b[0;31mNameError\u001b[0m: name 'x' is not defined"
          ]
        }
      ]
    },
    {
      "cell_type": "markdown",
      "metadata": {
        "id": "dHGJMllrszUH"
      },
      "source": [
        "create a function that is represented by the pseudocode below\n",
        "\n",
        "\n",
        "> def print_numbers(range_end, range_start, stepper)\n",
        "\n",
        "Sample input: 10,3\n",
        "Sample output: [3,4,5,6,7,8,9]\n",
        "\n",
        "Sample input: 10,1,2\n",
        "Sample output: [1, 3, 5, 7, 9]\n",
        "\n",
        "Sample input: 10\n",
        "Sample output: [1,2,3,4,5,6,7,8,9]\n",
        "\n",
        "range_start and range_end are optional parameters\n",
        "[5]"
      ]
    },
    {
      "cell_type": "code",
      "metadata": {
        "id": "f1r-grPqs_Ew"
      },
      "source": [
        "def print_numbers(range_end, range_start, stepper):\n",
        "  for numbers in range(3, 10, 1):\n",
        "    print(f\"\\nNumbers are: {numbers},end = \" \"\")\n",
        "  for numbers_02 in range(1, 10, 2):\n",
        "    print(f\"\\nNumbers are: {numbers},end = \" \"\")\n",
        "  for numbers_03 in range(1, 10, 1):\n",
        "    print(f\"\\nNumbers are: {numbers},end = \" \"\")\n",
        "\n",
        "\n"
      ],
      "execution_count": 29,
      "outputs": []
    },
    {
      "cell_type": "markdown",
      "metadata": {
        "id": "44fLTYVkuBGz"
      },
      "source": [
        "Create an input prompt that present users with 3 choices\n",
        "\n",
        "\n",
        "*   if user enters 1, it calls a function which takes 3 numbers as input from user and print the maximum\n",
        "*   if user enters 2, it calls a function that print a random number between (1-100)\n",
        "*   if user enters 3, asks user to enter their name and generates a list from the name and print it eg: Dhruv -> ['D','h','r','u','v']\n",
        "*   if user enters 0, exits the prompt\n",
        "*   if user enters something else, prints 'invalid choice'\n",
        "\n"
      ]
    },
    {
      "cell_type": "code",
      "metadata": {
        "colab": {
          "base_uri": "https://localhost:8080/",
          "height": 131
        },
        "id": "EeP2MJJORyql",
        "outputId": "fbb4757e-26b3-433b-e8b3-cfa824995df4"
      },
      "source": [
        "def max():\n",
        "  Number_01 = print(int(input(f\"1st number: \")))\n",
        "  Number_02 = print(int(input(f\"2st number: \")))\n",
        "  Number_03 = print(int(input(f\"3st number: \")))\n",
        "\n",
        "def random():\n",
        "  for number in range(1, 100):\n",
        "    print(rand.number)\n",
        "\n",
        "def name():\n",
        "  print(input(\"Your Name: \", end = \" \"))\n",
        "\n",
        "def exit():\n",
        "  break\n",
        "\n",
        "if int(input() == 1):\n",
        "  print(max((Number_01, Number_02, Number_03)))\n",
        "elif int(input() == 2):\n",
        "  print(rand.number)\n",
        "elif int(input() == 3):\n",
        "  print(name())\n",
        "elif int(input() == 0):\n",
        "  print(\"Exit\", exit())\n",
        "else:\n",
        "  print(\"Invalid Choice\")\n",
        "  \n",
        "\n",
        "\n"
      ],
      "execution_count": 37,
      "outputs": [
        {
          "output_type": "error",
          "ename": "SyntaxError",
          "evalue": "ignored",
          "traceback": [
            "\u001b[0;36m  File \u001b[0;32m\"<ipython-input-37-612dc28fe29c>\"\u001b[0;36m, line \u001b[0;32m14\u001b[0m\n\u001b[0;31m    break:\u001b[0m\n\u001b[0m         ^\u001b[0m\n\u001b[0;31mSyntaxError\u001b[0m\u001b[0;31m:\u001b[0m invalid syntax\n"
          ]
        }
      ]
    },
    {
      "cell_type": "code",
      "metadata": {
        "id": "IR9Hncu2UTxl"
      },
      "source": [
        ""
      ],
      "execution_count": null,
      "outputs": []
    }
  ]
}