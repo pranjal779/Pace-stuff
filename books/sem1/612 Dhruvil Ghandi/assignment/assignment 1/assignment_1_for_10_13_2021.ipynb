{
  "nbformat": 4,
  "nbformat_minor": 0,
  "metadata": {
    "colab": {
      "name": "assignment 1 for 10/13/2021.ipynb",
      "provenance": [],
      "collapsed_sections": []
    },
    "kernelspec": {
      "name": "python3",
      "display_name": "Python 3"
    },
    "language_info": {
      "name": "python"
    }
  },
  "cells": [
    {
      "cell_type": "code",
      "metadata": {
        "colab": {
          "base_uri": "https://localhost:8080/"
        },
        "id": "7kGdjwUY_lEb",
        "outputId": "5d52e91e-3857-48fd-b801-d905b2940fe9"
      },
      "source": [
        "#Q) 2.5\n",
        "'''find diameter, circumference and area'''\n",
        "\n",
        "pi = 3.14159  #value of pi\n",
        "r = 2 #radius is 2  #value of radius, r\n",
        "\n",
        "#formulas\n",
        "diameter = 2 * r\n",
        "circumference = 2 * pi * r\n",
        "area = pi * r * r\n",
        "\n",
        "#printing the values for the formulas\n",
        "print(\"Diameter is: -\",diameter)\n",
        "print(\"Circumference is: -\",circumference)\n",
        "print(\"Area is: -\",area)\n",
        "\n"
      ],
      "execution_count": null,
      "outputs": [
        {
          "output_type": "stream",
          "name": "stdout",
          "text": [
            "Diameter is: - 4\n",
            "Circumference is: - 12.56636\n",
            "Area is: - 12.56636\n"
          ]
        }
      ]
    },
    {
      "cell_type": "code",
      "metadata": {
        "colab": {
          "base_uri": "https://localhost:8080/"
        },
        "id": "rb1_uNwxBBcu",
        "outputId": "f4cb91bf-7d34-45b5-b945-6e1e12e77b57"
      },
      "source": [
        "#Q2.6\n",
        "'''Use if statement to determine whether an integer is odd or even'''\n",
        "\n",
        "print(\"Enter your number:-\")\n",
        "num = int(input())  #taking a number which is a int (integer) type\n",
        "\n",
        "'''to find out a number is even or odd we need to test the number by dividing\n",
        "the number 2, and if there is no remainder i.e. 0, if this condition is met\n",
        "then it is a even number otherwise it is an odd number.\n",
        "'''\n",
        "even = num % 2\n",
        "if even == 0:\n",
        "  print(f\"the number, {num} is even\")\n",
        "else:\n",
        "  print(f\"the number, {num} is odd\")"
      ],
      "execution_count": null,
      "outputs": [
        {
          "output_type": "stream",
          "name": "stdout",
          "text": [
            "Enter your number:-\n",
            "35\n",
            "the number, 35 is odd\n"
          ]
        }
      ]
    },
    {
      "cell_type": "code",
      "metadata": {
        "id": "89yqQh8eEfsK",
        "colab": {
          "base_uri": "https://localhost:8080/"
        },
        "outputId": "d6c1261d-d1db-4960-d30a-9669d6c4ade3"
      },
      "source": [
        "#Q2.7\n",
        "'''Use if statement to determine whether 1024 is a multiple of 4 and\n",
        "whether 2 is multiple of 10.'''\n",
        "\n",
        "num_01 = 1024\n",
        "num_02 = 2\n",
        "\n",
        "if (num_01 % 4 == 0): # to test if num_01 is a multiple of 4\n",
        "  print(f\"{num_01} is a multiple of 4\") \n",
        "else:\n",
        "  print(f\"{num_01} is not a multiple of 4\")\n",
        "\n",
        "if (num_02 % 10 == 0): # to test if num_02 is a multiple of 10\n",
        "  print(f\"{num_02} is a multiple of 10.\")\n",
        "else:\n",
        "  print(f\"{num_02} is not a multiple of 10\")\n"
      ],
      "execution_count": null,
      "outputs": [
        {
          "output_type": "stream",
          "name": "stdout",
          "text": [
            "1024 is a multiple of 4\n",
            "2 is not a multiple of 10\n"
          ]
        }
      ]
    },
    {
      "cell_type": "code",
      "metadata": {
        "id": "-djUYPcEN2O2",
        "colab": {
          "base_uri": "https://localhost:8080/"
        },
        "outputId": "0d1748cc-321f-45c5-8195-0bfe0636314a"
      },
      "source": [
        "#Q2.10\n",
        "''' Write a script that inputs three integers from the user. Display the\n",
        "sum, average, product, smallest, largest of the numbers. Note that each of these\n",
        "is a reduction in functional-style programming.'''\n",
        "\n",
        "def sum(num1, num2, num3):\n",
        "  return num1 + num2 + num3\n",
        "  return (num1 + num2 + num3)/2\n",
        "  return (num1 * num2 * num3)\n",
        "  return min(num1, num2, num3)\n",
        "  return max(num1, num2, num3)\n",
        "  \n",
        "num1 = int(input(\"Num1 is: \"))\n",
        "num2 = int(input(\"Num2 is: \"))\n",
        "num3 = int(input(\"Num3 is: \"))\n",
        "\n",
        "ans = num1 + num2 + num3 # addition of numbers\n",
        "avg = (num1 + num2 + num3)/3 # average of all the numbers\n",
        "product = (num1 * num2 * num3) # multiplications of all numbers\n",
        "small = min(num1, num2, num3) # smallest of all the numbers\n",
        "large = max(num1, num2, num3) #largest of all the numbers\n",
        "\n",
        "print(f\"the Sum of {num1}, {num2} and {num3} is: - {ans}\")\n",
        "print(f\"the Average of {num1}, {num2}, and {num3} is: - {avg}\")\n",
        "print(f\"the multiplication of {num1}, {num2} and {num3} is: - {product}\")\n",
        "print(f\"the Smallest number of {num1}, {num2} and {num3} is: - {small}\")\n",
        "print(f\"the Largest number of {num1}, {num2} and {num3} is: - {large}\")"
      ],
      "execution_count": null,
      "outputs": [
        {
          "output_type": "stream",
          "name": "stdout",
          "text": [
            "Num1 is: 66\n",
            "Num2 is: 78\n",
            "Num3 is: 56\n",
            "the Sum of 66, 78 and 56 is: - 200\n",
            "the Average of 66, 78, and 56 is: - 66.66666666666667\n",
            "the multiplication of 66, 78 and 56 is: - 288288\n",
            "the Smallest number of 66, 78 and 56 is: - 56\n",
            "the Largest number of 66, 78 and 56 is: - 78\n"
          ]
        }
      ]
    },
    {
      "cell_type": "code",
      "metadata": {
        "colab": {
          "base_uri": "https://localhost:8080/"
        },
        "id": "8PTClUcUkJwM",
        "outputId": "b6d1bf11-a3eb-487f-8ced-2cd4a16520c5"
      },
      "source": [
        "#Q. 2.11)\n",
        "\n",
        "num = int(input(\"Enter 5 digit number: \"))  #taking in a 5 digit value\n",
        "print(num)                                  #printing out the number\n",
        "\n",
        "digits = []                                 #the seperated digit values stored in num will be stored here\n",
        "\n",
        "while num > 0:\n",
        "  digits.insert(0, num % 10)                #e.g 1001 % 1 = 1, so the last digit here 1 will be sent to digits remaing 1000 will send further in the loop function .insert helps the number to stored in their proper index, starting at 1\n",
        "  num = (num - num%10) // 10                #e.g here 1001 - 1 = 1000, and then 1000 is divided with floor division as the regular division will return a double value \n",
        "                                            #the while loop will keep iterating until the value or num is equal to 0\n",
        "print(*digits)                              #prints out all the values in 'digits'\n"
      ],
      "execution_count": null,
      "outputs": [
        {
          "output_type": "stream",
          "name": "stdout",
          "text": [
            "Enter 5 digit number: 55678\n",
            "55678\n",
            "5 5 6 7 8\n"
          ]
        }
      ]
    },
    {
      "cell_type": "code",
      "metadata": {
        "id": "rD_svURu_EaX",
        "colab": {
          "base_uri": "https://localhost:8080/"
        },
        "outputId": "25e65ee4-cc26-4df4-a455-16ed4a6d3ac8"
      },
      "source": [
        "\\#Q2.12\n",
        "'''Some investment advisors say that it’s reasonable to expect a 7% return over the long term in the stock market. Assuming that you begin with\n",
        "$1000 and leave your money invested, calculate and display how much money you’ll have\n",
        "after 10, 20 and 30 years. Use the following formula for determining these amounts:\n",
        "a = p(1 + r)^n\n",
        "where\n",
        "p is the original amount invested (i.e., the principal of $1000),\n",
        "r is the annual rate of return (7%),\n",
        "n is the number of years (10, 20 or 30) and\n",
        "a is the amount on deposit at the end of the nth year.'''\n",
        "\n",
        "#given values\n",
        "p = 1000    #principles\n",
        "r = 7       #rates\n",
        "n1 = 10     #year 10\n",
        "n2 = 20     #year 20\n",
        "n3 = 30     #year 30\n",
        "\n",
        "def interest(p, r, n):        #defining the compound interest formula\n",
        "  return p * ((1 + (r/100) ** n1))\n",
        "  return p * ((1 + (r/100)) ** n2)\n",
        "  return p * ((1 + (r/100)) ** n3)\n",
        "\n",
        "Untill_10years = p * ((1 + (r/100)) ** n1)\n",
        "\n",
        "Untill_20years = p * ((1 + (r/100)) ** n2)\n",
        "\n",
        "Untill_30years = p * ((1 + (r/100)) ** n3)\n",
        "\n",
        "\n",
        "print(f\"the amount at end of {n1} yesars is: - {Untill_10years}.\")\n",
        "print(f\"\\nthe amount at end of {n2} yesars is: - {Untill_20years}.\")\n",
        "print(f\"\\nthe amount at end of {n3} yesars is: - {Untill_30years}.\")"
      ],
      "execution_count": null,
      "outputs": [
        {
          "output_type": "stream",
          "name": "stdout",
          "text": [
            "the amount at end of 10 yesars is: - 1967.1513572895665.\n",
            "\n",
            "the amount at end of 20 yesars is: - 3869.6844624861833.\n",
            "\n",
            "the amount at end of 30 yesars is: - 7612.255042662042.\n"
          ]
        }
      ]
    },
    {
      "cell_type": "code",
      "metadata": {
        "colab": {
          "base_uri": "https://localhost:8080/"
        },
        "id": "N6xnJhwHQEI0",
        "outputId": "e45092e6-af5a-4358-b44f-2b3cdfa6dc91"
      },
      "source": [
        "#Q3.4)\n",
        "\n",
        "for i in range(2):            #for 2 rows @ will be printed\n",
        "  for j in range(7):          #for 7 columns @ will be printed\n",
        "    print(\"@\",end=\"\")         # end=\"\" means after 1 print of @ we can add or append another @ untill the end of for loop \n",
        "  print()\n",
        "\n"
      ],
      "execution_count": null,
      "outputs": [
        {
          "output_type": "stream",
          "name": "stdout",
          "text": [
            "@@@@@@@\n",
            "@@@@@@@\n"
          ]
        }
      ]
    },
    {
      "cell_type": "code",
      "metadata": {
        "colab": {
          "base_uri": "https://localhost:8080/"
        },
        "id": "CbkkPNaAldgQ",
        "outputId": "4967334d-f4ce-4614-84ba-57cadcfc5b53"
      },
      "source": [
        "#Q3.5)\n",
        "numb1 = int(input('1st number is: - ')) # enter first integer\n",
        "\n",
        "numb2 = int(input('2nd number is: - ')) # enter second integer\n",
        "\n",
        "if numb1 == numb2:\n",
        "  print(numb1, 'is equal to', numb2)\n",
        "else:\n",
        "  print(numb1, 'is not equal to', numb2)\n",
        "\n",
        "if numb1 < numb2:\n",
        "  print(numb1, 'is less than', numb2)\n",
        "else:\n",
        "  print(numb1, 'is greater than', numb2)\n",
        "\n",
        "if numb1 <= numb2:\n",
        "  print(numb1, 'is less than or equal to', numb2)\n",
        "else:\n",
        "  print(numb1, 'is greater than or equal to', numb2)"
      ],
      "execution_count": null,
      "outputs": [
        {
          "output_type": "stream",
          "name": "stdout",
          "text": [
            "1st number is: - 78\n",
            "2nd number is: - 67\n",
            "78 is not equal to 67\n",
            "78 is greater than 67\n",
            "78 is greater than or equal to 67\n"
          ]
        }
      ]
    },
    {
      "cell_type": "code",
      "metadata": {
        "colab": {
          "base_uri": "https://localhost:8080/"
        },
        "id": "3HT8jFOylta3",
        "outputId": "20ccf5ac-ff69-44fa-af5b-a6c146d58b75"
      },
      "source": [
        "#Q3.6)\n",
        "print(input(\"What is your problem?:-\"))\n",
        "\n",
        "patient_answer_2 = (input(\"have you had this before? \"))\n",
        "\n",
        "if patient_answer_2.lower() == 'yes':\n",
        "    print(\"well, you have it again\")\n",
        "elif patient_answer_2.lower() == 'no':\n",
        "    print(\"well, Now you have it\")\n"
      ],
      "execution_count": null,
      "outputs": [
        {
          "output_type": "stream",
          "name": "stdout",
          "text": [
            "What is your problem?:-problem\n",
            "problem\n",
            "have you had this before? yes\n",
            "well, you have it again\n"
          ]
        }
      ]
    },
    {
      "cell_type": "code",
      "metadata": {
        "id": "Fb5wVSf_t07o",
        "colab": {
          "base_uri": "https://localhost:8080/"
        },
        "outputId": "7e68534e-2298-4a69-b5f8-3f3c3e2e483b"
      },
      "source": [
        "#Q.3.10)\n",
        "\n",
        "\n",
        "#given values from (Q2.12)\n",
        "p = 1000        #principle\n",
        "r = 7.00        #rate\n",
        "n = 30          #years\n",
        "rate = r * 0.01 #making the rate in decimal eg. 7/100 = 0.07, so 7*0.01 = 0.07\n",
        "i = 1\n",
        "\n",
        "print(\"Year 1, total is:\", p) #first year ammount\n",
        "\n",
        "while i < n:\n",
        "    Amount = (p * ((1 + rate) ** i)) #amount after 1st year\n",
        "    i = i + 1\n",
        "    print(f\"Year {i}, total is: {Amount}\")"
      ],
      "execution_count": null,
      "outputs": [
        {
          "output_type": "stream",
          "name": "stdout",
          "text": [
            "Year 1, total is: 1000\n",
            "Year 2, total is: 1070.0\n",
            "Year 3, total is: 1144.9\n",
            "Year 4, total is: 1225.0430000000001\n",
            "Year 5, total is: 1310.7960100000003\n",
            "Year 6, total is: 1402.5517307000005\n",
            "Year 7, total is: 1500.7303518490005\n",
            "Year 8, total is: 1605.7814764784307\n",
            "Year 9, total is: 1718.186179831921\n",
            "Year 10, total is: 1838.4592124201556\n",
            "Year 11, total is: 1967.1513572895665\n",
            "Year 12, total is: 2104.8519522998363\n",
            "Year 13, total is: 2252.191588960825\n",
            "Year 14, total is: 2409.845000188083\n",
            "Year 15, total is: 2578.534150201249\n",
            "Year 16, total is: 2759.031540715336\n",
            "Year 17, total is: 2952.16374856541\n",
            "Year 18, total is: 3158.8152109649886\n",
            "Year 19, total is: 3379.932275732538\n",
            "Year 20, total is: 3616.5275350338165\n",
            "Year 21, total is: 3869.6844624861833\n",
            "Year 22, total is: 4140.562374860217\n",
            "Year 23, total is: 4430.401741100432\n",
            "Year 24, total is: 4740.5298629774625\n",
            "Year 25, total is: 5072.366953385886\n",
            "Year 26, total is: 5427.432640122897\n",
            "Year 27, total is: 5807.352924931501\n",
            "Year 28, total is: 6213.867629676706\n",
            "Year 29, total is: 6648.838363754076\n",
            "Year 30, total is: 7114.257049216862\n"
          ]
        }
      ]
    },
    {
      "cell_type": "code",
      "metadata": {
        "id": "vnbMuIHKSlb7",
        "colab": {
          "base_uri": "https://localhost:8080/"
        },
        "outputId": "e1e7acba-4eae-4624-8080-4a01af1429a9"
      },
      "source": [
        "#Q 3.11)\n",
        "gallons = 0\n",
        "miles = 0\n",
        "number_of_tanks = 0\n",
        "total_gallons = 0\n",
        "total_miles = 0\n",
        "\n",
        "gallons = float(input(\"Enter the gallons used, (enter -1 to stop): \"))\n",
        "miles = float(input(\"Enter number of miles driven, (enter -1 to stop): \"))\n",
        "mpg = miles/gallons\n",
        "print(\"the mileage for this tank is: \", str(mpg))\n",
        "\n",
        "while gallons != -1:\n",
        "    total_gallons += gallons\n",
        "    total_miles += miles\n",
        "    number_of_tanks += 1\n",
        "    gallons = float(input(\"Enter the gallons used, (enter -1 to stop): \"))\n",
        "    miles = float(input(\"Enter number of miles driven, (enter -1 to stop): \"))\n",
        "    mpg = miles/gallons\n",
        "    print(\"the mileage for this tank is: \", str(mpg))\n",
        "\n",
        "\n",
        "print(\"Total Gallons used are: \", total_gallons)\n",
        "print(\"Total Miles driven are: \", total_miles)\n",
        "Final_mgp = total_miles/total_gallons\n",
        "print(\"Combined Mileage i.e. miles per gallons is: \", Final_mgp)"
      ],
      "execution_count": null,
      "outputs": [
        {
          "output_type": "stream",
          "name": "stdout",
          "text": [
            "Enter the gallons used, (enter -1 to stop): 50\n",
            "Enter number of miles driven, (enter -1 to stop): 80\n",
            "the mileage for this tank is:  1.6\n",
            "Enter the gallons used, (enter -1 to stop): 100\n",
            "Enter number of miles driven, (enter -1 to stop): 150\n",
            "the mileage for this tank is:  1.5\n",
            "Enter the gallons used, (enter -1 to stop): 90\n",
            "Enter number of miles driven, (enter -1 to stop): 100\n",
            "the mileage for this tank is:  1.1111111111111112\n",
            "Enter the gallons used, (enter -1 to stop): 80\n",
            "Enter number of miles driven, (enter -1 to stop): 90\n",
            "the mileage for this tank is:  1.125\n",
            "Enter the gallons used, (enter -1 to stop): 60\n",
            "Enter number of miles driven, (enter -1 to stop): 80\n",
            "the mileage for this tank is:  1.3333333333333333\n",
            "Enter the gallons used, (enter -1 to stop): 50\n",
            "Enter number of miles driven, (enter -1 to stop): 70\n",
            "the mileage for this tank is:  1.4\n",
            "Enter the gallons used, (enter -1 to stop): 30\n",
            "Enter number of miles driven, (enter -1 to stop): 50\n",
            "the mileage for this tank is:  1.6666666666666667\n",
            "Enter the gallons used, (enter -1 to stop): 20\n",
            "Enter number of miles driven, (enter -1 to stop): 30\n",
            "the mileage for this tank is:  1.5\n",
            "Enter the gallons used, (enter -1 to stop): -1\n",
            "Enter number of miles driven, (enter -1 to stop): -1\n",
            "the mileage for this tank is:  1.0\n",
            "Total Gallons used are:  480.0\n",
            "Total Miles driven are:  650.0\n",
            "Combined Mileage i.e. miles per gallons is:  1.3541666666666667\n"
          ]
        }
      ]
    },
    {
      "cell_type": "code",
      "metadata": {
        "id": "vNAVMafLRUkp"
      },
      "source": [
        ""
      ],
      "execution_count": null,
      "outputs": []
    }
  ]
}