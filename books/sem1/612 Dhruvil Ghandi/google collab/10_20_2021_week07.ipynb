{
  "nbformat": 4,
  "nbformat_minor": 0,
  "metadata": {
    "colab": {
      "name": "10/20/2021 week07.ipynb",
      "provenance": [],
      "collapsed_sections": []
    },
    "kernelspec": {
      "name": "python3",
      "display_name": "Python 3"
    },
    "language_info": {
      "name": "python"
    }
  },
  "cells": [
    {
      "cell_type": "code",
      "metadata": {
        "id": "EJ9l3hlvxq3H"
      },
      "source": [
        "numbers = [] #empty list"
      ],
      "execution_count": null,
      "outputs": []
    },
    {
      "cell_type": "code",
      "metadata": {
        "colab": {
          "base_uri": "https://localhost:8080/"
        },
        "id": "jRIYeFcXzAsh",
        "outputId": "75818346-405f-4f6d-ca99-606de176da38"
      },
      "source": [
        "dir(numbers)\n"
      ],
      "execution_count": null,
      "outputs": [
        {
          "output_type": "execute_result",
          "data": {
            "text/plain": [
              "['__add__',\n",
              " '__class__',\n",
              " '__contains__',\n",
              " '__delattr__',\n",
              " '__delitem__',\n",
              " '__dir__',\n",
              " '__doc__',\n",
              " '__eq__',\n",
              " '__format__',\n",
              " '__ge__',\n",
              " '__getattribute__',\n",
              " '__getitem__',\n",
              " '__gt__',\n",
              " '__hash__',\n",
              " '__iadd__',\n",
              " '__imul__',\n",
              " '__init__',\n",
              " '__init_subclass__',\n",
              " '__iter__',\n",
              " '__le__',\n",
              " '__len__',\n",
              " '__lt__',\n",
              " '__mul__',\n",
              " '__ne__',\n",
              " '__new__',\n",
              " '__reduce__',\n",
              " '__reduce_ex__',\n",
              " '__repr__',\n",
              " '__reversed__',\n",
              " '__rmul__',\n",
              " '__setattr__',\n",
              " '__setitem__',\n",
              " '__sizeof__',\n",
              " '__str__',\n",
              " '__subclasshook__',\n",
              " 'append',\n",
              " 'clear',\n",
              " 'copy',\n",
              " 'count',\n",
              " 'extend',\n",
              " 'index',\n",
              " 'insert',\n",
              " 'pop',\n",
              " 'remove',\n",
              " 'reverse',\n",
              " 'sort']"
            ]
          },
          "metadata": {},
          "execution_count": 5
        }
      ]
    },
    {
      "cell_type": "code",
      "metadata": {
        "colab": {
          "base_uri": "https://localhost:8080/"
        },
        "id": "Xkb7EmaIzhKH",
        "outputId": "add503fa-324a-4c9f-cacc-11f838a53d0e"
      },
      "source": [
        "type(numbers)"
      ],
      "execution_count": null,
      "outputs": [
        {
          "output_type": "execute_result",
          "data": {
            "text/plain": [
              "list"
            ]
          },
          "metadata": {},
          "execution_count": 6
        }
      ]
    },
    {
      "cell_type": "code",
      "metadata": {
        "colab": {
          "base_uri": "https://localhost:8080/"
        },
        "id": "fZaLKdShz-dJ",
        "outputId": "4d9172a1-2d3a-4bed-9334-0f3aafe18499"
      },
      "source": [
        "numbers += \"hello\" #this is valid as it is str i\n",
        "print(numbers)"
      ],
      "execution_count": null,
      "outputs": [
        {
          "output_type": "stream",
          "name": "stdout",
          "text": [
            "['h', 'e', 'l', 'l', 'o']\n"
          ]
        }
      ]
    },
    {
      "cell_type": "code",
      "metadata": {
        "id": "PenrLSlE082V"
      },
      "source": [
        "name = \"IS 612\" # string as sequence"
      ],
      "execution_count": null,
      "outputs": []
    },
    {
      "cell_type": "code",
      "metadata": {
        "id": "Lh88ZAOG1l-q"
      },
      "source": [
        "name = \"Eve\""
      ],
      "execution_count": null,
      "outputs": []
    },
    {
      "cell_type": "code",
      "metadata": {
        "colab": {
          "base_uri": "https://localhost:8080/"
        },
        "id": "l5CGsp0Y1zt3",
        "outputId": "c00042c3-9113-4a85-bc22-95621d14c4c9"
      },
      "source": [
        "a = [1, 2, 3]\n",
        "b = [2, 1, 3]\n",
        "print(a<b)"
      ],
      "execution_count": null,
      "outputs": [
        {
          "output_type": "stream",
          "name": "stdout",
          "text": [
            "True\n"
          ]
        }
      ]
    },
    {
      "cell_type": "code",
      "metadata": {
        "id": "kacOiqga2T2t"
      },
      "source": [
        "numbers.append(5)"
      ],
      "execution_count": null,
      "outputs": []
    },
    {
      "cell_type": "code",
      "metadata": {
        "colab": {
          "base_uri": "https://localhost:8080/"
        },
        "id": "-A3PxxB-2oIg",
        "outputId": "2e4327a0-7ddd-4371-cf3d-e077fabb0679"
      },
      "source": [
        "print(numbers)"
      ],
      "execution_count": null,
      "outputs": [
        {
          "output_type": "stream",
          "name": "stdout",
          "text": [
            "['h', 'e', 'l', 'l', 'o', 5]\n"
          ]
        }
      ]
    },
    {
      "cell_type": "code",
      "metadata": {
        "colab": {
          "base_uri": "https://localhost:8080/"
        },
        "id": "yiAl7ViU2rHJ",
        "outputId": "316774a0-c541-4675-8a83-677d3264a82e"
      },
      "source": [
        "numbers.append([1, 2, 3])\n",
        "print(numbers)"
      ],
      "execution_count": null,
      "outputs": [
        {
          "output_type": "stream",
          "name": "stdout",
          "text": [
            "['h', 'e', 'l', 'l', 'o', 5, [1, 2, 3]]\n"
          ]
        }
      ]
    },
    {
      "cell_type": "code",
      "metadata": {
        "id": "CWsdssjG21xc"
      },
      "source": [
        "#nested_list -> [1, 2, 4, 5, [1, 2 ,3]]"
      ],
      "execution_count": null,
      "outputs": []
    },
    {
      "cell_type": "code",
      "metadata": {
        "colab": {
          "base_uri": "https://localhost:8080/"
        },
        "id": "UDz5jWM-3CCC",
        "outputId": "15373cbb-6d8d-4571-da80-be6298409f06"
      },
      "source": [
        "numbers.extend([9,10,11])\n",
        "numbers"
      ],
      "execution_count": null,
      "outputs": [
        {
          "output_type": "execute_result",
          "data": {
            "text/plain": [
              "['h', 'e', 'l', 'l', 'o', 5, [1, 2, 3], 9, 10, 11]"
            ]
          },
          "metadata": {},
          "execution_count": 18
        }
      ]
    },
    {
      "cell_type": "code",
      "metadata": {
        "colab": {
          "base_uri": "https://localhost:8080/"
        },
        "id": "R2YaogqX3KZ5",
        "outputId": "839f0ffb-39bb-479b-f699-177383b0be53"
      },
      "source": [
        "numbers.insert(0,1111)\n",
        "numbers"
      ],
      "execution_count": null,
      "outputs": [
        {
          "output_type": "execute_result",
          "data": {
            "text/plain": [
              "[1111, 'h', 'e', 'l', 'l', 'o', 5, [1, 2, 3], 9, 10, 11]"
            ]
          },
          "metadata": {},
          "execution_count": 19
        }
      ]
    },
    {
      "cell_type": "code",
      "metadata": {
        "colab": {
          "base_uri": "https://localhost:8080/"
        },
        "id": "6P4FRfrw3Sbg",
        "outputId": "57a69588-8e3f-4975-d713-4ac65b31c516"
      },
      "source": [
        "numbers.insert(5, -10)\n",
        "numbers"
      ],
      "execution_count": null,
      "outputs": [
        {
          "output_type": "execute_result",
          "data": {
            "text/plain": [
              "[1111, 'h', 'e', 'l', 'l', -10, 'o', 5, [1, 2, 3], 9, 10, 11]"
            ]
          },
          "metadata": {},
          "execution_count": 20
        }
      ]
    },
    {
      "cell_type": "code",
      "metadata": {
        "colab": {
          "base_uri": "https://localhost:8080/"
        },
        "id": "owIxR2Y93Xvm",
        "outputId": "ac9c5f74-47b9-49c6-8174-fd7e6dbcd827"
      },
      "source": [
        "numbers.append(1)\n",
        "numbers"
      ],
      "execution_count": null,
      "outputs": [
        {
          "output_type": "execute_result",
          "data": {
            "text/plain": [
              "[1111, 'h', 'e', 'l', 'l', -10, 'o', 5, [1, 2, 3], 9, 10, 11, 1]"
            ]
          },
          "metadata": {},
          "execution_count": 21
        }
      ]
    },
    {
      "cell_type": "code",
      "metadata": {
        "colab": {
          "base_uri": "https://localhost:8080/"
        },
        "id": "oWIi1KxE30r4",
        "outputId": "bbd357eb-6b4a-4ebc-c1e6-3f0f525f6b66"
      },
      "source": [
        "numbers"
      ],
      "execution_count": null,
      "outputs": [
        {
          "output_type": "execute_result",
          "data": {
            "text/plain": [
              "[1111, 'h', 'e', 'l', 'l', -10, 'o', 5, [1, 2, 3], 9, 10, 11]"
            ]
          },
          "metadata": {},
          "execution_count": 27
        }
      ]
    },
    {
      "cell_type": "code",
      "metadata": {
        "id": "rNaqqxGg365o"
      },
      "source": [
        "#numbers.remove(1)"
      ],
      "execution_count": null,
      "outputs": []
    },
    {
      "cell_type": "code",
      "metadata": {
        "colab": {
          "base_uri": "https://localhost:8080/"
        },
        "id": "rtJD8vWQ4YvL",
        "outputId": "888e1046-f091-4750-cf90-360db6852749"
      },
      "source": [
        "numbers.index(-10)"
      ],
      "execution_count": null,
      "outputs": [
        {
          "output_type": "execute_result",
          "data": {
            "text/plain": [
              "5"
            ]
          },
          "metadata": {},
          "execution_count": 30
        }
      ]
    },
    {
      "cell_type": "code",
      "metadata": {
        "id": "LI9v-hw74bRX"
      },
      "source": [
        "numbers.extend([1,2,3,4,5])"
      ],
      "execution_count": null,
      "outputs": []
    },
    {
      "cell_type": "code",
      "metadata": {
        "colab": {
          "base_uri": "https://localhost:8080/"
        },
        "id": "JeGorblX4kml",
        "outputId": "e98d0f93-52a0-435c-bf50-58bad22ee805"
      },
      "source": [
        "numbers.reverse()\n",
        "print(numbers)"
      ],
      "execution_count": null,
      "outputs": [
        {
          "output_type": "stream",
          "name": "stdout",
          "text": [
            "[5, 4, 3, 2, 1, 11, 10, 9, [1, 2, 3], 5, 'o', -10, 'l', 'l', 'e', 'h', 1111]\n"
          ]
        }
      ]
    },
    {
      "cell_type": "code",
      "metadata": {
        "colab": {
          "base_uri": "https://localhost:8080/"
        },
        "id": "qz59kC_84xek",
        "outputId": "1fab4246-cc55-4ced-e0ba-2aceb9451092"
      },
      "source": [
        "numbers.remove(1)\n",
        "print(numbers)"
      ],
      "execution_count": null,
      "outputs": [
        {
          "output_type": "stream",
          "name": "stdout",
          "text": [
            "[5, 4, 3, 2, 11, 10, 9, [1, 2, 3], 5, 'o', -10, 'l', 'l', 'e', 'h', 1111]\n"
          ]
        }
      ]
    },
    {
      "cell_type": "code",
      "metadata": {
        "colab": {
          "base_uri": "https://localhost:8080/"
        },
        "id": "a3AB7ULW48g2",
        "outputId": "ad6e09a3-dbfa-40f0-d3ef-93ae4730a097"
      },
      "source": [
        "numbers.count(-100)\n",
        "numbers"
      ],
      "execution_count": null,
      "outputs": [
        {
          "output_type": "execute_result",
          "data": {
            "text/plain": [
              "[5, 4, 3, 2, 11, 10, 9, [1, 2, 3], 5, 'o', -10, 'l', 'l', 'e', 'h', 1111]"
            ]
          },
          "metadata": {},
          "execution_count": 35
        }
      ]
    },
    {
      "cell_type": "code",
      "metadata": {
        "id": "jAdXzjMp5ClU"
      },
      "source": [
        "#tuples"
      ],
      "execution_count": null,
      "outputs": []
    },
    {
      "cell_type": "code",
      "metadata": {
        "colab": {
          "base_uri": "https://localhost:8080/"
        },
        "id": "T1k_RIOQ5IfW",
        "outputId": "3a764385-1f6a-46a9-d272-d0f7b9b9ae05"
      },
      "source": [
        "empty_tuple = ()\n",
        "print(len(empty_tuple))\n",
        "print(type(empty_tuple))"
      ],
      "execution_count": null,
      "outputs": [
        {
          "output_type": "stream",
          "name": "stdout",
          "text": [
            "0\n",
            "<class 'tuple'>\n"
          ]
        }
      ]
    },
    {
      "cell_type": "code",
      "metadata": {
        "id": "1jSy_YZB5W7x"
      },
      "source": [
        "empty_tuple = (1,2,3)\n",
        "#empty_tuple[0] = 100"
      ],
      "execution_count": null,
      "outputs": []
    },
    {
      "cell_type": "code",
      "metadata": {
        "colab": {
          "base_uri": "https://localhost:8080/"
        },
        "id": "uD-s1n9k5h2C",
        "outputId": "ad7b1572-cafa-4b35-e92b-296865b6be67"
      },
      "source": [
        "another_tuple = 1,2,3,4\n",
        "print(another_tuple)"
      ],
      "execution_count": null,
      "outputs": [
        {
          "output_type": "stream",
          "name": "stdout",
          "text": [
            "(1, 2, 3, 4)\n"
          ]
        }
      ]
    },
    {
      "cell_type": "code",
      "metadata": {
        "id": "SNzWFBW_5sys"
      },
      "source": [
        "#another_tuple(0)"
      ],
      "execution_count": null,
      "outputs": []
    },
    {
      "cell_type": "code",
      "metadata": {
        "colab": {
          "base_uri": "https://localhost:8080/"
        },
        "id": "HdvKONXi57tm",
        "outputId": "5cd8c852-0a67-4354-c845-e17b1f1efe85"
      },
      "source": [
        "another_tuple += (10,20)\n",
        "print(another_tuple)"
      ],
      "execution_count": null,
      "outputs": [
        {
          "output_type": "stream",
          "name": "stdout",
          "text": [
            "(1, 2, 3, 4, 10, 20)\n"
          ]
        }
      ]
    },
    {
      "cell_type": "code",
      "metadata": {
        "colab": {
          "base_uri": "https://localhost:8080/"
        },
        "id": "dZbseIyD6HGP",
        "outputId": "0c2efd8d-cb74-4392-bdd3-18d32f0887a2"
      },
      "source": [
        "numbers_2d = [[1,2], [3,4]]\n",
        "numbers_2d[0]"
      ],
      "execution_count": null,
      "outputs": [
        {
          "output_type": "execute_result",
          "data": {
            "text/plain": [
              "[1, 2]"
            ]
          },
          "metadata": {},
          "execution_count": 44
        }
      ]
    },
    {
      "cell_type": "code",
      "metadata": {
        "colab": {
          "base_uri": "https://localhost:8080/"
        },
        "id": "2iz0Kj9-6jyG",
        "outputId": "d8871430-c381-4414-f1e2-f554b9c13447"
      },
      "source": [
        "numbers_2d[0][0]"
      ],
      "execution_count": null,
      "outputs": [
        {
          "output_type": "execute_result",
          "data": {
            "text/plain": [
              "1"
            ]
          },
          "metadata": {},
          "execution_count": 45
        }
      ]
    },
    {
      "cell_type": "code",
      "metadata": {
        "colab": {
          "base_uri": "https://localhost:8080/"
        },
        "id": "EsTZVjDr6pKW",
        "outputId": "558544b0-49b8-436e-9096-a36f1dc589a9"
      },
      "source": [
        "for num_1d in numbers_2d:\n",
        "  for num in num_1d:\n",
        "    print(num)"
      ],
      "execution_count": null,
      "outputs": [
        {
          "output_type": "stream",
          "name": "stdout",
          "text": [
            "1\n",
            "2\n",
            "3\n",
            "4\n"
          ]
        }
      ]
    },
    {
      "cell_type": "code",
      "metadata": {
        "id": "kVQRAC0f6ySv"
      },
      "source": [
        "number_mixed = [[1,2], [1,2]]"
      ],
      "execution_count": null,
      "outputs": []
    },
    {
      "cell_type": "code",
      "metadata": {
        "colab": {
          "base_uri": "https://localhost:8080/"
        },
        "id": "fJ-C3dOK7NPZ",
        "outputId": "e1194f16-6f4f-40c2-8bd2-bbc33207e9ee"
      },
      "source": [
        "print(number_mixed[0])\n",
        "number_mixed[0][0] = 12\n",
        "print(number_mixed)"
      ],
      "execution_count": null,
      "outputs": [
        {
          "output_type": "stream",
          "name": "stdout",
          "text": [
            "[12, 2]\n",
            "[[12, 2], [1, 2]]\n"
          ]
        }
      ]
    },
    {
      "cell_type": "code",
      "metadata": {
        "colab": {
          "base_uri": "https://localhost:8080/"
        },
        "id": "Rm-dax5J7TNt",
        "outputId": "79d59a3f-f86f-425b-bfa6-137fdc8f740e"
      },
      "source": [
        "numbers.index(2)\n",
        "numbers.count(5)"
      ],
      "execution_count": null,
      "outputs": [
        {
          "output_type": "execute_result",
          "data": {
            "text/plain": [
              "2"
            ]
          },
          "metadata": {},
          "execution_count": 52
        }
      ]
    },
    {
      "cell_type": "code",
      "metadata": {
        "colab": {
          "base_uri": "https://localhost:8080/"
        },
        "id": "aXHqIJ2Y-U4-",
        "outputId": "8f1c15d0-88e0-48c7-f3ed-13bad8b66dd4"
      },
      "source": [
        "n1, n2, n3 = [1, 2, 3]\n",
        "print(n1)\n",
        "l1 = 1,2,3,4\n",
        "print(l1)"
      ],
      "execution_count": null,
      "outputs": [
        {
          "output_type": "stream",
          "name": "stdout",
          "text": [
            "1\n",
            "(1, 2, 3, 4)\n"
          ]
        }
      ]
    },
    {
      "cell_type": "code",
      "metadata": {
        "id": "JaZYs3eiBHSV"
      },
      "source": [
        "colors = ['red', 'green', 'blue']"
      ],
      "execution_count": null,
      "outputs": []
    },
    {
      "cell_type": "code",
      "metadata": {
        "colab": {
          "base_uri": "https://localhost:8080/"
        },
        "id": "qkn2DJBMBk6m",
        "outputId": "cee85139-59f9-45f0-81d0-7a3722e28519"
      },
      "source": [
        "for index,color in enumerate(colors):\n",
        "  print(f\"{color} is at {index} poition in the list\")"
      ],
      "execution_count": null,
      "outputs": [
        {
          "output_type": "stream",
          "name": "stdout",
          "text": [
            "red is at 0 poition in the list\n",
            "green is at 1 poition in the list\n",
            "blue is at 2 poition in the list\n"
          ]
        }
      ]
    },
    {
      "cell_type": "code",
      "metadata": {
        "colab": {
          "base_uri": "https://localhost:8080/"
        },
        "id": "Z1yGF9UiBvBv",
        "outputId": "6fdb0127-8914-4ae0-afe0-84e5fc6090b1"
      },
      "source": [
        "#convert list to tuple and tuple to list\n",
        "a_tuple02 = (1,2)\n",
        "a_list = list(a_tuple02)\n",
        "print(type(a_list))\n"
      ],
      "execution_count": null,
      "outputs": [
        {
          "output_type": "stream",
          "name": "stdout",
          "text": [
            "<class 'list'>\n"
          ]
        }
      ]
    },
    {
      "cell_type": "code",
      "metadata": {
        "id": "Op6AjAlkCa4-"
      },
      "source": [
        "#slicing\n",
        "numbers = [1,2,3,4,5,6,7,8,9,0]\n",
        "\n",
        "#numbers[<start_value>:<end_value>]"
      ],
      "execution_count": null,
      "outputs": []
    },
    {
      "cell_type": "code",
      "metadata": {
        "colab": {
          "base_uri": "https://localhost:8080/"
        },
        "id": "HK14bR_4Cs7-",
        "outputId": "e46e8e6f-a549-4098-f248-d088617e10d8"
      },
      "source": [
        "print(numbers[3:])"
      ],
      "execution_count": null,
      "outputs": [
        {
          "output_type": "stream",
          "name": "stdout",
          "text": [
            "[4, 5, 6, 7, 8, 9, 0]\n"
          ]
        }
      ]
    },
    {
      "cell_type": "code",
      "metadata": {
        "colab": {
          "base_uri": "https://localhost:8080/"
        },
        "id": "RBy2dFQUCweK",
        "outputId": "4b67f50b-b85e-4909-b803-5fd049ad86a2"
      },
      "source": [
        "print(numbers[3:6])"
      ],
      "execution_count": null,
      "outputs": [
        {
          "output_type": "stream",
          "name": "stdout",
          "text": [
            "[4, 5, 6]\n"
          ]
        }
      ]
    },
    {
      "cell_type": "code",
      "metadata": {
        "colab": {
          "base_uri": "https://localhost:8080/"
        },
        "id": "Gv8IBxi5C5Cq",
        "outputId": "58f4837b-052f-4796-e72d-9a8ae1f22f8a"
      },
      "source": [
        "print(numbers[:-1]) #everything but the last number"
      ],
      "execution_count": null,
      "outputs": [
        {
          "output_type": "stream",
          "name": "stdout",
          "text": [
            "[1, 2, 3, 4, 5, 6, 7, 8, 9]\n"
          ]
        }
      ]
    },
    {
      "cell_type": "code",
      "metadata": {
        "colab": {
          "base_uri": "https://localhost:8080/"
        },
        "id": "6lrM5I_9DIkL",
        "outputId": "b48a9237-6838-4a6f-fece-b7b842072bc4"
      },
      "source": [
        "print(numbers[-5:])"
      ],
      "execution_count": null,
      "outputs": [
        {
          "output_type": "stream",
          "name": "stdout",
          "text": [
            "[6, 7, 8, 9, 0]\n"
          ]
        }
      ]
    },
    {
      "cell_type": "code",
      "metadata": {
        "colab": {
          "base_uri": "https://localhost:8080/"
        },
        "id": "Uf_KaVcjDMba",
        "outputId": "4d7ce8b0-ffd2-4ac4-ec3c-479550c157b6"
      },
      "source": [
        "print(f\"highest 3 values are {numbers[-3:]}\")\n",
        "print(f\"lowest 3 values are  {numbers[:3]}\")"
      ],
      "execution_count": null,
      "outputs": [
        {
          "output_type": "stream",
          "name": "stdout",
          "text": [
            "highest 3 values are [8, 9, 0]\n",
            "lowest 3 values are  [1, 2, 3]\n"
          ]
        }
      ]
    },
    {
      "cell_type": "code",
      "metadata": {
        "colab": {
          "base_uri": "https://localhost:8080/"
        },
        "id": "MCKni9nwDtMC",
        "outputId": "8299df6e-195c-4d81-a0a4-f926358af088"
      },
      "source": [
        "#slicing with steps\n",
        "print(numbers[::2])"
      ],
      "execution_count": null,
      "outputs": [
        {
          "output_type": "stream",
          "name": "stdout",
          "text": [
            "[1, 3, 5, 7, 9]\n"
          ]
        }
      ]
    },
    {
      "cell_type": "code",
      "metadata": {
        "colab": {
          "base_uri": "https://localhost:8080/"
        },
        "id": "Iqz2aItwD_v-",
        "outputId": "3fa687f4-e419-41fe-93f3-60320e7ae7f4"
      },
      "source": [
        "print(numbers[:5:2])"
      ],
      "execution_count": null,
      "outputs": [
        {
          "output_type": "stream",
          "name": "stdout",
          "text": [
            "[1, 3, 5]\n"
          ]
        }
      ]
    },
    {
      "cell_type": "code",
      "metadata": {
        "colab": {
          "base_uri": "https://localhost:8080/"
        },
        "id": "Se-d9jL_ECwR",
        "outputId": "aba74e34-9dce-49df-e9d8-f689930a6fbd"
      },
      "source": [
        "#del in list\n",
        "print(numbers)"
      ],
      "execution_count": null,
      "outputs": [
        {
          "output_type": "stream",
          "name": "stdout",
          "text": [
            "[1, 2, 3, 4, 5, 6, 7, 8, 9, 0]\n"
          ]
        }
      ]
    },
    {
      "cell_type": "code",
      "metadata": {
        "colab": {
          "base_uri": "https://localhost:8080/"
        },
        "id": "O_vuGth7EnK3",
        "outputId": "40a479bd-3693-47bc-b4e5-059fca5516a4"
      },
      "source": [
        "del numbers[1::2]\n",
        "print(numbers)"
      ],
      "execution_count": null,
      "outputs": [
        {
          "output_type": "stream",
          "name": "stdout",
          "text": [
            "[1, 3, 5, 7, 9]\n"
          ]
        }
      ]
    },
    {
      "cell_type": "code",
      "metadata": {
        "id": "vaN-T_BZEza0",
        "colab": {
          "base_uri": "https://localhost:8080/"
        },
        "outputId": "eb24cf9e-61c1-4929-ef38-e57c571ec874"
      },
      "source": [
        "#sorting\n",
        "numbers_05 = [2,144, 323, 434,545, -34]\n",
        "sorted_numbers_05 = sorted(numbers_05)\n",
        "print(numbers_05,'\\n\\t', sorted_numbers_05)\n",
        "# sort in place\n",
        "numbers_05.sort()\n",
        "print(numbers_05)\n",
        "\n",
        "#sorting"
      ],
      "execution_count": 5,
      "outputs": [
        {
          "output_type": "stream",
          "name": "stdout",
          "text": [
            "[2, 144, 323, 434, 545, -34] \n",
            "\t [-34, 2, 144, 323, 434, 545]\n",
            "[-34, 2, 144, 323, 434, 545]\n"
          ]
        }
      ]
    },
    {
      "cell_type": "code",
      "metadata": {
        "colab": {
          "base_uri": "https://localhost:8080/"
        },
        "id": "22Uu4BioFUzV",
        "outputId": "3bc940cc-dffb-44ca-891a-47d94672d4f6"
      },
      "source": [
        "numbers_05 = [2,144, 323, 434,545, -34]\n",
        "if 144 in numbers_05:\n",
        "  print(\"is in\")\n",
        "\n",
        "if 100000 not in numbers_05:\n",
        "  print(\"not in\")\n",
        "\n",
        "mixed_list02 = [1,None,2,5]\n",
        "print(any(mixed_list02))\n",
        "mixed_list02=[]\n",
        "print(any(mixed_list02))\n",
        "\n"
      ],
      "execution_count": 6,
      "outputs": [
        {
          "output_type": "stream",
          "name": "stdout",
          "text": [
            "is in\n",
            "not in\n",
            "True\n",
            "False\n"
          ]
        }
      ]
    },
    {
      "cell_type": "code",
      "metadata": {
        "colab": {
          "base_uri": "https://localhost:8080/"
        },
        "id": "wHOc-1klF_NL",
        "outputId": "e81b1880-24e7-4fb5-9d6c-e5758105665a"
      },
      "source": [
        "mixed_list = [1,None,2,5]\n",
        "print(all(mixed_list))\n",
        "mixed_list[1] = 12\n",
        "print(all(mixed_list))\n"
      ],
      "execution_count": null,
      "outputs": [
        {
          "output_type": "stream",
          "name": "stdout",
          "text": [
            "False\n",
            "True\n"
          ]
        }
      ]
    },
    {
      "cell_type": "code",
      "metadata": {
        "id": "LGrjzTD_GhwQ"
      },
      "source": [
        "#stacks"
      ],
      "execution_count": null,
      "outputs": []
    },
    {
      "cell_type": "code",
      "metadata": {
        "id": "ofXT5Mu8Gz4x"
      },
      "source": [
        "#push (termology) -> pushng means inserting"
      ],
      "execution_count": null,
      "outputs": []
    },
    {
      "cell_type": "code",
      "metadata": {
        "colab": {
          "base_uri": "https://localhost:8080/",
          "height": 35
        },
        "id": "nUOnWxN3HXmm",
        "outputId": "f45336ef-e173-4576-e2f2-e72164639041"
      },
      "source": [
        "#pop items\n",
        "\n",
        "'''\n",
        "if I pop from stack, ie removing\n",
        "using LIFO - last in First out\n",
        "'''"
      ],
      "execution_count": null,
      "outputs": [
        {
          "output_type": "execute_result",
          "data": {
            "application/vnd.google.colaboratory.intrinsic+json": {
              "type": "string"
            },
            "text/plain": [
              "'\\nif I pop from stack, ie removing\\nusing LIFO - last in First out\\n'"
            ]
          },
          "metadata": {},
          "execution_count": 82
        }
      ]
    },
    {
      "cell_type": "code",
      "metadata": {
        "id": "S63McLVEI2MN"
      },
      "source": [
        "#queue (Array Implementation)"
      ],
      "execution_count": null,
      "outputs": []
    },
    {
      "cell_type": "code",
      "metadata": {
        "colab": {
          "base_uri": "https://localhost:8080/"
        },
        "id": "aokqOzw8I-mz",
        "outputId": "d60f4799-b4c4-4049-af69-89dca309c4a0"
      },
      "source": [
        "#stack with lsit\n",
        "stack = []\n",
        "\n",
        "#to push\n",
        "stack.append(10)\n",
        "stack.append(20)\n",
        "stack.append(30)\n",
        "\n",
        "print(stack)"
      ],
      "execution_count": null,
      "outputs": [
        {
          "output_type": "stream",
          "name": "stdout",
          "text": [
            "[10, 20, 30]\n"
          ]
        }
      ]
    },
    {
      "cell_type": "code",
      "metadata": {
        "colab": {
          "base_uri": "https://localhost:8080/"
        },
        "id": "hJ3-NvHVJks5",
        "outputId": "bad9f70b-c5ff-4a1f-d69b-080f65739dd1"
      },
      "source": [
        "stack.pop()"
      ],
      "execution_count": null,
      "outputs": [
        {
          "output_type": "execute_result",
          "data": {
            "text/plain": [
              "30"
            ]
          },
          "metadata": {},
          "execution_count": 85
        }
      ]
    },
    {
      "cell_type": "code",
      "metadata": {
        "colab": {
          "base_uri": "https://localhost:8080/"
        },
        "id": "KEyuWGQVJmU2",
        "outputId": "3d6e75ac-0fe2-444d-f872-aded30a76011"
      },
      "source": [
        "stack.pop()"
      ],
      "execution_count": null,
      "outputs": [
        {
          "output_type": "execute_result",
          "data": {
            "text/plain": [
              "20"
            ]
          },
          "metadata": {},
          "execution_count": 86
        }
      ]
    },
    {
      "cell_type": "code",
      "metadata": {
        "colab": {
          "base_uri": "https://localhost:8080/"
        },
        "id": "iamMgBqPJtta",
        "outputId": "c68271ff-ea5d-416c-afa0-5be9d70108b3"
      },
      "source": [
        "stack.pop()"
      ],
      "execution_count": null,
      "outputs": [
        {
          "output_type": "execute_result",
          "data": {
            "text/plain": [
              "10"
            ]
          },
          "metadata": {},
          "execution_count": 87
        }
      ]
    },
    {
      "cell_type": "code",
      "metadata": {
        "id": "P_8sidpeJu9p"
      },
      "source": [
        "#stack.pop() -> cant pop an empty stack it gives Index Error"
      ],
      "execution_count": null,
      "outputs": []
    },
    {
      "cell_type": "code",
      "metadata": {
        "id": "kKShcgSuJ5I3"
      },
      "source": [
        "#stack insert from the end and remove from the end"
      ],
      "execution_count": null,
      "outputs": []
    },
    {
      "cell_type": "code",
      "metadata": {
        "id": "8Ehe2nvKKYEo"
      },
      "source": [
        "#queue insert from the end and remove from the begining"
      ],
      "execution_count": null,
      "outputs": []
    },
    {
      "cell_type": "code",
      "metadata": {
        "id": "uHIO2-_kKd3W"
      },
      "source": [
        "#Dictonaries"
      ],
      "execution_count": null,
      "outputs": []
    },
    {
      "cell_type": "code",
      "metadata": {
        "colab": {
          "base_uri": "https://localhost:8080/"
        },
        "id": "dOXhMtf-Sbnm",
        "outputId": "c1606504-15b4-4552-90c8-2c9e94e80d36"
      },
      "source": [
        "'''key value\n",
        "\n",
        "key1 -> values\n",
        "\"one\" -> (........)\n",
        "key2 -> values\n",
        "\"two\" ->\n",
        "'''\n",
        "\n",
        "a_dictionary = {} # creating empty dictionary\n",
        "print(type(a_dictionary))\n",
        "\n",
        "a_dictionary = {} # creating empty dictionary\n",
        "print(type(a_dictionary))\n",
        "print(a_dictionary)\n",
        "\n",
        "#create dict with one key_value pair\n",
        "a_dictionary = {\"one\": 1}\n",
        "a_dictionary = {\"one\": [1,2]}\n",
        "a_dictionary = {\"one\": (1,2,3)}\n",
        "\n",
        "a_dictionary[\"one\"] = 12\n",
        "a_dictionary[\"two\"] = 12\n",
        "print(a_dictionary)\n",
        "\n",
        "a_dictionary[(1,2)] = 1200\n",
        "a_dictionary[(12)] = 1201\n",
        "a_dictionary[1.01] = 12.0101\n",
        "\n",
        "print(a_dictionary)"
      ],
      "execution_count": 8,
      "outputs": [
        {
          "output_type": "stream",
          "name": "stdout",
          "text": [
            "<class 'dict'>\n",
            "<class 'dict'>\n",
            "{}\n",
            "{'one': 12, 'two': 12}\n",
            "{'one': 12, 'two': 12, (1, 2): 1200, 12: 1201, 1.01: 12.0101}\n"
          ]
        }
      ]
    },
    {
      "cell_type": "code",
      "metadata": {
        "id": "hMSgDcv-Ttpn"
      },
      "source": [
        "#typeError -> unhashable ........"
      ],
      "execution_count": null,
      "outputs": []
    },
    {
      "cell_type": "code",
      "metadata": {
        "id": "JNMCA-p9UcYZ"
      },
      "source": [
        "dict_class = {\"one\": 12, \"two\": \"hi\", \"one\": 111}"
      ],
      "execution_count": 9,
      "outputs": []
    },
    {
      "cell_type": "code",
      "metadata": {
        "id": "GZvDQgKOV2K3",
        "outputId": "e729b8e5-2bd0-47fe-a640-70ef26712f4a",
        "colab": {
          "base_uri": "https://localhost:8080/"
        }
      },
      "source": [
        "dict_class"
      ],
      "execution_count": 10,
      "outputs": [
        {
          "output_type": "execute_result",
          "data": {
            "text/plain": [
              "{'one': 111, 'two': 'hi'}"
            ]
          },
          "metadata": {},
          "execution_count": 10
        }
      ]
    },
    {
      "cell_type": "code",
      "metadata": {
        "id": "PZeMz3rCV5Km"
      },
      "source": [
        ""
      ],
      "execution_count": null,
      "outputs": []
    }
  ]
}