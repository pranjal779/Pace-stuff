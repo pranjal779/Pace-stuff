{
  "nbformat": 4,
  "nbformat_minor": 0,
  "metadata": {
    "colab": {
      "name": "Class01--22/09/2021.ipynb",
      "provenance": [],
      "collapsed_sections": []
    },
    "kernelspec": {
      "name": "python3",
      "display_name": "Python 3"
    },
    "language_info": {
      "name": "python"
    }
  },
  "cells": [
    {
      "cell_type": "code",
      "metadata": {
        "colab": {
          "base_uri": "https://localhost:8080/"
        },
        "id": "aDjBRsUYosfF",
        "outputId": "bf549f83-cf26-4bde-80b2-10a2d77e72d3"
      },
      "source": [
        "print(1)\n"
      ],
      "execution_count": 2,
      "outputs": [
        {
          "output_type": "stream",
          "name": "stdout",
          "text": [
            "1\n"
          ]
        }
      ]
    },
    {
      "cell_type": "code",
      "metadata": {
        "colab": {
          "base_uri": "https://localhost:8080/"
        },
        "id": "SjC_SfBhytQw",
        "outputId": "4434eb3d-9780-4061-acdd-1c7bcbb16098"
      },
      "source": [
        "print(2)"
      ],
      "execution_count": 3,
      "outputs": [
        {
          "output_type": "stream",
          "name": "stdout",
          "text": [
            "2\n"
          ]
        }
      ]
    },
    {
      "cell_type": "code",
      "metadata": {
        "colab": {
          "base_uri": "https://localhost:8080/"
        },
        "id": "0gbv3_ddzExw",
        "outputId": "4a5a23b2-3281-4948-8e14-76c94cfd6430"
      },
      "source": [
        "print(3)"
      ],
      "execution_count": 4,
      "outputs": [
        {
          "output_type": "stream",
          "name": "stdout",
          "text": [
            "3\n"
          ]
        }
      ]
    },
    {
      "cell_type": "code",
      "metadata": {
        "colab": {
          "base_uri": "https://localhost:8080/"
        },
        "id": "cyY57a-TzHfg",
        "outputId": "66625aee-412d-407e-b738-10731107270e"
      },
      "source": [
        "print(4.01)"
      ],
      "execution_count": 6,
      "outputs": [
        {
          "output_type": "stream",
          "name": "stdout",
          "text": [
            "4.01\n"
          ]
        }
      ]
    },
    {
      "cell_type": "code",
      "metadata": {
        "colab": {
          "base_uri": "https://localhost:8080/"
        },
        "id": "pOK8TRLPzN-m",
        "outputId": "851db855-6240-4329-f0c6-e9138473a83c"
      },
      "source": [
        "print(\"hello\")"
      ],
      "execution_count": 7,
      "outputs": [
        {
          "output_type": "stream",
          "name": "stdout",
          "text": [
            "hello\n"
          ]
        }
      ]
    },
    {
      "cell_type": "code",
      "metadata": {
        "colab": {
          "base_uri": "https://localhost:8080/"
        },
        "id": "xqd5ZcUAzUiQ",
        "outputId": "d9436d65-c415-4ed5-c408-a6358e1f3611"
      },
      "source": [
        "name = \"Pranjal Shukla\"\n",
        "print(name)"
      ],
      "execution_count": 8,
      "outputs": [
        {
          "output_type": "stream",
          "name": "stdout",
          "text": [
            "Pranjal Shukla\n"
          ]
        }
      ]
    },
    {
      "cell_type": "code",
      "metadata": {
        "colab": {
          "base_uri": "https://localhost:8080/"
        },
        "id": "K5K-z86kzblR",
        "outputId": "d26670a8-4213-4c62-cc43-27ccf6fb2bf7"
      },
      "source": [
        "money = 100\n",
        "print(money)"
      ],
      "execution_count": 10,
      "outputs": [
        {
          "output_type": "stream",
          "name": "stdout",
          "text": [
            "100\n"
          ]
        }
      ]
    },
    {
      "cell_type": "code",
      "metadata": {
        "colab": {
          "base_uri": "https://localhost:8080/"
        },
        "id": "UinO23H1zrlm",
        "outputId": "0068bed9-64c7-40a7-9180-ce54d4b77697"
      },
      "source": [
        "conversion_rate = 10\n",
        "print(conversion_rate)"
      ],
      "execution_count": 11,
      "outputs": [
        {
          "output_type": "stream",
          "name": "stdout",
          "text": [
            "10\n"
          ]
        }
      ]
    },
    {
      "cell_type": "code",
      "metadata": {
        "colab": {
          "base_uri": "https://localhost:8080/"
        },
        "id": "puJLdzSc0KbM",
        "outputId": "f5d78bde-d92f-47ea-cd12-b13786d5618e"
      },
      "source": [
        "print(conversion_rate*money*conversion_rate)"
      ],
      "execution_count": 14,
      "outputs": [
        {
          "output_type": "stream",
          "name": "stdout",
          "text": [
            "10000\n"
          ]
        }
      ]
    },
    {
      "cell_type": "code",
      "metadata": {
        "colab": {
          "base_uri": "https://localhost:8080/"
        },
        "id": "Q2kGKg7b0e2C",
        "outputId": "b25cefd9-7315-4d92-fee4-dc1810d783f5"
      },
      "source": [
        "print(name)\n",
        "print(conversion_rate)"
      ],
      "execution_count": 13,
      "outputs": [
        {
          "output_type": "stream",
          "name": "stdout",
          "text": [
            "Pranjal Shukla\n",
            "10\n"
          ]
        }
      ]
    },
    {
      "cell_type": "code",
      "metadata": {
        "colab": {
          "base_uri": "https://localhost:8080/"
        },
        "id": "VfI42MtT0pYK",
        "outputId": "57405f7a-cb9b-4f57-8f8e-db5d68997bbf"
      },
      "source": [
        "conversion_rate_02 = conversion_rate * money\n",
        "print(name)\n",
        "print(conversion_rate_02)"
      ],
      "execution_count": 17,
      "outputs": [
        {
          "output_type": "stream",
          "name": "stdout",
          "text": [
            "Pranjal Shukla\n",
            "100000\n"
          ]
        }
      ]
    },
    {
      "cell_type": "code",
      "metadata": {
        "id": "7JecMHpR17nW"
      },
      "source": [
        ""
      ],
      "execution_count": null,
      "outputs": []
    }
  ]
}