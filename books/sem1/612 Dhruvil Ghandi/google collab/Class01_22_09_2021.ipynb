{
  "nbformat": 4,
  "nbformat_minor": 0,
  "metadata": {
    "colab": {
      "name": "Class01--22/09/2021.ipynb",
      "provenance": [],
      "collapsed_sections": []
    },
    "kernelspec": {
      "name": "python3",
      "display_name": "Python 3"
    },
    "language_info": {
      "name": "python"
    }
  },
  "cells": [
    {
      "cell_type": "code",
      "metadata": {
        "colab": {
          "base_uri": "https://localhost:8080/"
        },
        "id": "aDjBRsUYosfF",
        "outputId": "bf549f83-cf26-4bde-80b2-10a2d77e72d3"
      },
      "source": [
        "print(1)\n"
      ],
      "execution_count": 2,
      "outputs": [
        {
          "output_type": "stream",
          "name": "stdout",
          "text": [
            "1\n"
          ]
        }
      ]
    },
    {
      "cell_type": "code",
      "metadata": {
        "colab": {
          "base_uri": "https://localhost:8080/"
        },
        "id": "SjC_SfBhytQw",
        "outputId": "4434eb3d-9780-4061-acdd-1c7bcbb16098"
      },
      "source": [
        "print(2)"
      ],
      "execution_count": 3,
      "outputs": [
        {
          "output_type": "stream",
          "name": "stdout",
          "text": [
            "2\n"
          ]
        }
      ]
    },
    {
      "cell_type": "code",
      "metadata": {
        "colab": {
          "base_uri": "https://localhost:8080/"
        },
        "id": "0gbv3_ddzExw",
        "outputId": "4a5a23b2-3281-4948-8e14-76c94cfd6430"
      },
      "source": [
        "print(3)"
      ],
      "execution_count": 4,
      "outputs": [
        {
          "output_type": "stream",
          "name": "stdout",
          "text": [
            "3\n"
          ]
        }
      ]
    },
    {
      "cell_type": "code",
      "metadata": {
        "colab": {
          "base_uri": "https://localhost:8080/"
        },
        "id": "cyY57a-TzHfg",
        "outputId": "66625aee-412d-407e-b738-10731107270e"
      },
      "source": [
        "print(4.01)"
      ],
      "execution_count": 6,
      "outputs": [
        {
          "output_type": "stream",
          "name": "stdout",
          "text": [
            "4.01\n"
          ]
        }
      ]
    },
    {
      "cell_type": "code",
      "metadata": {
        "colab": {
          "base_uri": "https://localhost:8080/"
        },
        "id": "pOK8TRLPzN-m",
        "outputId": "851db855-6240-4329-f0c6-e9138473a83c"
      },
      "source": [
        "print(\"hello\")"
      ],
      "execution_count": 7,
      "outputs": [
        {
          "output_type": "stream",
          "name": "stdout",
          "text": [
            "hello\n"
          ]
        }
      ]
    },
    {
      "cell_type": "code",
      "metadata": {
        "colab": {
          "base_uri": "https://localhost:8080/"
        },
        "id": "xqd5ZcUAzUiQ",
        "outputId": "d9436d65-c415-4ed5-c408-a6358e1f3611"
      },
      "source": [
        "name = \"Pranjal Shukla\"\n",
        "print(name)"
      ],
      "execution_count": 8,
      "outputs": [
        {
          "output_type": "stream",
          "name": "stdout",
          "text": [
            "Pranjal Shukla\n"
          ]
        }
      ]
    },
    {
      "cell_type": "code",
      "metadata": {
        "colab": {
          "base_uri": "https://localhost:8080/"
        },
        "id": "K5K-z86kzblR",
        "outputId": "d26670a8-4213-4c62-cc43-27ccf6fb2bf7"
      },
      "source": [
        "money = 100\n",
        "print(money)"
      ],
      "execution_count": 10,
      "outputs": [
        {
          "output_type": "stream",
          "name": "stdout",
          "text": [
            "100\n"
          ]
        }
      ]
    },
    {
      "cell_type": "code",
      "metadata": {
        "colab": {
          "base_uri": "https://localhost:8080/"
        },
        "id": "UinO23H1zrlm",
        "outputId": "0068bed9-64c7-40a7-9180-ce54d4b77697"
      },
      "source": [
        "conversion_rate = 10\n",
        "print(conversion_rate)"
      ],
      "execution_count": 11,
      "outputs": [
        {
          "output_type": "stream",
          "name": "stdout",
          "text": [
            "10\n"
          ]
        }
      ]
    },
    {
      "cell_type": "code",
      "metadata": {
        "colab": {
          "base_uri": "https://localhost:8080/"
        },
        "id": "puJLdzSc0KbM",
        "outputId": "f5d78bde-d92f-47ea-cd12-b13786d5618e"
      },
      "source": [
        "print(conversion_rate*money*conversion_rate)"
      ],
      "execution_count": 14,
      "outputs": [
        {
          "output_type": "stream",
          "name": "stdout",
          "text": [
            "10000\n"
          ]
        }
      ]
    },
    {
      "cell_type": "code",
      "metadata": {
        "colab": {
          "base_uri": "https://localhost:8080/"
        },
        "id": "Q2kGKg7b0e2C",
        "outputId": "b25cefd9-7315-4d92-fee4-dc1810d783f5"
      },
      "source": [
        "print(name)\n",
        "print(conversion_rate)"
      ],
      "execution_count": 13,
      "outputs": [
        {
          "output_type": "stream",
          "name": "stdout",
          "text": [
            "Pranjal Shukla\n",
            "10\n"
          ]
        }
      ]
    },
    {
      "cell_type": "code",
      "metadata": {
        "colab": {
          "base_uri": "https://localhost:8080/"
        },
        "id": "VfI42MtT0pYK",
        "outputId": "57405f7a-cb9b-4f57-8f8e-db5d68997bbf"
      },
      "source": [
        "conversion_rate_02 = conversion_rate * money\n",
        "print(name)\n",
        "print(conversion_rate_02)"
      ],
      "execution_count": 17,
      "outputs": [
        {
          "output_type": "stream",
          "name": "stdout",
          "text": [
            "Pranjal Shukla\n",
            "100000\n"
          ]
        }
      ]
    },
    {
      "cell_type": "code",
      "metadata": {
        "colab": {
          "base_uri": "https://localhost:8080/"
        },
        "id": "7JecMHpR17nW",
        "outputId": "eb009c03-6070-4012-d1fd-788ca5afde61"
      },
      "source": [
        "print(name, money,\"hello\")"
      ],
      "execution_count": 18,
      "outputs": [
        {
          "output_type": "stream",
          "name": "stdout",
          "text": [
            "Pranjal Shukla 100 hello\n"
          ]
        }
      ]
    },
    {
      "cell_type": "code",
      "metadata": {
        "colab": {
          "base_uri": "https://localhost:8080/"
        },
        "id": "SUyFLc6w6e1I",
        "outputId": "f3089d0b-54c4-4c9f-99b8-8f218a786e9d"
      },
      "source": [
        "#escape character \\\n",
        "print(\"\\\"hello\\\"\")"
      ],
      "execution_count": 19,
      "outputs": [
        {
          "output_type": "stream",
          "name": "stdout",
          "text": [
            "\"hello\"\n"
          ]
        }
      ]
    },
    {
      "cell_type": "code",
      "metadata": {
        "id": "mWneBW8Y66Zm"
      },
      "source": [
        "#tab  \\t\n",
        "#indent \n",
        "#new line \\n\n",
        "#carriage return \\r"
      ],
      "execution_count": 20,
      "outputs": []
    },
    {
      "cell_type": "code",
      "metadata": {
        "colab": {
          "base_uri": "https://localhost:8080/"
        },
        "id": "qkupCea77Kgj",
        "outputId": "0c130fd0-289b-4b9f-b94f-ae8dc762eeb6"
      },
      "source": [
        "print(conversion_rate,\"\\n\",name)"
      ],
      "execution_count": 21,
      "outputs": [
        {
          "output_type": "stream",
          "name": "stdout",
          "text": [
            "1000 \n",
            " Pranjal Shukla\n"
          ]
        }
      ]
    },
    {
      "cell_type": "code",
      "metadata": {
        "colab": {
          "base_uri": "https://localhost:8080/"
        },
        "id": "ZtT_HL8h7P7O",
        "outputId": "c6ed646a-89ff-4073-8a5c-f7c7d2cd1870"
      },
      "source": [
        "print(conversion_rate,\"\\n\",name)"
      ],
      "execution_count": 24,
      "outputs": [
        {
          "output_type": "stream",
          "name": "stdout",
          "text": [
            "1000 \n",
            " Pranjal Shukla\n"
          ]
        }
      ]
    },
    {
      "cell_type": "code",
      "metadata": {
        "colab": {
          "base_uri": "https://localhost:8080/"
        },
        "id": "WMFpmKfl7TDk",
        "outputId": "d837f404-09ec-49db-c512-838ab89fe31c"
      },
      "source": [
        "print(conversion_rate,\"\\r\\n\",name)"
      ],
      "execution_count": 25,
      "outputs": [
        {
          "output_type": "stream",
          "name": "stdout",
          "text": [
            "1000 \r\n",
            " Pranjal Shukla\n"
          ]
        }
      ]
    },
    {
      "cell_type": "code",
      "metadata": {
        "id": "fOE1myQz7gDO"
      },
      "source": [
        "#type = inbuilt python function\n"
      ],
      "execution_count": 26,
      "outputs": []
    },
    {
      "cell_type": "code",
      "metadata": {
        "colab": {
          "base_uri": "https://localhost:8080/"
        },
        "id": "rxab2ygT7mGc",
        "outputId": "5f2b517f-d33b-47a8-aa75-f7d65988cb14"
      },
      "source": [
        "type(1)"
      ],
      "execution_count": 27,
      "outputs": [
        {
          "output_type": "execute_result",
          "data": {
            "text/plain": [
              "int"
            ]
          },
          "metadata": {},
          "execution_count": 27
        }
      ]
    },
    {
      "cell_type": "code",
      "metadata": {
        "colab": {
          "base_uri": "https://localhost:8080/"
        },
        "id": "79BQq8P17qHi",
        "outputId": "9ac2930f-d70a-47ad-d39f-3c2516ed4728"
      },
      "source": [
        "print(type(\"hello\"))"
      ],
      "execution_count": 28,
      "outputs": [
        {
          "output_type": "stream",
          "name": "stdout",
          "text": [
            "<class 'str'>\n"
          ]
        }
      ]
    },
    {
      "cell_type": "code",
      "metadata": {
        "id": "HV9EmrQq8tG7"
      },
      "source": [
        "an_integer = 10\n",
        "a_float = 10.0\n",
        "a_string = \"hello\""
      ],
      "execution_count": 29,
      "outputs": []
    },
    {
      "cell_type": "code",
      "metadata": {
        "colab": {
          "base_uri": "https://localhost:8080/"
        },
        "id": "RNvSQ5_j8_3l",
        "outputId": "aabfeda3-a671-4381-b9e9-13bf50a16b04"
      },
      "source": [
        "int(a_float) #float to integer int(variable_name)"
      ],
      "execution_count": 31,
      "outputs": [
        {
          "output_type": "execute_result",
          "data": {
            "text/plain": [
              "10"
            ]
          },
          "metadata": {},
          "execution_count": 31
        }
      ]
    },
    {
      "cell_type": "code",
      "metadata": {
        "colab": {
          "base_uri": "https://localhost:8080/"
        },
        "id": "OvlLZQC09CWQ",
        "outputId": "6ff161c1-4839-4eac-fbe5-642205f0dd4d"
      },
      "source": [
        "float(an_integer) #int to float"
      ],
      "execution_count": 32,
      "outputs": [
        {
          "output_type": "execute_result",
          "data": {
            "text/plain": [
              "10.0"
            ]
          },
          "metadata": {},
          "execution_count": 32
        }
      ]
    },
    {
      "cell_type": "code",
      "metadata": {
        "id": "ZDURmud69Lcr"
      },
      "source": [
        "a_numeric_string = '10'"
      ],
      "execution_count": 33,
      "outputs": []
    },
    {
      "cell_type": "code",
      "metadata": {
        "colab": {
          "base_uri": "https://localhost:8080/"
        },
        "id": "JI5cIqAj9cC4",
        "outputId": "137da8ac-8014-4a2a-aa8b-6843cdec0d76"
      },
      "source": [
        "int(a_numeric_string)"
      ],
      "execution_count": 34,
      "outputs": [
        {
          "output_type": "execute_result",
          "data": {
            "text/plain": [
              "10"
            ]
          },
          "metadata": {},
          "execution_count": 34
        }
      ]
    },
    {
      "cell_type": "code",
      "metadata": {
        "colab": {
          "base_uri": "https://localhost:8080/"
        },
        "id": "AA6sCMM-9eYN",
        "outputId": "48af056a-faec-4c41-cd3b-d0c3b8d6e014"
      },
      "source": [
        "bool(a_numeric_string)"
      ],
      "execution_count": 35,
      "outputs": [
        {
          "output_type": "execute_result",
          "data": {
            "text/plain": [
              "True"
            ]
          },
          "metadata": {},
          "execution_count": 35
        }
      ]
    },
    {
      "cell_type": "code",
      "metadata": {
        "colab": {
          "base_uri": "https://localhost:8080/"
        },
        "id": "1GJUXpcw9hg8",
        "outputId": "221fce06-b178-4580-cc6c-ac3687f73d99"
      },
      "source": [
        "float(a_numeric_string)"
      ],
      "execution_count": 36,
      "outputs": [
        {
          "output_type": "execute_result",
          "data": {
            "text/plain": [
              "10.0"
            ]
          },
          "metadata": {},
          "execution_count": 36
        }
      ]
    },
    {
      "cell_type": "code",
      "metadata": {
        "id": "koL-ax4f9jr9"
      },
      "source": [
        "float(a_numeric_string)\n",
        "a_b_c = None"
      ],
      "execution_count": 39,
      "outputs": []
    },
    {
      "cell_type": "code",
      "metadata": {
        "colab": {
          "base_uri": "https://localhost:8080/"
        },
        "id": "Mo7ekhFl9qjS",
        "outputId": "632d9c05-e30e-4735-fb77-6c6784537448"
      },
      "source": [
        "bool(a_b_c)"
      ],
      "execution_count": 40,
      "outputs": [
        {
          "output_type": "execute_result",
          "data": {
            "text/plain": [
              "False"
            ]
          },
          "metadata": {},
          "execution_count": 40
        }
      ]
    },
    {
      "cell_type": "code",
      "metadata": {
        "colab": {
          "base_uri": "https://localhost:8080/",
          "height": 52
        },
        "id": "4xfRU8Jp-9Ac",
        "outputId": "f4258f38-4ca1-4aa6-f036-d887d0f0af62"
      },
      "source": [
        "input()"
      ],
      "execution_count": 41,
      "outputs": [
        {
          "name": "stdout",
          "output_type": "stream",
          "text": [
            "fadfadfaf\n"
          ]
        },
        {
          "output_type": "execute_result",
          "data": {
            "application/vnd.google.colaboratory.intrinsic+json": {
              "type": "string"
            },
            "text/plain": [
              "'fadfadfaf'"
            ]
          },
          "metadata": {},
          "execution_count": 41
        }
      ]
    },
    {
      "cell_type": "code",
      "metadata": {
        "colab": {
          "base_uri": "https://localhost:8080/",
          "height": 52
        },
        "id": "9RsKRtV_BEqS",
        "outputId": "49352973-9a23-43a0-fa8a-9fccdfc2f152"
      },
      "source": [
        "#input with prompt\n",
        "input(\"what dfadfa?\")"
      ],
      "execution_count": 42,
      "outputs": [
        {
          "name": "stdout",
          "output_type": "stream",
          "text": [
            "what dfadfa?afdsfafd\n"
          ]
        },
        {
          "output_type": "execute_result",
          "data": {
            "application/vnd.google.colaboratory.intrinsic+json": {
              "type": "string"
            },
            "text/plain": [
              "'afdsfafd'"
            ]
          },
          "metadata": {},
          "execution_count": 42
        }
      ]
    },
    {
      "cell_type": "code",
      "metadata": {
        "colab": {
          "base_uri": "https://localhost:8080/"
        },
        "id": "NgHTmtVPBVv_",
        "outputId": "177dd81d-e127-4863-a474-0b91b358d40a"
      },
      "source": [
        "#storing input to variabl\n",
        "first_name = input()"
      ],
      "execution_count": 43,
      "outputs": [
        {
          "name": "stdout",
          "output_type": "stream",
          "text": [
            "Pranjal\n"
          ]
        }
      ]
    },
    {
      "cell_type": "code",
      "metadata": {
        "colab": {
          "base_uri": "https://localhost:8080/"
        },
        "id": "5WiZCZ6YBnMJ",
        "outputId": "c2a893d9-04d0-4861-eb72-648f87ae9aaa"
      },
      "source": [
        "print(first_name)"
      ],
      "execution_count": 44,
      "outputs": [
        {
          "output_type": "stream",
          "name": "stdout",
          "text": [
            "Pranjal\n"
          ]
        }
      ]
    },
    {
      "cell_type": "code",
      "metadata": {
        "colab": {
          "base_uri": "https://localhost:8080/"
        },
        "id": "g9DXGSYiBrCP",
        "outputId": "45d1c4b5-8d47-407d-8ddc-ec7c891b4884"
      },
      "source": [
        "last_name = input(\"what is ur last name: \")"
      ],
      "execution_count": 48,
      "outputs": [
        {
          "name": "stdout",
          "output_type": "stream",
          "text": [
            "what is ur last name: Shukla\n"
          ]
        }
      ]
    },
    {
      "cell_type": "code",
      "metadata": {
        "colab": {
          "base_uri": "https://localhost:8080/"
        },
        "id": "_b0WUX_pB0pO",
        "outputId": "2a338585-6a74-4ebf-c0de-7d0b5d620fc7"
      },
      "source": [
        "print(\"Hello\", first_name)"
      ],
      "execution_count": 49,
      "outputs": [
        {
          "output_type": "stream",
          "name": "stdout",
          "text": [
            "Hello Pranjal\n"
          ]
        }
      ]
    },
    {
      "cell_type": "code",
      "metadata": {
        "colab": {
          "base_uri": "https://localhost:8080/"
        },
        "id": "4txbFNqpCWk_",
        "outputId": "96c1fda9-61f5-4206-d2d2-958ff6ed36c2"
      },
      "source": [
        "print(\"hello \" + first_name + \" \" + last_name) #concanated"
      ],
      "execution_count": 51,
      "outputs": [
        {
          "output_type": "stream",
          "name": "stdout",
          "text": [
            "hello Pranjal Shukla\n"
          ]
        }
      ]
    },
    {
      "cell_type": "code",
      "metadata": {
        "colab": {
          "base_uri": "https://localhost:8080/"
        },
        "id": "ysFAZ2blCczP",
        "outputId": "a7f27480-7138-4cb6-a9d4-1b68382faa83"
      },
      "source": [
        "print(f'Hello {first_name} {last_name}')"
      ],
      "execution_count": 52,
      "outputs": [
        {
          "output_type": "stream",
          "name": "stdout",
          "text": [
            "Hello Pranjal Shukla\n"
          ]
        }
      ]
    },
    {
      "cell_type": "code",
      "metadata": {
        "colab": {
          "base_uri": "https://localhost:8080/"
        },
        "id": "VCnUXMMXCvpz",
        "outputId": "304b2ce0-fcbb-4248-da64-c35a73617478"
      },
      "source": [
        "days = 10\n",
        "date_remaining = 30 - int(days)\n",
        "print(date_remaining)"
      ],
      "execution_count": 56,
      "outputs": [
        {
          "output_type": "stream",
          "name": "stdout",
          "text": [
            "20\n"
          ]
        }
      ]
    },
    {
      "cell_type": "code",
      "metadata": {
        "id": "F16Z6WSvDS39"
      },
      "source": [
        ""
      ],
      "execution_count": null,
      "outputs": []
    }
  ]
}