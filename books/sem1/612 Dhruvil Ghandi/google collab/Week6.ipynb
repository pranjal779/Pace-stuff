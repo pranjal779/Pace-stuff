{
  "nbformat": 4,
  "nbformat_minor": 0,
  "metadata": {
    "colab": {
      "name": "Week6.ipynb",
      "provenance": []
    },
    "kernelspec": {
      "name": "python3",
      "display_name": "Python 3"
    },
    "language_info": {
      "name": "python"
    }
  },
  "cells": [
    {
      "cell_type": "code",
      "metadata": {
        "id": "eAjwhUcUt8b7"
      },
      "source": [
        "def fuction_name(parameter1, parameter_default=2, parameter2=None):\n",
        "  \"\"\"Doc string: the comments about function\"\"\"\n",
        "  parameter3 = parameter1\n",
        "  return return_parameter\n",
        "\n",
        "\n",
        "a_variable = function_name('a',3,33)\n",
        "variable2 = function_name('b')\n",
        "variable3 = function_name('a',parameter2=400)"
      ],
      "execution_count": null,
      "outputs": []
    },
    {
      "cell_type": "code",
      "metadata": {
        "id": "YODVuUJizUQa"
      },
      "source": [
        "def min_max(value1, value2, value3):\n",
        "  if value1 < value2:\n",
        "    if value3 < value1:\n",
        "      min = value3\n",
        "    else:\n",
        "      min = value1\n",
        "  else:\n",
        "    if value3 < value2:\n",
        "      min = value3\n",
        "    else:\n",
        "      min = value2\n",
        "\n",
        "  if value1 > value2:\n",
        "    if value3 > value1:\n",
        "      max = value3\n",
        "    else:\n",
        "      max = value1\n",
        "  else:\n",
        "    if value3 > value2:\n",
        "      max = value3\n",
        "    else:\n",
        "      max = value2\n",
        "  return min, max"
      ],
      "execution_count": 1,
      "outputs": []
    },
    {
      "cell_type": "code",
      "metadata": {
        "colab": {
          "base_uri": "https://localhost:8080/"
        },
        "id": "vKeYna_B0DFu",
        "outputId": "384d3285-b171-4b3b-a913-0203ec8adaf5"
      },
      "source": [
        "min_max(0,1,2)"
      ],
      "execution_count": 2,
      "outputs": [
        {
          "output_type": "execute_result",
          "data": {
            "text/plain": [
              "(0, 2)"
            ]
          },
          "metadata": {},
          "execution_count": 2
        }
      ]
    },
    {
      "cell_type": "code",
      "metadata": {
        "colab": {
          "base_uri": "https://localhost:8080/"
        },
        "id": "kE4ZWUue0IW4",
        "outputId": "ed13310a-fcb4-4f23-8e0c-d00e9087e267"
      },
      "source": [
        "min_value, max_value = min_max(1,2,3)\n",
        "print(f'{min_value} and {max_value}')"
      ],
      "execution_count": 3,
      "outputs": [
        {
          "output_type": "stream",
          "name": "stdout",
          "text": [
            "1 and 3\n"
          ]
        }
      ]
    },
    {
      "cell_type": "code",
      "metadata": {
        "id": "WkbJdA4400G1"
      },
      "source": [
        "import random #importing random module"
      ],
      "execution_count": 4,
      "outputs": []
    },
    {
      "cell_type": "code",
      "metadata": {
        "colab": {
          "base_uri": "https://localhost:8080/"
        },
        "id": "q6OzQTNi055j",
        "outputId": "01240eff-5992-475e-b3d4-eb2d93c6f635"
      },
      "source": [
        "# random.randrange(start,end_exclusive)\n",
        "# a random number between start and end_exclusive\n",
        "\n",
        "random.randrange(1,7)"
      ],
      "execution_count": 30,
      "outputs": [
        {
          "output_type": "execute_result",
          "data": {
            "text/plain": [
              "1"
            ]
          },
          "metadata": {},
          "execution_count": 30
        }
      ]
    },
    {
      "cell_type": "code",
      "metadata": {
        "id": "RrlsN8ff2QET"
      },
      "source": [
        "import math"
      ],
      "execution_count": 31,
      "outputs": []
    },
    {
      "cell_type": "code",
      "metadata": {
        "colab": {
          "base_uri": "https://localhost:8080/"
        },
        "id": "5C-qpND-2Vol",
        "outputId": "52a652e6-7804-4e54-dcad-bdbff49d1b52"
      },
      "source": [
        "math.factorial(10)"
      ],
      "execution_count": 32,
      "outputs": [
        {
          "output_type": "execute_result",
          "data": {
            "text/plain": [
              "3628800"
            ]
          },
          "metadata": {},
          "execution_count": 32
        }
      ]
    },
    {
      "cell_type": "code",
      "metadata": {
        "id": "Rqmol-fe2asH"
      },
      "source": [
        "def factorial(num):\n",
        "  if num == 1:\n",
        "    return 1\n",
        "  else:\n",
        "    while num>1:\n",
        "      return num*factorial(num-1)"
      ],
      "execution_count": 33,
      "outputs": []
    },
    {
      "cell_type": "code",
      "metadata": {
        "colab": {
          "base_uri": "https://localhost:8080/"
        },
        "id": "50Zm2-X92mFx",
        "outputId": "11b07177-55ca-48f7-d5e4-13e396c059d6"
      },
      "source": [
        "factorial(10)"
      ],
      "execution_count": 34,
      "outputs": [
        {
          "output_type": "execute_result",
          "data": {
            "text/plain": [
              "3628800"
            ]
          },
          "metadata": {},
          "execution_count": 34
        }
      ]
    },
    {
      "cell_type": "code",
      "metadata": {
        "colab": {
          "base_uri": "https://localhost:8080/"
        },
        "id": "vLT9n6aI26BZ",
        "outputId": "1d1dfed5-bb1e-4cad-8e2f-3dfbbb859651"
      },
      "source": [
        "math.sqrt(16)"
      ],
      "execution_count": 36,
      "outputs": [
        {
          "output_type": "execute_result",
          "data": {
            "text/plain": [
              "4.0"
            ]
          },
          "metadata": {},
          "execution_count": 36
        }
      ]
    },
    {
      "cell_type": "code",
      "metadata": {
        "colab": {
          "base_uri": "https://localhost:8080/"
        },
        "id": "dD5Szxza7s-v",
        "outputId": "ad4c88a0-a3ed-44ca-a604-c485b2602c75"
      },
      "source": [
        "n = 10\n",
        "print(n)\n",
        "def try_function():\n",
        "  # global x;\n",
        "  # x = 11\n",
        "  print(n)\n",
        "n = 12\n",
        "try_function()\n",
        "n = 13\n",
        "print(n)"
      ],
      "execution_count": 47,
      "outputs": [
        {
          "output_type": "stream",
          "name": "stdout",
          "text": [
            "13\n",
            "12\n",
            "13\n"
          ]
        }
      ]
    },
    {
      "cell_type": "code",
      "metadata": {
        "colab": {
          "base_uri": "https://localhost:8080/"
        },
        "id": "9ULdobRk8kzG",
        "outputId": "6711db87-3f3c-42d2-c6b2-a79650da24dc"
      },
      "source": [
        "n = 10\n",
        "print(n)\n",
        "def try_function():\n",
        "  global n;\n",
        "  n = 11\n",
        "  print(n)\n",
        "n = 12\n",
        "try_function()\n",
        "n = 13\n",
        "print(n)"
      ],
      "execution_count": 50,
      "outputs": [
        {
          "output_type": "stream",
          "name": "stdout",
          "text": [
            "10\n",
            "11\n",
            "13\n"
          ]
        }
      ]
    },
    {
      "cell_type": "code",
      "metadata": {
        "colab": {
          "base_uri": "https://localhost:8080/"
        },
        "id": "y5-ho9wi9LzQ",
        "outputId": "3b33093e-a792-42a8-bafa-01d74fda0ecf"
      },
      "source": [
        "name = \"Dhruv\"\n",
        "def change_name():\n",
        "  global name;\n",
        "  name = \"IS 612\"\n",
        "change_name()\n",
        "print(name)"
      ],
      "execution_count": 55,
      "outputs": [
        {
          "output_type": "stream",
          "name": "stdout",
          "text": [
            "IS 612\n"
          ]
        }
      ]
    },
    {
      "cell_type": "code",
      "metadata": {
        "id": "4mM9Aq07-jiX"
      },
      "source": [
        "from math import sqrt, fabs\n",
        "# import math == \n",
        "from math import *"
      ],
      "execution_count": 59,
      "outputs": []
    },
    {
      "cell_type": "code",
      "metadata": {
        "colab": {
          "base_uri": "https://localhost:8080/"
        },
        "id": "MvaWd2wK-t-F",
        "outputId": "877422f8-d0ee-4191-8527-62d26c815f22"
      },
      "source": [
        "sqrt(200)"
      ],
      "execution_count": 58,
      "outputs": [
        {
          "output_type": "execute_result",
          "data": {
            "text/plain": [
              "14.142135623730951"
            ]
          },
          "metadata": {},
          "execution_count": 58
        }
      ]
    },
    {
      "cell_type": "code",
      "metadata": {
        "id": "FztWLB4J_XUR"
      },
      "source": [
        "import math as magic"
      ],
      "execution_count": 60,
      "outputs": []
    },
    {
      "cell_type": "code",
      "metadata": {
        "colab": {
          "base_uri": "https://localhost:8080/"
        },
        "id": "V9BuozLY_Z_9",
        "outputId": "a9e881be-40aa-4858-efce-c22f49164277"
      },
      "source": [
        "magic.sqrt(16)"
      ],
      "execution_count": 61,
      "outputs": [
        {
          "output_type": "execute_result",
          "data": {
            "text/plain": [
              "4.0"
            ]
          },
          "metadata": {},
          "execution_count": 61
        }
      ]
    },
    {
      "cell_type": "code",
      "metadata": {
        "id": "Wc4sc2Q0_hGx"
      },
      "source": [
        "from math import sqrt as magic"
      ],
      "execution_count": 62,
      "outputs": []
    },
    {
      "cell_type": "code",
      "metadata": {
        "colab": {
          "base_uri": "https://localhost:8080/"
        },
        "id": "1b1UEe_D_jkL",
        "outputId": "c54a791a-7eae-45ab-aef3-17fd439ca5dd"
      },
      "source": [
        "magic(16)"
      ],
      "execution_count": 63,
      "outputs": [
        {
          "output_type": "execute_result",
          "data": {
            "text/plain": [
              "4.0"
            ]
          },
          "metadata": {},
          "execution_count": 63
        }
      ]
    },
    {
      "cell_type": "code",
      "metadata": {
        "colab": {
          "base_uri": "https://localhost:8080/"
        },
        "id": "qzcCun5pADty",
        "outputId": "599704c7-0b3e-4c32-8f6b-88e611871f53"
      },
      "source": [
        "x = 10\n",
        "print(id(x))\n",
        "x = 11\n",
        "print(id(x))"
      ],
      "execution_count": 67,
      "outputs": [
        {
          "output_type": "stream",
          "name": "stdout",
          "text": [
            "94689454181152\n",
            "94689454181184\n"
          ]
        }
      ]
    },
    {
      "cell_type": "code",
      "metadata": {
        "colab": {
          "base_uri": "https://localhost:8080/"
        },
        "id": "XKJ-bUdmAmgg",
        "outputId": "ab52d4f8-e87d-4a54-f1fa-35a83f1fe58e"
      },
      "source": [
        "ord(\"0\")"
      ],
      "execution_count": 70,
      "outputs": [
        {
          "output_type": "execute_result",
          "data": {
            "text/plain": [
              "48"
            ]
          },
          "metadata": {},
          "execution_count": 70
        }
      ]
    },
    {
      "cell_type": "code",
      "metadata": {
        "colab": {
          "base_uri": "https://localhost:8080/"
        },
        "id": "aekH5423CLql",
        "outputId": "dd8821fb-c45f-4747-cf23-26bc71b4fb70"
      },
      "source": [
        "a_list = [] #-> empty list\n",
        "type(a_list)"
      ],
      "execution_count": 71,
      "outputs": [
        {
          "output_type": "execute_result",
          "data": {
            "text/plain": [
              "list"
            ]
          },
          "metadata": {},
          "execution_count": 71
        }
      ]
    },
    {
      "cell_type": "code",
      "metadata": {
        "id": "eNtwrdblCUiA"
      },
      "source": [
        "a_list = [1,2,3,4,5,6,7]\n",
        "a_list = [\"a\",\"b\",\"c\", \"d\"]\n",
        "a_list = [True, False, True, False, False, True]\n",
        "another_list = [1, \"abc\", Ture, 10.3]\n",
        "list_of_list = [[1,2], [2,3] , [3,4]]"
      ],
      "execution_count": null,
      "outputs": []
    },
    {
      "cell_type": "code",
      "metadata": {
        "id": "ibfku0DAC2LO"
      },
      "source": [
        "a_list = [(0,1), (1,2)]"
      ],
      "execution_count": 72,
      "outputs": []
    },
    {
      "cell_type": "code",
      "metadata": {
        "colab": {
          "base_uri": "https://localhost:8080/",
          "height": 35
        },
        "id": "dkTRCOySC7kD",
        "outputId": "a6f18135-0163-4801-bd3a-50249d568e3d"
      },
      "source": [
        "a_list = [\"a\", \"b\", \"c\"]\n",
        "a_list[0] # 0 is the index here\n"
      ],
      "execution_count": 74,
      "outputs": [
        {
          "output_type": "execute_result",
          "data": {
            "application/vnd.google.colaboratory.intrinsic+json": {
              "type": "string"
            },
            "text/plain": [
              "'a'"
            ]
          },
          "metadata": {},
          "execution_count": 74
        }
      ]
    },
    {
      "cell_type": "code",
      "metadata": {
        "colab": {
          "base_uri": "https://localhost:8080/",
          "height": 35
        },
        "id": "KokRNqgQDVAZ",
        "outputId": "bcdf062c-b33b-47a3-e377-025761103ac1"
      },
      "source": [
        "a_list[1]\n",
        "# https://csis.pace.edu/~dgandhi/IS612/ch05/05_02.html"
      ],
      "execution_count": 75,
      "outputs": [
        {
          "output_type": "execute_result",
          "data": {
            "application/vnd.google.colaboratory.intrinsic+json": {
              "type": "string"
            },
            "text/plain": [
              "'b'"
            ]
          },
          "metadata": {},
          "execution_count": 75
        }
      ]
    },
    {
      "cell_type": "code",
      "metadata": {
        "colab": {
          "base_uri": "https://localhost:8080/"
        },
        "id": "FC-2l9rSDgXb",
        "outputId": "77cc9a87-6cb2-49ef-a0f9-bba7e5bdde13"
      },
      "source": [
        "# length \n",
        "length_of_list = len(a_list)\n",
        "print(length_of_list)"
      ],
      "execution_count": 78,
      "outputs": [
        {
          "output_type": "stream",
          "name": "stdout",
          "text": [
            "3\n"
          ]
        }
      ]
    },
    {
      "cell_type": "code",
      "metadata": {
        "colab": {
          "base_uri": "https://localhost:8080/"
        },
        "id": "G-KO4c9QDwyl",
        "outputId": "efc74902-99e9-4a7c-990d-e36e367235a6"
      },
      "source": [
        "# mutable\n",
        "print(a_list)\n",
        "a_list[2] = 1000\n",
        "print(a_list)"
      ],
      "execution_count": 79,
      "outputs": [
        {
          "output_type": "stream",
          "name": "stdout",
          "text": [
            "['a', 'b', 'c']\n",
            "['a', 'b', 1000]\n"
          ]
        }
      ]
    },
    {
      "cell_type": "code",
      "metadata": {
        "colab": {
          "base_uri": "https://localhost:8080/"
        },
        "id": "CdsBc3cHD-k5",
        "outputId": "7e7009bb-af85-4bdd-95d8-7160928ce50c"
      },
      "source": [
        "#loop over list\n",
        "for item in a_list:\n",
        "  print(item)\n",
        "  print(id(item))"
      ],
      "execution_count": 82,
      "outputs": [
        {
          "output_type": "stream",
          "name": "stdout",
          "text": [
            "a\n",
            "140067758523888\n",
            "b\n",
            "140067758365424\n",
            "1000\n",
            "140067063790768\n"
          ]
        }
      ]
    },
    {
      "cell_type": "code",
      "metadata": {
        "colab": {
          "base_uri": "https://localhost:8080/",
          "height": 201
        },
        "id": "vxMUXLKjEsG7",
        "outputId": "b2bb4d9b-7ddb-47c6-c250-faaa0a2afbeb"
      },
      "source": [
        "a_list[4]"
      ],
      "execution_count": 85,
      "outputs": [
        {
          "output_type": "error",
          "ename": "IndexError",
          "evalue": "ignored",
          "traceback": [
            "\u001b[0;31m---------------------------------------------------------------------------\u001b[0m",
            "\u001b[0;31mIndexError\u001b[0m                                Traceback (most recent call last)",
            "\u001b[0;32m<ipython-input-85-8cb06dd5f24e>\u001b[0m in \u001b[0;36m<module>\u001b[0;34m()\u001b[0m\n\u001b[0;32m----> 1\u001b[0;31m \u001b[0ma_list\u001b[0m\u001b[0;34m[\u001b[0m\u001b[0;36m4\u001b[0m\u001b[0;34m]\u001b[0m\u001b[0;34m\u001b[0m\u001b[0;34m\u001b[0m\u001b[0m\n\u001b[0m",
            "\u001b[0;31mIndexError\u001b[0m: list index out of range"
          ]
        }
      ]
    },
    {
      "cell_type": "code",
      "metadata": {
        "id": "sKBaoz-nFFJU"
      },
      "source": [
        "create a list with 5 items\n",
        "loop over the list to print items\n",
        "modify value at index 3"
      ],
      "execution_count": null,
      "outputs": []
    }
  ]
}