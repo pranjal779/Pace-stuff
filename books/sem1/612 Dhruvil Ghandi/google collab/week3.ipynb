{
  "nbformat": 4,
  "nbformat_minor": 0,
  "metadata": {
    "colab": {
      "name": "Untitled6.ipynb",
      "provenance": []
    },
    "kernelspec": {
      "name": "python3",
      "display_name": "Python 3"
    },
    "language_info": {
      "name": "python"
    }
  },
  "cells": [
    {
      "cell_type": "code",
      "metadata": {
        "colab": {
          "base_uri": "https://localhost:8080/"
        },
        "id": "a4jlgFBAoTqD",
        "outputId": "f42773d0-1f06-4d73-a5b4-0d828ebc6ecf"
      },
      "source": [
        "2\n",
        "2\n",
        "43\n"
      ],
      "execution_count": null,
      "outputs": [
        {
          "output_type": "execute_result",
          "data": {
            "text/plain": [
              "43"
            ]
          },
          "metadata": {},
          "execution_count": 2
        }
      ]
    },
    {
      "cell_type": "code",
      "metadata": {
        "colab": {
          "base_uri": "https://localhost:8080/"
        },
        "id": "0BvgtjIsonZh",
        "outputId": "ae701da6-1e54-4d4a-adbb-d8c3981bb13f"
      },
      "source": [
        "import this"
      ],
      "execution_count": null,
      "outputs": [
        {
          "output_type": "stream",
          "name": "stdout",
          "text": [
            "The Zen of Python, by Tim Peters\n",
            "\n",
            "Beautiful is better than ugly.\n",
            "Explicit is better than implicit.\n",
            "Simple is better than complex.\n",
            "Complex is better than complicated.\n",
            "Flat is better than nested.\n",
            "Sparse is better than dense.\n",
            "Readability counts.\n",
            "Special cases aren't special enough to break the rules.\n",
            "Although practicality beats purity.\n",
            "Errors should never pass silently.\n",
            "Unless explicitly silenced.\n",
            "In the face of ambiguity, refuse the temptation to guess.\n",
            "There should be one-- and preferably only one --obvious way to do it.\n",
            "Although that way may not be obvious at first unless you're Dutch.\n",
            "Now is better than never.\n",
            "Although never is often better than *right* now.\n",
            "If the implementation is hard to explain, it's a bad idea.\n",
            "If the implementation is easy to explain, it may be a good idea.\n",
            "Namespaces are one honking great idea -- let's do more of those!\n"
          ]
        }
      ]
    },
    {
      "cell_type": "code",
      "metadata": {
        "colab": {
          "base_uri": "https://localhost:8080/"
        },
        "id": "LOuFw-vTpRC6",
        "outputId": "52bea300-dc8e-4423-8136-276f98bb9078"
      },
      "source": [
        "print(2.001)"
      ],
      "execution_count": null,
      "outputs": [
        {
          "output_type": "stream",
          "name": "stdout",
          "text": [
            "2.001\n"
          ]
        }
      ]
    },
    {
      "cell_type": "code",
      "metadata": {
        "colab": {
          "base_uri": "https://localhost:8080/"
        },
        "id": "2RNLg5Pjpxzq",
        "outputId": "a3b7ba56-d7f5-4d7d-a151-f60433d2d053"
      },
      "source": [
        "print(10)"
      ],
      "execution_count": null,
      "outputs": [
        {
          "output_type": "stream",
          "name": "stdout",
          "text": [
            "10\n"
          ]
        }
      ]
    },
    {
      "cell_type": "code",
      "metadata": {
        "colab": {
          "base_uri": "https://localhost:8080/"
        },
        "id": "B59rWgzSpzZ3",
        "outputId": "f7e749ac-7dac-48e2-d974-4a2ad0704400"
      },
      "source": [
        "print(-10)"
      ],
      "execution_count": null,
      "outputs": [
        {
          "output_type": "stream",
          "name": "stdout",
          "text": [
            "-10\n"
          ]
        }
      ]
    },
    {
      "cell_type": "code",
      "metadata": {
        "colab": {
          "base_uri": "https://localhost:8080/"
        },
        "id": "qjkgK-Ixp1q7",
        "outputId": "67479620-9f95-4df2-e394-3f522e48fd2f"
      },
      "source": [
        "print(\"This\")"
      ],
      "execution_count": null,
      "outputs": [
        {
          "output_type": "stream",
          "name": "stdout",
          "text": [
            "This\n"
          ]
        }
      ]
    },
    {
      "cell_type": "code",
      "metadata": {
        "id": "TRa2MOkxp44V"
      },
      "source": [
        "#\"\""
      ],
      "execution_count": null,
      "outputs": []
    },
    {
      "cell_type": "code",
      "metadata": {
        "id": "uz-65XudqBuA"
      },
      "source": [
        "#''"
      ],
      "execution_count": null,
      "outputs": []
    },
    {
      "cell_type": "code",
      "metadata": {
        "id": "YqV4QyHbqCoo"
      },
      "source": [
        "#''' here '''"
      ],
      "execution_count": null,
      "outputs": []
    },
    {
      "cell_type": "code",
      "metadata": {
        "colab": {
          "base_uri": "https://localhost:8080/"
        },
        "id": "z6nu1bGcqE-9",
        "outputId": "9253b009-5738-4177-b2fe-953106ae11b5"
      },
      "source": [
        "print('hi')"
      ],
      "execution_count": null,
      "outputs": [
        {
          "output_type": "stream",
          "name": "stdout",
          "text": [
            "hi\n"
          ]
        }
      ]
    },
    {
      "cell_type": "code",
      "metadata": {
        "colab": {
          "base_uri": "https://localhost:8080/"
        },
        "id": "t47gwZr2qPEu",
        "outputId": "40e7c343-7dde-4373-a6fc-5209af76f3b5"
      },
      "source": [
        "print(\"hi\")"
      ],
      "execution_count": null,
      "outputs": [
        {
          "output_type": "stream",
          "name": "stdout",
          "text": [
            "hi\n"
          ]
        }
      ]
    },
    {
      "cell_type": "code",
      "metadata": {
        "colab": {
          "base_uri": "https://localhost:8080/"
        },
        "id": "u5V5PqMCqQ24",
        "outputId": "f7c73388-cf92-4b86-f041-b5297a05a440"
      },
      "source": [
        "print('''hi''')"
      ],
      "execution_count": null,
      "outputs": [
        {
          "output_type": "stream",
          "name": "stdout",
          "text": [
            "hi\n"
          ]
        }
      ]
    },
    {
      "cell_type": "code",
      "metadata": {
        "colab": {
          "base_uri": "https://localhost:8080/"
        },
        "id": "nVfJJ8rRqS-J",
        "outputId": "dedeb650-7604-4d6f-e8c0-bf7422134dad"
      },
      "source": [
        "117 + 10\n"
      ],
      "execution_count": null,
      "outputs": [
        {
          "output_type": "execute_result",
          "data": {
            "text/plain": [
              "127"
            ]
          },
          "metadata": {},
          "execution_count": 17
        }
      ]
    },
    {
      "cell_type": "code",
      "metadata": {
        "colab": {
          "base_uri": "https://localhost:8080/"
        },
        "id": "33vkaPrPqhb5",
        "outputId": "97053b37-b692-46b7-ed3d-2ea993e1a860"
      },
      "source": [
        "1111 * 11"
      ],
      "execution_count": null,
      "outputs": [
        {
          "output_type": "execute_result",
          "data": {
            "text/plain": [
              "12221"
            ]
          },
          "metadata": {},
          "execution_count": 18
        }
      ]
    },
    {
      "cell_type": "code",
      "metadata": {
        "colab": {
          "base_uri": "https://localhost:8080/"
        },
        "id": "CSL-6dMoqi62",
        "outputId": "1ac4040a-ee1f-48a1-924c-db3189e26a64"
      },
      "source": [
        "1100 + (10 * 11) - 1"
      ],
      "execution_count": null,
      "outputs": [
        {
          "output_type": "execute_result",
          "data": {
            "text/plain": [
              "1209"
            ]
          },
          "metadata": {},
          "execution_count": 20
        }
      ]
    },
    {
      "cell_type": "code",
      "metadata": {
        "id": "_m8V7O3fql23"
      },
      "source": [
        "#intger - 9, 10, 11, 1300"
      ],
      "execution_count": null,
      "outputs": []
    },
    {
      "cell_type": "code",
      "metadata": {
        "id": "ZqOG3hhOq4CA"
      },
      "source": [
        "#float - 12.009, 13.001, -11.11"
      ],
      "execution_count": null,
      "outputs": []
    },
    {
      "cell_type": "code",
      "metadata": {
        "id": "1elcrJL1q_0s"
      },
      "source": [
        "#string - \"aaaa\", \"asdasdasd\", \"@#$%^&*(*&^%$#$%^IOP{\""
      ],
      "execution_count": null,
      "outputs": []
    },
    {
      "cell_type": "code",
      "metadata": {
        "id": "yK7LZbBvrHk-"
      },
      "source": [
        "#boolean - True, False"
      ],
      "execution_count": null,
      "outputs": []
    },
    {
      "cell_type": "code",
      "metadata": {
        "colab": {
          "base_uri": "https://localhost:8080/",
          "height": 130
        },
        "id": "b5nVqm9Kr065",
        "outputId": "83dcbdc4-dba6-4fa0-ef4e-04d3b62535b3"
      },
      "source": [
        "def = 1"
      ],
      "execution_count": null,
      "outputs": [
        {
          "output_type": "error",
          "ename": "SyntaxError",
          "evalue": "ignored",
          "traceback": [
            "\u001b[0;36m  File \u001b[0;32m\"<ipython-input-28-09f57f03a914>\"\u001b[0;36m, line \u001b[0;32m1\u001b[0m\n\u001b[0;31m    def = 1\u001b[0m\n\u001b[0m        ^\u001b[0m\n\u001b[0;31mSyntaxError\u001b[0m\u001b[0;31m:\u001b[0m invalid syntax\n"
          ]
        }
      ]
    },
    {
      "cell_type": "code",
      "metadata": {
        "id": "9fW2ZiuWr2MJ"
      },
      "source": [
        "name = \"Dhruv\"\n",
        "Name = 'CSIS'\n",
        "NAME = '612'"
      ],
      "execution_count": null,
      "outputs": []
    },
    {
      "cell_type": "code",
      "metadata": {
        "colab": {
          "base_uri": "https://localhost:8080/"
        },
        "id": "4iXjMVj-sddO",
        "outputId": "bf34db56-27d7-4939-d36c-aea50e694ed1"
      },
      "source": [
        "# printing names\n",
        "print(name) #print first variable print(1)\n",
        "print(Name)\n",
        "print(NAME)"
      ],
      "execution_count": null,
      "outputs": [
        {
          "output_type": "stream",
          "name": "stdout",
          "text": [
            "Dhruv\n",
            "CSIS\n",
            "612\n"
          ]
        }
      ]
    },
    {
      "cell_type": "code",
      "metadata": {
        "id": "-gp86LEbsjUG"
      },
      "source": [
        "#name_of_the_class #snake_casing\n",
        "#nameOfTheClass #camelCasing"
      ],
      "execution_count": null,
      "outputs": []
    },
    {
      "cell_type": "code",
      "metadata": {
        "id": "vdv88qnotYfW"
      },
      "source": [
        "x = \"One\""
      ],
      "execution_count": null,
      "outputs": []
    },
    {
      "cell_type": "code",
      "metadata": {
        "id": "oBxO6IGbt-Ur"
      },
      "source": [
        "y = 'asdasd'"
      ],
      "execution_count": null,
      "outputs": []
    },
    {
      "cell_type": "code",
      "metadata": {
        "id": "sX7tvNrVt_qH"
      },
      "source": [
        "zzi = \"Dhruv\""
      ],
      "execution_count": null,
      "outputs": []
    },
    {
      "cell_type": "code",
      "metadata": {
        "colab": {
          "base_uri": "https://localhost:8080/",
          "height": 130
        },
        "id": "WQiQYqNNuA6w",
        "outputId": "8a6ed72b-8c98-499c-e836-7684d0f5f199"
      },
      "source": [
        " 1 = 3 + 4"
      ],
      "execution_count": null,
      "outputs": [
        {
          "output_type": "error",
          "ename": "SyntaxError",
          "evalue": "ignored",
          "traceback": [
            "\u001b[0;36m  File \u001b[0;32m\"<ipython-input-41-ff8348f53f6c>\"\u001b[0;36m, line \u001b[0;32m1\u001b[0m\n\u001b[0;31m    1 = 3 + 4\u001b[0m\n\u001b[0m             ^\u001b[0m\n\u001b[0;31mSyntaxError\u001b[0m\u001b[0;31m:\u001b[0m can't assign to literal\n"
          ]
        }
      ]
    },
    {
      "cell_type": "code",
      "metadata": {
        "colab": {
          "base_uri": "https://localhost:8080/",
          "height": 131
        },
        "id": "tj_NWXd_u0Qx",
        "outputId": "b790082b-a951-4f53-d7e2-6c8b2dee7e1d"
      },
      "source": [
        "\"String\" = \"one\""
      ],
      "execution_count": null,
      "outputs": [
        {
          "output_type": "error",
          "ename": "SyntaxError",
          "evalue": "ignored",
          "traceback": [
            "\u001b[0;36m  File \u001b[0;32m\"<ipython-input-42-1b483f97a693>\"\u001b[0;36m, line \u001b[0;32m1\u001b[0m\n\u001b[0;31m    \"String\" = \"one\"\u001b[0m\n\u001b[0m                    ^\u001b[0m\n\u001b[0;31mSyntaxError\u001b[0m\u001b[0;31m:\u001b[0m can't assign to literal\n"
          ]
        }
      ]
    },
    {
      "cell_type": "code",
      "metadata": {
        "id": "MTJbNpvKu5qt"
      },
      "source": [
        "what_class = \"612\""
      ],
      "execution_count": null,
      "outputs": []
    },
    {
      "cell_type": "code",
      "metadata": {
        "id": "NxI53Xy1u-au"
      },
      "source": [
        "date_multiple = 9 * 22 + 2021"
      ],
      "execution_count": null,
      "outputs": []
    },
    {
      "cell_type": "code",
      "metadata": {
        "id": "8Is2bYIEvDQ8"
      },
      "source": [
        "marks = 90\n",
        "total_marks = 100\n",
        "grade = marks/total_marks * 100"
      ],
      "execution_count": null,
      "outputs": []
    },
    {
      "cell_type": "code",
      "metadata": {
        "colab": {
          "base_uri": "https://localhost:8080/"
        },
        "id": "nv-mH8q3vX4Z",
        "outputId": "074d1e9f-a459-4bfb-9eae-9c3553b95067"
      },
      "source": [
        "print(grade)"
      ],
      "execution_count": null,
      "outputs": [
        {
          "output_type": "stream",
          "name": "stdout",
          "text": [
            "90.0\n"
          ]
        }
      ]
    },
    {
      "cell_type": "code",
      "metadata": {
        "id": "grllW4BNvY7f"
      },
      "source": [
        "# print constants/literal 1,2,4.01, \"Hello\"\n",
        "# create variable name and assign it your name as string\n",
        "# create a variable money and assign it an integer\n",
        "# create a variable conversion_rate and assign it 10\n",
        "# create a variable converted_rate and calculate money times conversion rate\n",
        "# print converted_rate and your name"
      ],
      "execution_count": null,
      "outputs": []
    },
    {
      "cell_type": "code",
      "metadata": {
        "colab": {
          "base_uri": "https://localhost:8080/"
        },
        "id": "XG3pz5f4xi-6",
        "outputId": "5c86866f-7efb-461a-9b25-b937d19dc841"
      },
      "source": [
        "print(1)"
      ],
      "execution_count": null,
      "outputs": [
        {
          "output_type": "stream",
          "name": "stdout",
          "text": [
            "1\n"
          ]
        }
      ]
    },
    {
      "cell_type": "code",
      "metadata": {
        "id": "ozlqRSY3yiwj"
      },
      "source": [
        "name = \"Dhruv\""
      ],
      "execution_count": null,
      "outputs": []
    },
    {
      "cell_type": "code",
      "metadata": {
        "id": "qESiK7K0yjBA"
      },
      "source": [
        ""
      ],
      "execution_count": null,
      "outputs": []
    },
    {
      "cell_type": "code",
      "metadata": {
        "colab": {
          "base_uri": "https://localhost:8080/"
        },
        "id": "ahKHpr5hycre",
        "outputId": "153c7353-da65-4f76-876a-6f0e984cd4da"
      },
      "source": [
        "# print constants/literal 1,2,4.01, \"Hello\"\n",
        "print(1)\n",
        "print(2)\n",
        "print(4.01)\n",
        "print(\"Hello\")\n"
      ],
      "execution_count": null,
      "outputs": [
        {
          "output_type": "stream",
          "name": "stdout",
          "text": [
            "1\n",
            "2\n",
            "4.01\n",
            "Hello\n"
          ]
        }
      ]
    },
    {
      "cell_type": "code",
      "metadata": {
        "id": "ACDn5FSk1aUj"
      },
      "source": [
        "# create variable name and assign it your name as string\n",
        "name = \"Dhruv\"\n"
      ],
      "execution_count": null,
      "outputs": []
    },
    {
      "cell_type": "code",
      "metadata": {
        "id": "ao3XeVgB1hev"
      },
      "source": [
        "# create a variable money and assign it an integer\n",
        "money = 1000\n"
      ],
      "execution_count": null,
      "outputs": []
    },
    {
      "cell_type": "code",
      "metadata": {
        "id": "GQbEyH9g1m-f"
      },
      "source": [
        "# create a variable conversion_rate and assign it 10\n",
        "conversion_rate = 10\n"
      ],
      "execution_count": null,
      "outputs": []
    },
    {
      "cell_type": "code",
      "metadata": {
        "id": "npqvoNXb1qCA"
      },
      "source": [
        "# create a variable converted_rate and calculate money times conversion rate\n",
        "converted_rate = money * conversion_rate\n"
      ],
      "execution_count": null,
      "outputs": []
    },
    {
      "cell_type": "code",
      "metadata": {
        "colab": {
          "base_uri": "https://localhost:8080/"
        },
        "id": "2Hx6znr11sno",
        "outputId": "17e672e6-e859-4cfb-d203-efbb916cf5fb"
      },
      "source": [
        "# print converted_rate and your name\n",
        "print(converted_rate)\n",
        "print(name)"
      ],
      "execution_count": null,
      "outputs": [
        {
          "output_type": "stream",
          "name": "stdout",
          "text": [
            "10000\n",
            "Dhruv\n"
          ]
        }
      ]
    },
    {
      "cell_type": "code",
      "metadata": {
        "colab": {
          "base_uri": "https://localhost:8080/"
        },
        "id": "il0X3Idv12Sy",
        "outputId": "c9604a86-26b8-4b24-a831-d856bd55dd98"
      },
      "source": [
        "2 ** 10"
      ],
      "execution_count": null,
      "outputs": [
        {
          "output_type": "execute_result",
          "data": {
            "text/plain": [
              "1024"
            ]
          },
          "metadata": {},
          "execution_count": 64
        }
      ]
    },
    {
      "cell_type": "code",
      "metadata": {
        "id": "RAy4FrUu4O7W"
      },
      "source": [
        "#remainder/modulo"
      ],
      "execution_count": null,
      "outputs": []
    },
    {
      "cell_type": "code",
      "metadata": {
        "colab": {
          "base_uri": "https://localhost:8080/"
        },
        "id": "KE6zjFOc4XPw",
        "outputId": "f6deea30-d826-4782-af67-fefce9531e5c"
      },
      "source": [
        "11%10"
      ],
      "execution_count": null,
      "outputs": [
        {
          "output_type": "execute_result",
          "data": {
            "text/plain": [
              "1"
            ]
          },
          "metadata": {},
          "execution_count": 66
        }
      ]
    },
    {
      "cell_type": "code",
      "metadata": {
        "colab": {
          "base_uri": "https://localhost:8080/"
        },
        "id": "bJmq-Dj64YmH",
        "outputId": "c3df06d6-83dc-4033-b0ff-32c70d7beea5"
      },
      "source": [
        "14%5"
      ],
      "execution_count": null,
      "outputs": [
        {
          "output_type": "execute_result",
          "data": {
            "text/plain": [
              "4"
            ]
          },
          "metadata": {},
          "execution_count": 67
        }
      ]
    },
    {
      "cell_type": "code",
      "metadata": {
        "colab": {
          "base_uri": "https://localhost:8080/"
        },
        "id": "eLTJ8H994cAn",
        "outputId": "1ab2fc22-de76-4891-b3bb-7ee808467d49"
      },
      "source": [
        "10/1"
      ],
      "execution_count": null,
      "outputs": [
        {
          "output_type": "execute_result",
          "data": {
            "text/plain": [
              "10.0"
            ]
          },
          "metadata": {},
          "execution_count": 68
        }
      ]
    },
    {
      "cell_type": "code",
      "metadata": {
        "colab": {
          "base_uri": "https://localhost:8080/"
        },
        "id": "szEKLEBr40yo",
        "outputId": "8a14daa1-2249-48d9-a1d5-7e6f695508a1"
      },
      "source": [
        " x = 1 + 2 * 3 - 4 / 5 ** 6\n",
        " print(x)"
      ],
      "execution_count": null,
      "outputs": [
        {
          "output_type": "stream",
          "name": "stdout",
          "text": [
            "6.999744\n"
          ]
        }
      ]
    },
    {
      "cell_type": "code",
      "metadata": {
        "id": "zTW0RBy45lsg"
      },
      "source": [
        "# nested parenthesis\n",
        "x = (1 + 2) * 3 - (4/(5-(3*6)))"
      ],
      "execution_count": null,
      "outputs": []
    },
    {
      "cell_type": "code",
      "metadata": {
        "colab": {
          "base_uri": "https://localhost:8080/"
        },
        "id": "_fNfWVs05pbB",
        "outputId": "b7a4555a-52cb-491c-e1c9-fe72ceffd8ab"
      },
      "source": [
        "x"
      ],
      "execution_count": null,
      "outputs": [
        {
          "output_type": "execute_result",
          "data": {
            "text/plain": [
              "9.307692307692308"
            ]
          },
          "metadata": {},
          "execution_count": 74
        }
      ]
    },
    {
      "cell_type": "code",
      "metadata": {
        "colab": {
          "base_uri": "https://localhost:8080/"
        },
        "id": "OetjkjVV5p9c",
        "outputId": "fa6efa43-1d2f-46f9-cd88-1e9953d654c0"
      },
      "source": [
        "# print\n",
        "\n",
        "print(name,money,\"hello\")"
      ],
      "execution_count": null,
      "outputs": [
        {
          "output_type": "stream",
          "name": "stdout",
          "text": [
            "Dhruv 1000 hello\n"
          ]
        }
      ]
    },
    {
      "cell_type": "code",
      "metadata": {
        "colab": {
          "base_uri": "https://localhost:8080/"
        },
        "id": "G8-qvEjD6cCz",
        "outputId": "51f2e477-ef07-4c66-89a6-117526071d98"
      },
      "source": [
        "print(\"hello's\")"
      ],
      "execution_count": null,
      "outputs": [
        {
          "output_type": "stream",
          "name": "stdout",
          "text": [
            "hello's\n"
          ]
        }
      ]
    },
    {
      "cell_type": "code",
      "metadata": {
        "colab": {
          "base_uri": "https://localhost:8080/"
        },
        "id": "XO2ALHoL6hkc",
        "outputId": "97b13b26-97d2-4357-fb69-82eed8f44e75"
      },
      "source": [
        "print(\"\\\"hello\\\"\")\n",
        "# escape character \\"
      ],
      "execution_count": null,
      "outputs": [
        {
          "output_type": "stream",
          "name": "stdout",
          "text": [
            "\"hello\"\n"
          ]
        }
      ]
    },
    {
      "cell_type": "code",
      "metadata": {
        "id": "-SaN5d2m6mtX"
      },
      "source": [
        "#tab \\t\n",
        "#carriage reutrn \\r\n",
        "#new line \\n"
      ],
      "execution_count": null,
      "outputs": []
    },
    {
      "cell_type": "code",
      "metadata": {
        "colab": {
          "base_uri": "https://localhost:8080/"
        },
        "id": "OI12mRAK63gw",
        "outputId": "962fabc1-fee2-454f-f12a-abd172dfa31f"
      },
      "source": [
        "print(converted_rate,\"\\r\\n\",name)"
      ],
      "execution_count": null,
      "outputs": [
        {
          "output_type": "stream",
          "name": "stdout",
          "text": [
            "10000 \r\n",
            " Dhruv\n"
          ]
        }
      ]
    },
    {
      "cell_type": "code",
      "metadata": {
        "id": "3W8AgNKK7EUp"
      },
      "source": [
        "# type - inbuilt python function"
      ],
      "execution_count": null,
      "outputs": []
    },
    {
      "cell_type": "code",
      "metadata": {
        "colab": {
          "base_uri": "https://localhost:8080/"
        },
        "id": "pRtC0Ni87kSb",
        "outputId": "930cd515-8f81-494a-8092-03b2d7301132"
      },
      "source": [
        "type(1)"
      ],
      "execution_count": null,
      "outputs": [
        {
          "output_type": "execute_result",
          "data": {
            "text/plain": [
              "int"
            ]
          },
          "metadata": {},
          "execution_count": 86
        }
      ]
    },
    {
      "cell_type": "code",
      "metadata": {
        "colab": {
          "base_uri": "https://localhost:8080/"
        },
        "id": "kInjNdsr7l67",
        "outputId": "04241683-8eeb-4e90-fa89-8dde3daf6941"
      },
      "source": [
        "type(10.01)"
      ],
      "execution_count": null,
      "outputs": [
        {
          "output_type": "execute_result",
          "data": {
            "text/plain": [
              "float"
            ]
          },
          "metadata": {},
          "execution_count": 87
        }
      ]
    },
    {
      "cell_type": "code",
      "metadata": {
        "colab": {
          "base_uri": "https://localhost:8080/"
        },
        "id": "ZTskjsUu7puM",
        "outputId": "6a63603e-b887-4c41-ab69-6cc3ca1b3158"
      },
      "source": [
        "type(\"hello\")"
      ],
      "execution_count": null,
      "outputs": [
        {
          "output_type": "execute_result",
          "data": {
            "text/plain": [
              "str"
            ]
          },
          "metadata": {},
          "execution_count": 90
        }
      ]
    },
    {
      "cell_type": "code",
      "metadata": {
        "colab": {
          "base_uri": "https://localhost:8080/"
        },
        "id": "ECujRWnK7rdv",
        "outputId": "f7373a07-2c2a-4f39-a0c7-32e3e276fe40"
      },
      "source": [
        "type(False)"
      ],
      "execution_count": null,
      "outputs": [
        {
          "output_type": "execute_result",
          "data": {
            "text/plain": [
              "bool"
            ]
          },
          "metadata": {},
          "execution_count": 89
        }
      ]
    },
    {
      "cell_type": "code",
      "metadata": {
        "colab": {
          "base_uri": "https://localhost:8080/"
        },
        "id": "pfkJYevw7utB",
        "outputId": "25e17e35-3d46-4711-e105-359cb31a9a02"
      },
      "source": [
        "print(\"hello\"[0])"
      ],
      "execution_count": null,
      "outputs": [
        {
          "output_type": "stream",
          "name": "stdout",
          "text": [
            "h\n"
          ]
        }
      ]
    },
    {
      "cell_type": "code",
      "metadata": {
        "colab": {
          "base_uri": "https://localhost:8080/"
        },
        "id": "_zt7GmbD74G5",
        "outputId": "6db51843-1bd5-489e-82f1-71b9bbd2af8b"
      },
      "source": [
        "print(9+10)"
      ],
      "execution_count": null,
      "outputs": [
        {
          "output_type": "stream",
          "name": "stdout",
          "text": [
            "19\n"
          ]
        }
      ]
    },
    {
      "cell_type": "code",
      "metadata": {
        "colab": {
          "base_uri": "https://localhost:8080/"
        },
        "id": "fPfYxUAD7_-w",
        "outputId": "8f88fffe-be4e-460f-982a-8f389fa324cd"
      },
      "source": [
        "print(\"Hello\"+\"Everyone\")"
      ],
      "execution_count": null,
      "outputs": [
        {
          "output_type": "stream",
          "name": "stdout",
          "text": [
            "HelloEveryone\n"
          ]
        }
      ]
    },
    {
      "cell_type": "code",
      "metadata": {
        "colab": {
          "base_uri": "https://localhost:8080/"
        },
        "id": "OguAbGb68Czj",
        "outputId": "8badf6b7-016d-4456-e82f-951757387971"
      },
      "source": [
        "print(str(converted_rate)+\"\\n\"+name)"
      ],
      "execution_count": null,
      "outputs": [
        {
          "output_type": "stream",
          "name": "stdout",
          "text": [
            "10000\n",
            "Dhruv\n"
          ]
        }
      ]
    },
    {
      "cell_type": "code",
      "metadata": {
        "id": "YkXVYa4_8J89"
      },
      "source": [
        "# <class 'str'>\n",
        "# <class 'int'>"
      ],
      "execution_count": null,
      "outputs": []
    },
    {
      "cell_type": "code",
      "metadata": {
        "id": "yjDapQ9D8z90"
      },
      "source": [
        "an_integer = 10\n",
        "a_float = 10.0\n",
        "a_string = \"Hello\""
      ],
      "execution_count": null,
      "outputs": []
    },
    {
      "cell_type": "code",
      "metadata": {
        "colab": {
          "base_uri": "https://localhost:8080/"
        },
        "id": "wByDWeEV85nn",
        "outputId": "cd45bf1f-62d4-422f-c2d4-4398b1547264"
      },
      "source": [
        "int(a_float) # float to integer int(variable_name)"
      ],
      "execution_count": null,
      "outputs": [
        {
          "output_type": "execute_result",
          "data": {
            "text/plain": [
              "10"
            ]
          },
          "metadata": {},
          "execution_count": 98
        }
      ]
    },
    {
      "cell_type": "code",
      "metadata": {
        "colab": {
          "base_uri": "https://localhost:8080/"
        },
        "id": "qiC_mVqX9HP6",
        "outputId": "8c49ab3d-4bfe-41e4-824b-75f0fa60aa44"
      },
      "source": [
        "float(an_integer)"
      ],
      "execution_count": null,
      "outputs": [
        {
          "output_type": "execute_result",
          "data": {
            "text/plain": [
              "10.0"
            ]
          },
          "metadata": {},
          "execution_count": 99
        }
      ]
    },
    {
      "cell_type": "code",
      "metadata": {
        "colab": {
          "base_uri": "https://localhost:8080/",
          "height": 35
        },
        "id": "aPGYSDGP9NIZ",
        "outputId": "6dc7a430-4c52-41ee-da7e-ed1827a71de5"
      },
      "source": [
        "str(False)"
      ],
      "execution_count": null,
      "outputs": [
        {
          "output_type": "execute_result",
          "data": {
            "application/vnd.google.colaboratory.intrinsic+json": {
              "type": "string"
            },
            "text/plain": [
              "'False'"
            ]
          },
          "metadata": {},
          "execution_count": 100
        }
      ]
    },
    {
      "cell_type": "code",
      "metadata": {
        "id": "-rXmfKTS9PJq"
      },
      "source": [
        "a_numeric_string = '10'"
      ],
      "execution_count": null,
      "outputs": []
    },
    {
      "cell_type": "code",
      "metadata": {
        "colab": {
          "base_uri": "https://localhost:8080/"
        },
        "id": "hKoGeHJK9SzH",
        "outputId": "a6e7f783-0ca0-4666-d7f2-5ccf3594ab41"
      },
      "source": [
        "int(a_numeric_string)"
      ],
      "execution_count": null,
      "outputs": [
        {
          "output_type": "execute_result",
          "data": {
            "text/plain": [
              "10"
            ]
          },
          "metadata": {},
          "execution_count": 103
        }
      ]
    },
    {
      "cell_type": "code",
      "metadata": {
        "id": "igjnJHwy9XaW"
      },
      "source": [
        "float(a_numeric_string)\n",
        "a_b_c = None"
      ],
      "execution_count": null,
      "outputs": []
    },
    {
      "cell_type": "code",
      "metadata": {
        "colab": {
          "base_uri": "https://localhost:8080/"
        },
        "id": "UT6QdNkE9clp",
        "outputId": "e9879b2a-126f-4bd7-f612-f14ea1013294"
      },
      "source": [
        "bool(a_b_c)"
      ],
      "execution_count": null,
      "outputs": [
        {
          "output_type": "execute_result",
          "data": {
            "text/plain": [
              "False"
            ]
          },
          "metadata": {},
          "execution_count": 109
        }
      ]
    },
    {
      "cell_type": "code",
      "metadata": {
        "colab": {
          "base_uri": "https://localhost:8080/",
          "height": 201
        },
        "id": "ibG6kJlO9eUm",
        "outputId": "c722429c-60d6-4f52-899d-00c8dc468a1c"
      },
      "source": [
        "int(\"h\")"
      ],
      "execution_count": null,
      "outputs": [
        {
          "output_type": "error",
          "ename": "ValueError",
          "evalue": "ignored",
          "traceback": [
            "\u001b[0;31m---------------------------------------------------------------------------\u001b[0m",
            "\u001b[0;31mValueError\u001b[0m                                Traceback (most recent call last)",
            "\u001b[0;32m<ipython-input-111-2a8de5126b1c>\u001b[0m in \u001b[0;36m<module>\u001b[0;34m()\u001b[0m\n\u001b[0;32m----> 1\u001b[0;31m \u001b[0mint\u001b[0m\u001b[0;34m(\u001b[0m\u001b[0;34m\"h\"\u001b[0m\u001b[0;34m)\u001b[0m\u001b[0;34m\u001b[0m\u001b[0;34m\u001b[0m\u001b[0m\n\u001b[0m",
            "\u001b[0;31mValueError\u001b[0m: invalid literal for int() with base 10: 'h'"
          ]
        }
      ]
    },
    {
      "cell_type": "code",
      "metadata": {
        "colab": {
          "base_uri": "https://localhost:8080/",
          "height": 52
        },
        "id": "3X_w4mtX-JGH",
        "outputId": "3d5aa560-50fd-4dee-8f8e-a7fe2eb06e5c"
      },
      "source": [
        "# function input accepts strings from the user\n",
        "input()"
      ],
      "execution_count": null,
      "outputs": [
        {
          "name": "stdout",
          "output_type": "stream",
          "text": [
            "akjsgdkalshdlas\n"
          ]
        },
        {
          "output_type": "execute_result",
          "data": {
            "application/vnd.google.colaboratory.intrinsic+json": {
              "type": "string"
            },
            "text/plain": [
              "'akjsgdkalshdlas'"
            ]
          },
          "metadata": {},
          "execution_count": 112
        }
      ]
    },
    {
      "cell_type": "code",
      "metadata": {
        "colab": {
          "base_uri": "https://localhost:8080/",
          "height": 52
        },
        "id": "wyO-iTAyBBSb",
        "outputId": "cf3eb442-de0f-472b-f1ba-d5f50a6ba32d"
      },
      "source": [
        "input()\n"
      ],
      "execution_count": null,
      "outputs": [
        {
          "name": "stdout",
          "output_type": "stream",
          "text": [
            "11\n"
          ]
        },
        {
          "output_type": "execute_result",
          "data": {
            "application/vnd.google.colaboratory.intrinsic+json": {
              "type": "string"
            },
            "text/plain": [
              "'11'"
            ]
          },
          "metadata": {},
          "execution_count": 113
        }
      ]
    },
    {
      "cell_type": "code",
      "metadata": {
        "colab": {
          "base_uri": "https://localhost:8080/",
          "height": 52
        },
        "id": "DxwyZ3wOBLHh",
        "outputId": "821b99a4-ffd4-4f71-8fc9-93626710aa5f"
      },
      "source": [
        "#input with prompt\n",
        "input(\"What is your name\")"
      ],
      "execution_count": null,
      "outputs": [
        {
          "name": "stdout",
          "output_type": "stream",
          "text": [
            "What is your nameDhruv\n"
          ]
        },
        {
          "output_type": "execute_result",
          "data": {
            "application/vnd.google.colaboratory.intrinsic+json": {
              "type": "string"
            },
            "text/plain": [
              "'Dhruv'"
            ]
          },
          "metadata": {},
          "execution_count": 114
        }
      ]
    },
    {
      "cell_type": "code",
      "metadata": {
        "colab": {
          "base_uri": "https://localhost:8080/"
        },
        "id": "8NcFB7gYBVSb",
        "outputId": "8f1e8b1a-8555-4adb-aa15-9e36ba6afbeb"
      },
      "source": [
        "# storing input to variable\n",
        "first_name = input() "
      ],
      "execution_count": null,
      "outputs": [
        {
          "name": "stdout",
          "output_type": "stream",
          "text": [
            "Dhruv\n"
          ]
        }
      ]
    },
    {
      "cell_type": "code",
      "metadata": {
        "colab": {
          "base_uri": "https://localhost:8080/"
        },
        "id": "83p28j1zBl27",
        "outputId": "1392c77d-aee9-43ce-98aa-f6e049a2a425"
      },
      "source": [
        "first_name = input() #dhruv\n",
        "print(first_name)\n",
        "first_name = input() #zod\n",
        "print(first_name)"
      ],
      "execution_count": null,
      "outputs": [
        {
          "output_type": "stream",
          "name": "stdout",
          "text": [
            "Dhruv\n",
            "Dhruv\n",
            "ZOd\n",
            "ZOd\n"
          ]
        }
      ]
    },
    {
      "cell_type": "code",
      "metadata": {
        "colab": {
          "base_uri": "https://localhost:8080/"
        },
        "id": "SOlNX2zhBn0y",
        "outputId": "b0074a5b-6dd2-4b24-ad93-41bb53450760"
      },
      "source": [
        "last_name = input(\"What is your last name\")"
      ],
      "execution_count": null,
      "outputs": [
        {
          "name": "stdout",
          "output_type": "stream",
          "text": [
            "What is your last nameGandhi\n"
          ]
        }
      ]
    },
    {
      "cell_type": "code",
      "metadata": {
        "id": "p_J-tDLQC3My"
      },
      "source": [
        ""
      ],
      "execution_count": null,
      "outputs": []
    },
    {
      "cell_type": "code",
      "metadata": {
        "colab": {
          "base_uri": "https://localhost:8080/"
        },
        "id": "NWogaHmWBsxf",
        "outputId": "bfd038d8-b460-466a-ad2c-bd7820f60678"
      },
      "source": [
        "print(last_name)"
      ],
      "execution_count": null,
      "outputs": [
        {
          "output_type": "stream",
          "name": "stdout",
          "text": [
            "Gandhi\n"
          ]
        }
      ]
    },
    {
      "cell_type": "code",
      "metadata": {
        "colab": {
          "base_uri": "https://localhost:8080/"
        },
        "id": "fx54_wZKBvy8",
        "outputId": "6ab6bdfa-379d-400f-df2f-e9eb5000c87e"
      },
      "source": [
        "print(\"Hello\",first_name)"
      ],
      "execution_count": null,
      "outputs": [
        {
          "output_type": "stream",
          "name": "stdout",
          "text": [
            "Hello ZOd\n"
          ]
        }
      ]
    },
    {
      "cell_type": "code",
      "metadata": {
        "colab": {
          "base_uri": "https://localhost:8080/"
        },
        "id": "VYxh8shICRlx",
        "outputId": "3fc67389-0450-40a5-be57-242699060bcc"
      },
      "source": [
        "print(\"Hello \" + first_name + \" \" + last_name)"
      ],
      "execution_count": null,
      "outputs": [
        {
          "output_type": "stream",
          "name": "stdout",
          "text": [
            "Hello ZOd Gandhi\n"
          ]
        }
      ]
    },
    {
      "cell_type": "code",
      "metadata": {
        "colab": {
          "base_uri": "https://localhost:8080/"
        },
        "id": "pv8_f1CMCYol",
        "outputId": "04e619fa-4b01-46bf-d8c6-047f9cb3c522"
      },
      "source": [
        "print(f'Hello {first_name} {last_name}')\n"
      ],
      "execution_count": null,
      "outputs": [
        {
          "output_type": "stream",
          "name": "stdout",
          "text": [
            "Hello ZOd Gandhi\n"
          ]
        }
      ]
    },
    {
      "cell_type": "code",
      "metadata": {
        "colab": {
          "base_uri": "https://localhost:8080/"
        },
        "id": "JYZLvqkMC4qf",
        "outputId": "cecdb590-20fe-49bf-ebc9-fd683ce851fe"
      },
      "source": [
        "date = input('what is today\\'s date')"
      ],
      "execution_count": null,
      "outputs": [
        {
          "name": "stdout",
          "output_type": "stream",
          "text": [
            "what is today's date22\n"
          ]
        }
      ]
    },
    {
      "cell_type": "code",
      "metadata": {
        "colab": {
          "base_uri": "https://localhost:8080/"
        },
        "id": "Sf8yHMGXC-on",
        "outputId": "69296be6-7766-47ed-b76a-ec030e447cb4"
      },
      "source": [
        "print(type(date))"
      ],
      "execution_count": null,
      "outputs": [
        {
          "output_type": "stream",
          "name": "stdout",
          "text": [
            "<class 'str'>\n"
          ]
        }
      ]
    },
    {
      "cell_type": "code",
      "metadata": {
        "colab": {
          "base_uri": "https://localhost:8080/",
          "height": 201
        },
        "id": "WidPV6qQDB3O",
        "outputId": "dc67813e-eaac-4e29-d529-6616dfb3aff8"
      },
      "source": [
        "days_remaining = 30-date"
      ],
      "execution_count": null,
      "outputs": [
        {
          "output_type": "error",
          "ename": "TypeError",
          "evalue": "ignored",
          "traceback": [
            "\u001b[0;31m---------------------------------------------------------------------------\u001b[0m",
            "\u001b[0;31mTypeError\u001b[0m                                 Traceback (most recent call last)",
            "\u001b[0;32m<ipython-input-127-7fb7ecc7314e>\u001b[0m in \u001b[0;36m<module>\u001b[0;34m()\u001b[0m\n\u001b[0;32m----> 1\u001b[0;31m \u001b[0mdays_remaining\u001b[0m \u001b[0;34m=\u001b[0m \u001b[0;36m30\u001b[0m\u001b[0;34m-\u001b[0m\u001b[0mdate\u001b[0m\u001b[0;34m\u001b[0m\u001b[0;34m\u001b[0m\u001b[0m\n\u001b[0m",
            "\u001b[0;31mTypeError\u001b[0m: unsupported operand type(s) for -: 'int' and 'str'"
          ]
        }
      ]
    },
    {
      "cell_type": "code",
      "metadata": {
        "id": "J5cF-gMrDHBb"
      },
      "source": [
        "days_remaining = 30 - int(date)"
      ],
      "execution_count": null,
      "outputs": []
    },
    {
      "cell_type": "code",
      "metadata": {
        "id": "LhoA8kVBDMoL",
        "colab": {
          "base_uri": "https://localhost:8080/"
        },
        "outputId": "a6c3120d-6ba6-4513-e95e-113f2f4cee8d"
      },
      "source": [
        "days_remaining"
      ],
      "execution_count": null,
      "outputs": [
        {
          "output_type": "execute_result",
          "data": {
            "text/plain": [
              "8"
            ]
          },
          "metadata": {},
          "execution_count": 129
        }
      ]
    },
    {
      "cell_type": "code",
      "metadata": {
        "id": "7m_R6hdDDNZq"
      },
      "source": [
        ""
      ],
      "execution_count": null,
      "outputs": []
    }
  ]
}