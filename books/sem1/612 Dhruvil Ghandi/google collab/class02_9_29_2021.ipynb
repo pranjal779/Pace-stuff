{
  "nbformat": 4,
  "nbformat_minor": 0,
  "metadata": {
    "colab": {
      "name": "class02--9/29/2021.ipynb",
      "provenance": [],
      "collapsed_sections": []
    },
    "kernelspec": {
      "name": "python3",
      "display_name": "Python 3"
    },
    "language_info": {
      "name": "python"
    }
  },
  "cells": [
    {
      "cell_type": "code",
      "metadata": {
        "id": "a4XbU8WKaFGg"
      },
      "source": [
        "# <> place holder"
      ],
      "execution_count": 1,
      "outputs": []
    },
    {
      "cell_type": "code",
      "metadata": {
        "colab": {
          "base_uri": "https://localhost:8080/",
          "height": 35
        },
        "id": "UQWtcbRmpXFI",
        "outputId": "7ae3edbf-b7b1-4fc3-8777-da3a574de880"
      },
      "source": [
        "'''if <condition>:\n",
        "  statement1\n",
        "  statement2\n",
        "\n",
        "statement3'''"
      ],
      "execution_count": 3,
      "outputs": [
        {
          "output_type": "execute_result",
          "data": {
            "application/vnd.google.colaboratory.intrinsic+json": {
              "type": "string"
            },
            "text/plain": [
              "'if <condition>:\\n  statement1\\n  statement2\\n\\nstatement3'"
            ]
          },
          "metadata": {},
          "execution_count": 3
        }
      ]
    },
    {
      "cell_type": "code",
      "metadata": {
        "colab": {
          "base_uri": "https://localhost:8080/"
        },
        "id": "KnRjiR2Upg6G",
        "outputId": "7dbb8816-8212-44b7-a001-a3b03696edfa"
      },
      "source": [
        "#x = input(\"Enter a number\")\n",
        "#x = int(x)\n",
        "# above 2 lines are similar to\n",
        "\n",
        "x = int(input(\"enter a number\"))\n",
        "if x < 10:\n",
        "  print(\"the input is less than 10\")\n",
        "print(\"hello\")"
      ],
      "execution_count": 4,
      "outputs": [
        {
          "output_type": "stream",
          "name": "stdout",
          "text": [
            "Enter a number1000\n",
            "enter a number100\n",
            "hello\n"
          ]
        }
      ]
    },
    {
      "cell_type": "code",
      "metadata": {
        "colab": {
          "base_uri": "https://localhost:8080/"
        },
        "id": "hCZnSecZrfmh",
        "outputId": "9ef4d462-b292-4c63-b3b0-33eb20123b66"
      },
      "source": [
        "4 >= 4 "
      ],
      "execution_count": 5,
      "outputs": [
        {
          "output_type": "execute_result",
          "data": {
            "text/plain": [
              "True"
            ]
          },
          "metadata": {},
          "execution_count": 5
        }
      ]
    },
    {
      "cell_type": "code",
      "metadata": {
        "colab": {
          "base_uri": "https://localhost:8080/"
        },
        "id": "ITNcguO4rtXk",
        "outputId": "c33a8360-0bb6-4927-c040-bf85f4f49202"
      },
      "source": [
        "x = 10\n",
        "y = 100\n",
        "if x < y:\n",
        "  print(x, \"is less than\", y)\n",
        "if x > y:\n",
        "  print(x, \"is greater than\", y)"
      ],
      "execution_count": 6,
      "outputs": [
        {
          "output_type": "stream",
          "name": "stdout",
          "text": [
            "10 is less than 100\n"
          ]
        }
      ]
    },
    {
      "cell_type": "code",
      "metadata": {
        "id": "z3vixmMJsuLh"
      },
      "source": [
        "#\\ and press enter to seprate codes in different lines and maintain the tab"
      ],
      "execution_count": 8,
      "outputs": []
    },
    {
      "cell_type": "code",
      "metadata": {
        "colab": {
          "base_uri": "https://localhost:8080/"
        },
        "id": "KJahnYQYuXDn",
        "outputId": "be7dc3f7-3b27-4e34-afae-298afb2dec82"
      },
      "source": [
        "x = int(input(\"enter a number between\"))\n",
        "\n",
        "if x > 1:\n",
        "  print(\"greater than 1\")\n",
        "\n",
        "  if x < 100:\n",
        "    print(\"is less\")"
      ],
      "execution_count": 9,
      "outputs": [
        {
          "output_type": "stream",
          "name": "stdout",
          "text": [
            "enter a number between988\n",
            "greater than 1\n"
          ]
        }
      ]
    },
    {
      "cell_type": "code",
      "metadata": {
        "colab": {
          "base_uri": "https://localhost:8080/"
        },
        "id": "CnLrDvCyvNaC",
        "outputId": "75b20a78-7fbd-4566-c35f-9cae8bb9cfdf"
      },
      "source": [
        "age = int(input(\"the age: \"))\n",
        "if age <= 21:\n",
        "  print(\"21st century born\")\n",
        "else:\n",
        "  print(\"20th century born\")"
      ],
      "execution_count": 10,
      "outputs": [
        {
          "output_type": "stream",
          "name": "stdout",
          "text": [
            "the age: 29\n",
            "20th century born\n"
          ]
        }
      ]
    },
    {
      "cell_type": "code",
      "metadata": {
        "colab": {
          "base_uri": "https://localhost:8080/",
          "height": 35
        },
        "id": "0T6nbaq7wmBj",
        "outputId": "f322e177-3283-4094-fedd-11af575fcd6d"
      },
      "source": [
        "''' take age as input from user\n",
        "if age is less than or equal to 21\n",
        "print 21st century born\n",
        "else\n",
        "print 20th century born'''"
      ],
      "execution_count": 11,
      "outputs": [
        {
          "output_type": "execute_result",
          "data": {
            "application/vnd.google.colaboratory.intrinsic+json": {
              "type": "string"
            },
            "text/plain": [
              "' take age as input from user\\nif age is less than or equal to 21\\nprint 21st century born\\nelse\\nprint 20th century born'"
            ]
          },
          "metadata": {},
          "execution_count": 11
        }
      ]
    },
    {
      "cell_type": "code",
      "metadata": {
        "colab": {
          "base_uri": "https://localhost:8080/",
          "height": 35
        },
        "id": "6l5eTOcXw8-Q",
        "outputId": "6f2988d2-5a65-4d33-f33b-d98d5a449bcf"
      },
      "source": [
        "'''\n",
        "if x < 2:\n",
        "  pr\n",
        "elif x <20:\n",
        "  pr\n",
        "elif x< 10:\n",
        "  pr\n",
        "else:\n",
        "  prin\n",
        "  '''"
      ],
      "execution_count": 12,
      "outputs": [
        {
          "output_type": "execute_result",
          "data": {
            "application/vnd.google.colaboratory.intrinsic+json": {
              "type": "string"
            },
            "text/plain": [
              "'\\nif x < 2:\\n  pr\\nelif x <20:\\n  pr\\nelif x< 10:\\n  pr\\nelse:\\n  prin\\n  '"
            ]
          },
          "metadata": {},
          "execution_count": 12
        }
      ]
    },
    {
      "cell_type": "code",
      "metadata": {
        "colab": {
          "base_uri": "https://localhost:8080/",
          "height": 35
        },
        "id": "zoWB1zcX0HLv",
        "outputId": "2bf1c8a0-d1e3-4030-e87d-dd0255723eb6"
      },
      "source": [
        "'''def greeting(name: str) -> ''' #('name: str' ) shows the type of str"
      ],
      "execution_count": 13,
      "outputs": [
        {
          "output_type": "execute_result",
          "data": {
            "application/vnd.google.colaboratory.intrinsic+json": {
              "type": "string"
            },
            "text/plain": [
              "'def greeting(name: str) -> '"
            ]
          },
          "metadata": {},
          "execution_count": 13
        }
      ]
    },
    {
      "cell_type": "code",
      "metadata": {
        "id": "6KDe0RDx4TlW"
      },
      "source": [
        "#garbage value"
      ],
      "execution_count": 14,
      "outputs": []
    },
    {
      "cell_type": "code",
      "metadata": {
        "colab": {
          "base_uri": "https://localhost:8080/",
          "height": 35
        },
        "id": "_iOLrQag5Eu1",
        "outputId": "437199d8-16b8-4e88-fd52-d0787ef6efad"
      },
      "source": [
        "'''x = none\n",
        "if x:\n",
        "  print(\"x is not none\")\n",
        "else:\n",
        "  print(\"x is none\")'''"
      ],
      "execution_count": 16,
      "outputs": [
        {
          "output_type": "execute_result",
          "data": {
            "application/vnd.google.colaboratory.intrinsic+json": {
              "type": "string"
            },
            "text/plain": [
              "'x = none\\nif x:\\n  print(\"x is not none\")\\nelse:\\n  print(\"x is none\")'"
            ]
          },
          "metadata": {},
          "execution_count": 16
        }
      ]
    },
    {
      "cell_type": "code",
      "metadata": {
        "colab": {
          "base_uri": "https://localhost:8080/"
        },
        "id": "B70wV5JW54Bo",
        "outputId": "8f3d67ef-e5a4-4b06-cf23-f0b4fa8a205b"
      },
      "source": [
        "x = 10\n",
        "if x:\n",
        "  print(\"x is not none\")\n",
        "else:\n",
        "  print(\"x is none\")"
      ],
      "execution_count": 17,
      "outputs": [
        {
          "output_type": "stream",
          "name": "stdout",
          "text": [
            "x is not none\n"
          ]
        }
      ]
    },
    {
      "cell_type": "code",
      "metadata": {
        "id": "oNdlBcD45_fx"
      },
      "source": [
        "# links for boolean algebra ' and ' , ' or ' using true and false"
      ],
      "execution_count": 18,
      "outputs": []
    },
    {
      "cell_type": "code",
      "metadata": {
        "colab": {
          "base_uri": "https://localhost:8080/"
        },
        "id": "CvUFR0117waH",
        "outputId": "c775a8bd-e14a-4439-dd2a-1691ca5d91be"
      },
      "source": [
        "user = int(input(\"enter number: \"))\n",
        "if user >= 0 and user <= 10:\n",
        "  print(\"this is between 0 and 10\")\n",
        "else: \n",
        "  print(\"greater tha 10 or less then 0\")"
      ],
      "execution_count": 24,
      "outputs": [
        {
          "output_type": "stream",
          "name": "stdout",
          "text": [
            "enter number: 5\n",
            "this is between 0 and 10\n"
          ]
        }
      ]
    },
    {
      "cell_type": "code",
      "metadata": {
        "id": "zmcVtcSB8aQy"
      },
      "source": [
        "#not True ==> False\n",
        "#not False ==> True"
      ],
      "execution_count": 26,
      "outputs": []
    },
    {
      "cell_type": "code",
      "metadata": {
        "colab": {
          "base_uri": "https://localhost:8080/"
        },
        "id": "9BZzA6BB-iTz",
        "outputId": "2ef5699c-d673-41e6-ef44-05e28ea9d658"
      },
      "source": [
        "name = None\n",
        "\n",
        "if not name:\n",
        "  print(name)"
      ],
      "execution_count": 28,
      "outputs": [
        {
          "output_type": "stream",
          "name": "stdout",
          "text": [
            "None\n"
          ]
        }
      ]
    },
    {
      "cell_type": "code",
      "metadata": {
        "colab": {
          "base_uri": "https://localhost:8080/"
        },
        "id": "jTdrGjSB_JC3",
        "outputId": "65019797-2358-4f7a-b5d1-208aee2b20f2"
      },
      "source": [
        "x = None\n",
        "print(x)"
      ],
      "execution_count": 29,
      "outputs": [
        {
          "output_type": "stream",
          "name": "stdout",
          "text": [
            "None\n"
          ]
        }
      ]
    },
    {
      "cell_type": "code",
      "metadata": {
        "id": "IpUj6cNOAK0Q"
      },
      "source": [
        "#while loop"
      ],
      "execution_count": 30,
      "outputs": []
    },
    {
      "cell_type": "code",
      "metadata": {
        "id": "fExdqoCuC8DP"
      },
      "source": [
        "#infinte loop\n",
        "number = 0\n",
        "#while True:\n",
        "  #number +1\n",
        "  #print(number)"
      ],
      "execution_count": 33,
      "outputs": []
    },
    {
      "cell_type": "code",
      "metadata": {
        "id": "-2Kc_lT4D1PP"
      },
      "source": [
        "input_choice = -1\n",
        "#while input_choice != 0:\n",
        " # input_choice = int(input(\"enter a number 0-3\"))"
      ],
      "execution_count": 41,
      "outputs": []
    },
    {
      "cell_type": "code",
      "metadata": {
        "id": "-RSvy40VErko"
      },
      "source": [
        "#power of 2 till power = 10\n",
        "power = 0\n",
        "while power <= 10 "
      ],
      "execution_count": null,
      "outputs": []
    },
    {
      "cell_type": "code",
      "metadata": {
        "id": "uDB07ZiZF9V4"
      },
      "source": [
        "#string concatenation"
      ],
      "execution_count": 37,
      "outputs": []
    },
    {
      "cell_type": "code",
      "metadata": {
        "id": "RfGcL2dFGGGK"
      },
      "source": [
        "#formated string using f"
      ],
      "execution_count": 38,
      "outputs": []
    },
    {
      "cell_type": "code",
      "metadata": {
        "colab": {
          "base_uri": "https://localhost:8080/"
        },
        "id": "s4PHFgC3GQ7q",
        "outputId": "49917a81-b65e-49ff-851c-49c54b848212"
      },
      "source": [
        "print(f'{float(600+12)}')"
      ],
      "execution_count": 40,
      "outputs": [
        {
          "output_type": "stream",
          "name": "stdout",
          "text": [
            "612.0\n"
          ]
        }
      ]
    },
    {
      "cell_type": "code",
      "metadata": {
        "colab": {
          "base_uri": "https://localhost:8080/",
          "height": 235
        },
        "id": "S2Ut1xOyGoWh",
        "outputId": "8ecc3d99-6cdd-418d-8e21-b99402175d57"
      },
      "source": [
        "# incrementing\n",
        "a_number = a\n",
        "\n",
        "a_number += 1\n",
        "\n",
        "\n",
        "\n",
        "a_number -= 1"
      ],
      "execution_count": 42,
      "outputs": [
        {
          "output_type": "error",
          "ename": "NameError",
          "evalue": "ignored",
          "traceback": [
            "\u001b[0;31m---------------------------------------------------------------------------\u001b[0m",
            "\u001b[0;31mNameError\u001b[0m                                 Traceback (most recent call last)",
            "\u001b[0;32m<ipython-input-42-1ab5b1b5547a>\u001b[0m in \u001b[0;36m<module>\u001b[0;34m()\u001b[0m\n\u001b[1;32m      1\u001b[0m \u001b[0;31m# incrementing\u001b[0m\u001b[0;34m\u001b[0m\u001b[0;34m\u001b[0m\u001b[0;34m\u001b[0m\u001b[0m\n\u001b[0;32m----> 2\u001b[0;31m \u001b[0ma_number\u001b[0m \u001b[0;34m=\u001b[0m \u001b[0ma\u001b[0m\u001b[0;34m\u001b[0m\u001b[0;34m\u001b[0m\u001b[0m\n\u001b[0m\u001b[1;32m      3\u001b[0m \u001b[0;34m\u001b[0m\u001b[0m\n\u001b[1;32m      4\u001b[0m \u001b[0ma_number\u001b[0m \u001b[0;34m+=\u001b[0m \u001b[0;36m1\u001b[0m\u001b[0;34m\u001b[0m\u001b[0;34m\u001b[0m\u001b[0m\n\u001b[1;32m      5\u001b[0m \u001b[0;34m\u001b[0m\u001b[0m\n",
            "\u001b[0;31mNameError\u001b[0m: name 'a' is not defined"
          ]
        }
      ]
    },
    {
      "cell_type": "code",
      "metadata": {
        "colab": {
          "base_uri": "https://localhost:8080/"
        },
        "id": "b3DXa4uBHJAr",
        "outputId": "9a9222c2-f469-4309-ac59-3f2a208a8ea8"
      },
      "source": [
        "number = 2\n",
        "while number >0:\n",
        "  number /= 2\n",
        "  number = int(number)\n",
        "  print(number)\n",
        "\n",
        "#in "
      ],
      "execution_count": 43,
      "outputs": [
        {
          "output_type": "stream",
          "name": "stdout",
          "text": [
            "1\n",
            "0\n"
          ]
        }
      ]
    },
    {
      "cell_type": "code",
      "metadata": {
        "colab": {
          "base_uri": "https://localhost:8080/",
          "height": 252
        },
        "id": "-b1grOxmH5QJ",
        "outputId": "0c315499-f8aa-4838-96f6-8588c88c33b2"
      },
      "source": [
        "number = int(input(\"num: \"))\n",
        "while number > 3:\n",
        "  number/2\n",
        "  number = int(number)\n",
        "print(number)\n",
        "  \n"
      ],
      "execution_count": 47,
      "outputs": [
        {
          "name": "stdout",
          "output_type": "stream",
          "text": [
            "num: 10\n"
          ]
        },
        {
          "output_type": "error",
          "ename": "KeyboardInterrupt",
          "evalue": "ignored",
          "traceback": [
            "\u001b[0;31m---------------------------------------------------------------------------\u001b[0m",
            "\u001b[0;31mKeyboardInterrupt\u001b[0m                         Traceback (most recent call last)",
            "\u001b[0;32m<ipython-input-47-18ec6e492b41>\u001b[0m in \u001b[0;36m<module>\u001b[0;34m()\u001b[0m\n\u001b[1;32m      2\u001b[0m \u001b[0;32mwhile\u001b[0m \u001b[0mnumber\u001b[0m \u001b[0;34m>\u001b[0m \u001b[0;36m3\u001b[0m\u001b[0;34m:\u001b[0m\u001b[0;34m\u001b[0m\u001b[0;34m\u001b[0m\u001b[0m\n\u001b[1;32m      3\u001b[0m   \u001b[0mnumber\u001b[0m\u001b[0;34m/\u001b[0m\u001b[0;36m2\u001b[0m\u001b[0;34m\u001b[0m\u001b[0;34m\u001b[0m\u001b[0m\n\u001b[0;32m----> 4\u001b[0;31m   \u001b[0mnumber\u001b[0m \u001b[0;34m=\u001b[0m \u001b[0mint\u001b[0m\u001b[0;34m(\u001b[0m\u001b[0mnumber\u001b[0m\u001b[0;34m)\u001b[0m\u001b[0;34m\u001b[0m\u001b[0;34m\u001b[0m\u001b[0m\n\u001b[0m\u001b[1;32m      5\u001b[0m \u001b[0mprint\u001b[0m\u001b[0;34m(\u001b[0m\u001b[0mnumber\u001b[0m\u001b[0;34m)\u001b[0m\u001b[0;34m\u001b[0m\u001b[0;34m\u001b[0m\u001b[0m\n\u001b[1;32m      6\u001b[0m \u001b[0;34m\u001b[0m\u001b[0m\n",
            "\u001b[0;31mKeyboardInterrupt\u001b[0m: "
          ]
        }
      ]
    },
    {
      "cell_type": "code",
      "metadata": {
        "colab": {
          "base_uri": "https://localhost:8080/"
        },
        "id": "cm76NIqXKf21",
        "outputId": "f2653719-98a7-4232-d685-233c6d576eb7"
      },
      "source": [
        "input_number03 = int(input(\"enter\"))\n",
        "while input_number03 > 3:\n",
        "  input_number03 //= 2\n",
        "print(input_number03)"
      ],
      "execution_count": 48,
      "outputs": [
        {
          "output_type": "stream",
          "name": "stdout",
          "text": [
            "enter10\n",
            "2\n"
          ]
        }
      ]
    },
    {
      "cell_type": "code",
      "metadata": {
        "id": "SdolIAFSMHUr"
      },
      "source": [
        ""
      ],
      "execution_count": null,
      "outputs": []
    }
  ]
}