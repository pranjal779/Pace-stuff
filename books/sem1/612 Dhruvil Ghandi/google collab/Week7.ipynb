{
  "nbformat": 4,
  "nbformat_minor": 0,
  "metadata": {
    "colab": {
      "name": "Week7.ipynb",
      "provenance": []
    },
    "kernelspec": {
      "name": "python3",
      "display_name": "Python 3"
    },
    "language_info": {
      "name": "python"
    }
  },
  "cells": [
    {
      "cell_type": "code",
      "metadata": {
        "id": "NMOW5XWIw1Bx"
      },
      "source": [
        "numbers = [] #empty list"
      ],
      "execution_count": 2,
      "outputs": []
    },
    {
      "cell_type": "code",
      "metadata": {
        "id": "SugCElHXy8cH"
      },
      "source": [
        "numbers = [\"one\",\"two\",\"three\",\"four\"]"
      ],
      "execution_count": 27,
      "outputs": []
    },
    {
      "cell_type": "code",
      "metadata": {
        "colab": {
          "base_uri": "https://localhost:8080/"
        },
        "id": "b9BolK9wzFqc",
        "outputId": "eea32f61-51f4-4447-c050-44ebe6d1df6a"
      },
      "source": [
        "numbers[2] = \"forty five\"\n",
        "print(numbers)\n"
      ],
      "execution_count": 34,
      "outputs": [
        {
          "output_type": "stream",
          "name": "stdout",
          "text": [
            "['one', 'two', 'forty five', 'four', 1, 1, 'h', 'e', 'l', 'l', 'o', 'h', 'e', 'l', 'l', 'o']\n"
          ]
        }
      ]
    },
    {
      "cell_type": "code",
      "metadata": {
        "colab": {
          "base_uri": "https://localhost:8080/"
        },
        "id": "4lkM0l0dzTbG",
        "outputId": "bd1269f1-24d8-4752-c91e-f3a83e9d8ca9"
      },
      "source": [
        "len(numbers)"
      ],
      "execution_count": 8,
      "outputs": [
        {
          "output_type": "execute_result",
          "data": {
            "text/plain": [
              "4"
            ]
          },
          "metadata": {},
          "execution_count": 8
        }
      ]
    },
    {
      "cell_type": "code",
      "metadata": {
        "colab": {
          "base_uri": "https://localhost:8080/"
        },
        "id": "eriELR2pzXTo",
        "outputId": "b374f318-3b0c-4f43-8bcc-23efd78a6020"
      },
      "source": [
        "dir(numbers)#different methods that exists for a varible type\n"
      ],
      "execution_count": 13,
      "outputs": [
        {
          "output_type": "execute_result",
          "data": {
            "text/plain": [
              "['__add__',\n",
              " '__class__',\n",
              " '__contains__',\n",
              " '__delattr__',\n",
              " '__delitem__',\n",
              " '__dir__',\n",
              " '__doc__',\n",
              " '__eq__',\n",
              " '__format__',\n",
              " '__ge__',\n",
              " '__getattribute__',\n",
              " '__getitem__',\n",
              " '__gt__',\n",
              " '__hash__',\n",
              " '__iadd__',\n",
              " '__imul__',\n",
              " '__init__',\n",
              " '__init_subclass__',\n",
              " '__iter__',\n",
              " '__le__',\n",
              " '__len__',\n",
              " '__lt__',\n",
              " '__mul__',\n",
              " '__ne__',\n",
              " '__new__',\n",
              " '__reduce__',\n",
              " '__reduce_ex__',\n",
              " '__repr__',\n",
              " '__reversed__',\n",
              " '__rmul__',\n",
              " '__setattr__',\n",
              " '__setitem__',\n",
              " '__sizeof__',\n",
              " '__str__',\n",
              " '__subclasshook__',\n",
              " 'append',\n",
              " 'clear',\n",
              " 'copy',\n",
              " 'count',\n",
              " 'extend',\n",
              " 'index',\n",
              " 'insert',\n",
              " 'pop',\n",
              " 'remove',\n",
              " 'reverse',\n",
              " 'sort']"
            ]
          },
          "metadata": {},
          "execution_count": 13
        }
      ]
    },
    {
      "cell_type": "code",
      "metadata": {
        "colab": {
          "base_uri": "https://localhost:8080/",
          "height": 35
        },
        "id": "GoU3YuGnz3u0",
        "outputId": "27f64086-f464-4981-c2b8-91a3b4cd03a7"
      },
      "source": [
        "numbers[-4]"
      ],
      "execution_count": 15,
      "outputs": [
        {
          "output_type": "execute_result",
          "data": {
            "application/vnd.google.colaboratory.intrinsic+json": {
              "type": "string"
            },
            "text/plain": [
              "'one'"
            ]
          },
          "metadata": {},
          "execution_count": 15
        }
      ]
    },
    {
      "cell_type": "code",
      "metadata": {
        "id": "UsRu9nIx0Hyk"
      },
      "source": [
        "numbers[1] = \"twenty one\" #mutable"
      ],
      "execution_count": 16,
      "outputs": []
    },
    {
      "cell_type": "code",
      "metadata": {
        "colab": {
          "base_uri": "https://localhost:8080/"
        },
        "id": "UeM6KqX50RAt",
        "outputId": "42798f03-bdab-45bc-9e41-b25cf473e710"
      },
      "source": [
        "print(numbers)"
      ],
      "execution_count": 17,
      "outputs": [
        {
          "output_type": "stream",
          "name": "stdout",
          "text": [
            "['one', 'twenty one', 'three', 'four']\n"
          ]
        }
      ]
    },
    {
      "cell_type": "code",
      "metadata": {
        "id": "bjeC5h5Z0XUH"
      },
      "source": [
        "# string as sequence\n",
        "name = \"IS 612\""
      ],
      "execution_count": 36,
      "outputs": []
    },
    {
      "cell_type": "code",
      "metadata": {
        "colab": {
          "base_uri": "https://localhost:8080/",
          "height": 254
        },
        "id": "KFujAyH_0aRu",
        "outputId": "6dbfb2f3-8262-43b0-f7c3-1d6adbbec6f0"
      },
      "source": [
        "name[-1]\n",
        "# name = \"EVENING\"\n",
        "name[0] = \"K\"\n",
        "name"
      ],
      "execution_count": 37,
      "outputs": [
        {
          "output_type": "error",
          "ename": "TypeError",
          "evalue": "ignored",
          "traceback": [
            "\u001b[0;31m---------------------------------------------------------------------------\u001b[0m",
            "\u001b[0;31mTypeError\u001b[0m                                 Traceback (most recent call last)",
            "\u001b[0;32m<ipython-input-37-a327d52d74ab>\u001b[0m in \u001b[0;36m<module>\u001b[0;34m()\u001b[0m\n\u001b[1;32m      1\u001b[0m \u001b[0mname\u001b[0m\u001b[0;34m[\u001b[0m\u001b[0;34m-\u001b[0m\u001b[0;36m1\u001b[0m\u001b[0;34m]\u001b[0m\u001b[0;34m\u001b[0m\u001b[0;34m\u001b[0m\u001b[0m\n\u001b[1;32m      2\u001b[0m \u001b[0;31m# name = \"EVENING\"\u001b[0m\u001b[0;34m\u001b[0m\u001b[0;34m\u001b[0m\u001b[0;34m\u001b[0m\u001b[0m\n\u001b[0;32m----> 3\u001b[0;31m \u001b[0mname\u001b[0m\u001b[0;34m[\u001b[0m\u001b[0;36m0\u001b[0m\u001b[0;34m]\u001b[0m \u001b[0;34m=\u001b[0m \u001b[0;34m\"K\"\u001b[0m\u001b[0;34m\u001b[0m\u001b[0;34m\u001b[0m\u001b[0m\n\u001b[0m\u001b[1;32m      4\u001b[0m \u001b[0mname\u001b[0m\u001b[0;34m\u001b[0m\u001b[0;34m\u001b[0m\u001b[0m\n",
            "\u001b[0;31mTypeError\u001b[0m: 'str' object does not support item assignment"
          ]
        }
      ]
    },
    {
      "cell_type": "code",
      "metadata": {
        "colab": {
          "base_uri": "https://localhost:8080/",
          "height": 236
        },
        "id": "tKweS8Yv0pDm",
        "outputId": "1fe96c06-d79a-46dd-b4f5-8bfefc2a5e42"
      },
      "source": [
        "numbers += \"hello\" #this is valid because string is iterable\n",
        "numbers += 1 # this is invalid because int is not iterable\n",
        "print(numbers)"
      ],
      "execution_count": 32,
      "outputs": [
        {
          "output_type": "error",
          "ename": "TypeError",
          "evalue": "ignored",
          "traceback": [
            "\u001b[0;31m---------------------------------------------------------------------------\u001b[0m",
            "\u001b[0;31mTypeError\u001b[0m                                 Traceback (most recent call last)",
            "\u001b[0;32m<ipython-input-32-f8140cf06363>\u001b[0m in \u001b[0;36m<module>\u001b[0;34m()\u001b[0m\n\u001b[1;32m      1\u001b[0m \u001b[0mnumbers\u001b[0m \u001b[0;34m+=\u001b[0m \u001b[0;34m\"hello\"\u001b[0m \u001b[0;31m#this is valid because string is iterable\u001b[0m\u001b[0;34m\u001b[0m\u001b[0;34m\u001b[0m\u001b[0m\n\u001b[0;32m----> 2\u001b[0;31m \u001b[0mnumbers\u001b[0m \u001b[0;34m+=\u001b[0m \u001b[0;36m1\u001b[0m \u001b[0;31m# this is invalid because int is not iterable\u001b[0m\u001b[0;34m\u001b[0m\u001b[0;34m\u001b[0m\u001b[0m\n\u001b[0m\u001b[1;32m      3\u001b[0m \u001b[0mprint\u001b[0m\u001b[0;34m(\u001b[0m\u001b[0mnumbers\u001b[0m\u001b[0;34m)\u001b[0m\u001b[0;34m\u001b[0m\u001b[0;34m\u001b[0m\u001b[0m\n",
            "\u001b[0;31mTypeError\u001b[0m: 'int' object is not iterable"
          ]
        }
      ]
    },
    {
      "cell_type": "code",
      "metadata": {
        "colab": {
          "base_uri": "https://localhost:8080/"
        },
        "id": "M1emauKH1SXJ",
        "outputId": "76d6fc1e-77d8-40c2-c07a-bafe2a233d85"
      },
      "source": [
        "a = [3,2,3]\n",
        "b = [3,2,1] \n",
        "print(a<b)"
      ],
      "execution_count": 42,
      "outputs": [
        {
          "output_type": "stream",
          "name": "stdout",
          "text": [
            "False\n"
          ]
        }
      ]
    },
    {
      "cell_type": "code",
      "metadata": {
        "colab": {
          "base_uri": "https://localhost:8080/"
        },
        "id": "nRV_MRMw2fUu",
        "outputId": "1295fda6-a697-4aec-d9e7-d63eda27ab71"
      },
      "source": [
        "# list methods\n",
        "# https://docs.python.org/3/tutorial/datastructures.html#more-on-lists\n",
        "numbers = [1,2,3,4,5]\n",
        "# append\n",
        "numbers.append(6)\n",
        "print(numbers)\n",
        "numbers.append([1,2,3])\n",
        "print(numbers)\n",
        "# nested_list -> [1, 2, 3, 4, 5, 6, [1, 2, 3]]"
      ],
      "execution_count": 55,
      "outputs": [
        {
          "output_type": "stream",
          "name": "stdout",
          "text": [
            "[1, 2, 3, 4, 5, 6]\n",
            "[1, 2, 3, 4, 5, 6, [1, 2, 3]]\n"
          ]
        }
      ]
    },
    {
      "cell_type": "code",
      "metadata": {
        "colab": {
          "base_uri": "https://localhost:8080/"
        },
        "id": "FOidnI0i24V0",
        "outputId": "90e2d089-c303-4fed-ecf8-26531ff271be"
      },
      "source": [
        "numbers.extend([9,10,11])\n",
        "numbers"
      ],
      "execution_count": 56,
      "outputs": [
        {
          "output_type": "execute_result",
          "data": {
            "text/plain": [
              "[1, 2, 3, 4, 5, 6, [1, 2, 3], 9, 10, 11]"
            ]
          },
          "metadata": {},
          "execution_count": 56
        }
      ]
    },
    {
      "cell_type": "code",
      "metadata": {
        "colab": {
          "base_uri": "https://localhost:8080/"
        },
        "id": "ZSB3dH273Exa",
        "outputId": "615b797e-36c0-4fdf-f9df-241445b1f32c"
      },
      "source": [
        "numbers.insert(0,1111)\n",
        "numbers.insert(5,-10)\n",
        "numbers\n"
      ],
      "execution_count": 57,
      "outputs": [
        {
          "output_type": "execute_result",
          "data": {
            "text/plain": [
              "[1111, 1, 2, 3, 4, -10, 5, 6, [1, 2, 3], 9, 10, 11]"
            ]
          },
          "metadata": {},
          "execution_count": 57
        }
      ]
    },
    {
      "cell_type": "code",
      "metadata": {
        "colab": {
          "base_uri": "https://localhost:8080/"
        },
        "id": "8TN72zxI3mao",
        "outputId": "0ad67904-f085-45d0-b407-961dbd860698"
      },
      "source": [
        "numbers.append(1)\n",
        "numbers"
      ],
      "execution_count": 58,
      "outputs": [
        {
          "output_type": "execute_result",
          "data": {
            "text/plain": [
              "[1111, 1, 2, 3, 4, -10, 5, 6, [1, 2, 3], 9, 10, 11, 1]"
            ]
          },
          "metadata": {},
          "execution_count": 58
        }
      ]
    },
    {
      "cell_type": "code",
      "metadata": {
        "id": "oCbv-7fx3uGy"
      },
      "source": [
        "numbers.remove(1)\n"
      ],
      "execution_count": 59,
      "outputs": []
    },
    {
      "cell_type": "code",
      "metadata": {
        "colab": {
          "base_uri": "https://localhost:8080/",
          "height": 201
        },
        "id": "EDI1u5q03z87",
        "outputId": "8728f9f6-5e0d-4052-dbb4-fca6e7fcb740"
      },
      "source": [
        "numbers.remove(\"hello\")"
      ],
      "execution_count": 61,
      "outputs": [
        {
          "output_type": "error",
          "ename": "ValueError",
          "evalue": "ignored",
          "traceback": [
            "\u001b[0;31m---------------------------------------------------------------------------\u001b[0m",
            "\u001b[0;31mValueError\u001b[0m                                Traceback (most recent call last)",
            "\u001b[0;32m<ipython-input-61-a0c3ac3faf6a>\u001b[0m in \u001b[0;36m<module>\u001b[0;34m()\u001b[0m\n\u001b[0;32m----> 1\u001b[0;31m \u001b[0mnumbers\u001b[0m\u001b[0;34m.\u001b[0m\u001b[0mremove\u001b[0m\u001b[0;34m(\u001b[0m\u001b[0;34m\"hello\"\u001b[0m\u001b[0;34m)\u001b[0m\u001b[0;34m\u001b[0m\u001b[0;34m\u001b[0m\u001b[0m\n\u001b[0m",
            "\u001b[0;31mValueError\u001b[0m: list.remove(x): x not in list"
          ]
        }
      ]
    },
    {
      "cell_type": "code",
      "metadata": {
        "colab": {
          "base_uri": "https://localhost:8080/"
        },
        "id": "KuEufePc38Tl",
        "outputId": "55cdb0c5-42ee-443e-9a06-40667747a836"
      },
      "source": [
        "print(numbers)\n",
        "numbers.index(-10)"
      ],
      "execution_count": 66,
      "outputs": [
        {
          "output_type": "stream",
          "name": "stdout",
          "text": [
            "[1111, 2, 3, 4, -10, 5, 6, [1, 2, 3], 9, 10, 11, 1]\n"
          ]
        },
        {
          "output_type": "execute_result",
          "data": {
            "text/plain": [
              "4"
            ]
          },
          "metadata": {},
          "execution_count": 66
        }
      ]
    },
    {
      "cell_type": "code",
      "metadata": {
        "id": "MLe3s9tq4V08"
      },
      "source": [
        "numbers.extend([1,2,3,4,2,3,4])"
      ],
      "execution_count": 68,
      "outputs": []
    },
    {
      "cell_type": "code",
      "metadata": {
        "colab": {
          "base_uri": "https://localhost:8080/"
        },
        "id": "eWw9CENM4fHn",
        "outputId": "bd9d0c57-5ea0-43ec-c03c-777b934ad9d3"
      },
      "source": [
        "numbers.count(2)"
      ],
      "execution_count": 69,
      "outputs": [
        {
          "output_type": "execute_result",
          "data": {
            "text/plain": [
              "3"
            ]
          },
          "metadata": {},
          "execution_count": 69
        }
      ]
    },
    {
      "cell_type": "code",
      "metadata": {
        "colab": {
          "base_uri": "https://localhost:8080/"
        },
        "id": "u1n72wuS4inb",
        "outputId": "f3ace3ea-716d-41ad-811f-26696c04c125"
      },
      "source": [
        "numbers.count(-100)"
      ],
      "execution_count": 71,
      "outputs": [
        {
          "output_type": "execute_result",
          "data": {
            "text/plain": [
              "0"
            ]
          },
          "metadata": {},
          "execution_count": 71
        }
      ]
    },
    {
      "cell_type": "code",
      "metadata": {
        "colab": {
          "base_uri": "https://localhost:8080/"
        },
        "id": "8ewPgXuu4p3g",
        "outputId": "b6c209db-88e7-41ef-f29a-de3ae2db1e11"
      },
      "source": [
        "abc = numbers.reverse()\n",
        "print(abc)"
      ],
      "execution_count": 73,
      "outputs": [
        {
          "output_type": "stream",
          "name": "stdout",
          "text": [
            "None\n"
          ]
        }
      ]
    },
    {
      "cell_type": "markdown",
      "metadata": {
        "id": "RqonSfhr5Ctt"
      },
      "source": [
        "# TUPLES\n"
      ]
    },
    {
      "cell_type": "code",
      "metadata": {
        "colab": {
          "base_uri": "https://localhost:8080/"
        },
        "id": "UmazNzAz5BX7",
        "outputId": "ee6d9eb7-844d-4c5f-8b07-2a5032e1160a"
      },
      "source": [
        "()\n",
        "\n",
        "empty_tuple = ()\n",
        "print(len(empty_tuple))\n",
        "print(type(empty_tuple))\n"
      ],
      "execution_count": 74,
      "outputs": [
        {
          "output_type": "stream",
          "name": "stdout",
          "text": [
            "0\n",
            "<class 'tuple'>\n"
          ]
        }
      ]
    },
    {
      "cell_type": "code",
      "metadata": {
        "colab": {
          "base_uri": "https://localhost:8080/",
          "height": 219
        },
        "id": "gMjQpG3o5Vod",
        "outputId": "1c3d553e-345f-42df-b2f3-6479eeebbc19"
      },
      "source": [
        "empty_tuple = (1,2,3)\n",
        "empty_tuple[0]= 100\n",
        "\n"
      ],
      "execution_count": 76,
      "outputs": [
        {
          "output_type": "error",
          "ename": "TypeError",
          "evalue": "ignored",
          "traceback": [
            "\u001b[0;31m---------------------------------------------------------------------------\u001b[0m",
            "\u001b[0;31mTypeError\u001b[0m                                 Traceback (most recent call last)",
            "\u001b[0;32m<ipython-input-76-943203724b17>\u001b[0m in \u001b[0;36m<module>\u001b[0;34m()\u001b[0m\n\u001b[1;32m      1\u001b[0m \u001b[0mempty_tuple\u001b[0m \u001b[0;34m=\u001b[0m \u001b[0;34m(\u001b[0m\u001b[0;36m1\u001b[0m\u001b[0;34m,\u001b[0m\u001b[0;36m2\u001b[0m\u001b[0;34m,\u001b[0m\u001b[0;36m3\u001b[0m\u001b[0;34m)\u001b[0m\u001b[0;34m\u001b[0m\u001b[0;34m\u001b[0m\u001b[0m\n\u001b[0;32m----> 2\u001b[0;31m \u001b[0mempty_tuple\u001b[0m\u001b[0;34m[\u001b[0m\u001b[0;36m0\u001b[0m\u001b[0;34m]\u001b[0m\u001b[0;34m=\u001b[0m \u001b[0;36m100\u001b[0m\u001b[0;34m\u001b[0m\u001b[0;34m\u001b[0m\u001b[0m\n\u001b[0m",
            "\u001b[0;31mTypeError\u001b[0m: 'tuple' object does not support item assignment"
          ]
        }
      ]
    },
    {
      "cell_type": "code",
      "metadata": {
        "colab": {
          "base_uri": "https://localhost:8080/"
        },
        "id": "a17XTp2T5h1e",
        "outputId": "b1aea572-efb9-4720-baa5-3e2218b44e0d"
      },
      "source": [
        "another_tuple = 1,2,3,4\n",
        "print(another_tuple)"
      ],
      "execution_count": 77,
      "outputs": [
        {
          "output_type": "stream",
          "name": "stdout",
          "text": [
            "(1, 2, 3, 4)\n"
          ]
        }
      ]
    },
    {
      "cell_type": "code",
      "metadata": {
        "colab": {
          "base_uri": "https://localhost:8080/"
        },
        "id": "Io5Kdt8C5utR",
        "outputId": "2c6ea28c-48d2-44fb-e091-95f634e2efcd"
      },
      "source": [
        "another_tuple[0]"
      ],
      "execution_count": 80,
      "outputs": [
        {
          "output_type": "execute_result",
          "data": {
            "text/plain": [
              "1"
            ]
          },
          "metadata": {},
          "execution_count": 80
        }
      ]
    },
    {
      "cell_type": "code",
      "metadata": {
        "colab": {
          "base_uri": "https://localhost:8080/"
        },
        "id": "sk8YZZwf53hf",
        "outputId": "21818de7-d1f9-4156-e92f-a340ca589a01"
      },
      "source": [
        "another_tuple += (10,20)\n",
        "print(another_tuple)"
      ],
      "execution_count": 81,
      "outputs": [
        {
          "output_type": "stream",
          "name": "stdout",
          "text": [
            "(1, 2, 3, 4, 10, 20)\n"
          ]
        }
      ]
    },
    {
      "cell_type": "code",
      "metadata": {
        "colab": {
          "base_uri": "https://localhost:8080/"
        },
        "id": "obXUc4lp6DQH",
        "outputId": "0cd20bad-2cc0-446b-8c20-017e02f23dd6"
      },
      "source": [
        "numbers_2d = [[1,2], [3,4]]\n",
        "numbers_2d[0][0]\n",
        "\n",
        "for num_1d in numbers_2d:\n",
        "  for num in num_1d:\n",
        "    print(num)"
      ],
      "execution_count": 84,
      "outputs": [
        {
          "output_type": "stream",
          "name": "stdout",
          "text": [
            "1\n",
            "2\n",
            "3\n",
            "4\n"
          ]
        }
      ]
    },
    {
      "cell_type": "code",
      "metadata": {
        "id": "oa56nlqW623B"
      },
      "source": [
        "numbers_mixed = ([1,2], [1,2])"
      ],
      "execution_count": 90,
      "outputs": []
    },
    {
      "cell_type": "code",
      "metadata": {
        "colab": {
          "base_uri": "https://localhost:8080/"
        },
        "id": "2Xb8KXUg6_oG",
        "outputId": "fe39cc54-4dff-42de-c2ae-f31b017a4e0e"
      },
      "source": [
        "print(numbers_mixed)\n",
        "print(numbers_mixed[0])\n",
        "print(numbers_mixed[0][0])\n",
        "numbers_mixed[0][0] = 12\n",
        "print(numbers_mixed)"
      ],
      "execution_count": 91,
      "outputs": [
        {
          "output_type": "stream",
          "name": "stdout",
          "text": [
            "([1, 2], [1, 2])\n",
            "[1, 2]\n",
            "1\n",
            "([12, 2], [1, 2])\n"
          ]
        }
      ]
    },
    {
      "cell_type": "code",
      "metadata": {
        "colab": {
          "base_uri": "https://localhost:8080/"
        },
        "id": "RQ8JDlWu8YM2",
        "outputId": "ba759cc9-c4ca-42b5-8446-94bf93f2290c"
      },
      "source": [
        "numbers_mixed = ([[1],[2],[3]], [[4],[5],[6]])\n",
        "numbers_mixed[1][2][0]= 12\n",
        "# ([[1],[2],[3]], [[4],[5],[6]])\n",
        "# 0 -> [[1],[2],[3]]\n",
        "# 1 -> [[4],[5],[6]]\n",
        "#   0 -> [4]\n",
        "#   1 -> [5]\n",
        "#   2 -> [6]\n",
        "#     0 -> 6\n",
        "numbers_mixed\n",
        "\n",
        "\n"
      ],
      "execution_count": 92,
      "outputs": [
        {
          "output_type": "execute_result",
          "data": {
            "text/plain": [
              "([[1], [2], [3]], [[4], [5], [12]])"
            ]
          },
          "metadata": {},
          "execution_count": 92
        }
      ]
    },
    {
      "cell_type": "code",
      "metadata": {
        "colab": {
          "base_uri": "https://localhost:8080/"
        },
        "id": "dUukIyrW9-ez",
        "outputId": "af44ecd9-fea6-493f-ad3a-eb2c3aad79fd"
      },
      "source": [
        "numbers = (1,2,3,4,5)\n",
        "dir(numbers)"
      ],
      "execution_count": 93,
      "outputs": [
        {
          "output_type": "execute_result",
          "data": {
            "text/plain": [
              "['__add__',\n",
              " '__class__',\n",
              " '__contains__',\n",
              " '__delattr__',\n",
              " '__dir__',\n",
              " '__doc__',\n",
              " '__eq__',\n",
              " '__format__',\n",
              " '__ge__',\n",
              " '__getattribute__',\n",
              " '__getitem__',\n",
              " '__getnewargs__',\n",
              " '__gt__',\n",
              " '__hash__',\n",
              " '__init__',\n",
              " '__init_subclass__',\n",
              " '__iter__',\n",
              " '__le__',\n",
              " '__len__',\n",
              " '__lt__',\n",
              " '__mul__',\n",
              " '__ne__',\n",
              " '__new__',\n",
              " '__reduce__',\n",
              " '__reduce_ex__',\n",
              " '__repr__',\n",
              " '__rmul__',\n",
              " '__setattr__',\n",
              " '__sizeof__',\n",
              " '__str__',\n",
              " '__subclasshook__',\n",
              " 'count',\n",
              " 'index']"
            ]
          },
          "metadata": {},
          "execution_count": 93
        }
      ]
    },
    {
      "cell_type": "code",
      "metadata": {
        "colab": {
          "base_uri": "https://localhost:8080/"
        },
        "id": "K_G1aBay-Esg",
        "outputId": "c7de56f4-3263-4d9e-f583-bae6542a274e"
      },
      "source": [
        "numbers.index(2)\n",
        "numbers.count(5)"
      ],
      "execution_count": 96,
      "outputs": [
        {
          "output_type": "execute_result",
          "data": {
            "text/plain": [
              "1"
            ]
          },
          "metadata": {},
          "execution_count": 96
        }
      ]
    },
    {
      "cell_type": "code",
      "metadata": {
        "colab": {
          "base_uri": "https://localhost:8080/"
        },
        "id": "riUMsTIkAxmt",
        "outputId": "c486f5e1-738b-48b7-adde-e9e2171d591c"
      },
      "source": [
        "n1, n2, n3 = [1,2,3]\n",
        "print(n1)\n",
        "l1 = 1,2,3,4\n",
        "print(l1)"
      ],
      "execution_count": 99,
      "outputs": [
        {
          "output_type": "stream",
          "name": "stdout",
          "text": [
            "1\n",
            "(1, 2, 3, 4)\n"
          ]
        }
      ]
    },
    {
      "cell_type": "code",
      "metadata": {
        "id": "61FMN6GIBXdv"
      },
      "source": [
        "colors = ['red', 'green', 'blue']"
      ],
      "execution_count": 100,
      "outputs": []
    },
    {
      "cell_type": "code",
      "metadata": {
        "colab": {
          "base_uri": "https://localhost:8080/"
        },
        "id": "vSQ8xdJRBeQM",
        "outputId": "f0c33446-36ae-443f-8353-fcd0aab29757"
      },
      "source": [
        "for index,color in enumerate(colors):\n",
        "  print(f'{color} is at {index} position in the list')"
      ],
      "execution_count": 106,
      "outputs": [
        {
          "output_type": "stream",
          "name": "stdout",
          "text": [
            "red is at 0 position in the liust\n",
            "green is at 1 position in the liust\n",
            "blue is at 2 position in the liust\n"
          ]
        }
      ]
    },
    {
      "cell_type": "code",
      "metadata": {
        "colab": {
          "base_uri": "https://localhost:8080/"
        },
        "id": "D2ypKPx3B873",
        "outputId": "221218b0-57ac-4e4b-e09c-8776700e0892"
      },
      "source": [
        "# convert list to tuple and tuple to list\n",
        "a_tuple = (1,2)\n",
        "a_list = list(a_tuple)\n",
        "print(type(a_list))\n",
        "another_tuple = tuple(a_list)\n",
        "print(type(another_tuple))"
      ],
      "execution_count": 107,
      "outputs": [
        {
          "output_type": "stream",
          "name": "stdout",
          "text": [
            "<class 'list'>\n",
            "<class 'tuple'>\n"
          ]
        }
      ]
    },
    {
      "cell_type": "code",
      "metadata": {
        "id": "Di0pOKk6CZvD"
      },
      "source": [
        "# slicing\n",
        "numbers = [0,1,2,3,4,5,6,7,8,9]\n",
        "\n",
        "# numbers[<start_value>:<end_value>] "
      ],
      "execution_count": 115,
      "outputs": []
    },
    {
      "cell_type": "code",
      "metadata": {
        "colab": {
          "base_uri": "https://localhost:8080/"
        },
        "id": "o-Qxe_3qCrAv",
        "outputId": "a011cd04-4235-4b40-f57c-ac015e7c8d5a"
      },
      "source": [
        "print(numbers[3:6])"
      ],
      "execution_count": 111,
      "outputs": [
        {
          "output_type": "stream",
          "name": "stdout",
          "text": [
            "[4, 5, 6]\n"
          ]
        }
      ]
    },
    {
      "cell_type": "code",
      "metadata": {
        "colab": {
          "base_uri": "https://localhost:8080/"
        },
        "id": "Sh-8bELMC6ER",
        "outputId": "0a843176-9843-4b46-a311-837caa1ad5c6"
      },
      "source": [
        "print(numbers[-5:])"
      ],
      "execution_count": 114,
      "outputs": [
        {
          "output_type": "stream",
          "name": "stdout",
          "text": [
            "[6, 7, 8, 9, 0]\n"
          ]
        }
      ]
    },
    {
      "cell_type": "code",
      "metadata": {
        "colab": {
          "base_uri": "https://localhost:8080/"
        },
        "id": "FYd36-ItDUbu",
        "outputId": "4fdcf590-fe60-4e65-9ce3-1f9fa77158d7"
      },
      "source": [
        "print(f'highest 3 values are {numbers[-3:]}')\n",
        "print(f'lowest 3 values are {numbers[:3]}')"
      ],
      "execution_count": 117,
      "outputs": [
        {
          "output_type": "stream",
          "name": "stdout",
          "text": [
            "highest 3 values are [7, 8, 9]\n",
            "lowest 3 values are [0, 1, 2]\n"
          ]
        }
      ]
    },
    {
      "cell_type": "code",
      "metadata": {
        "colab": {
          "base_uri": "https://localhost:8080/"
        },
        "id": "FzFTi4UrDw6Q",
        "outputId": "11f6c921-2d43-4f83-f72f-7b359c683402"
      },
      "source": [
        "# slicing with steps\n",
        "# [<start_value>:<end_value>:<step_count>]\n",
        "print(numbers[:5:2])"
      ],
      "execution_count": 120,
      "outputs": [
        {
          "output_type": "stream",
          "name": "stdout",
          "text": [
            "[0, 1, 2, 3, 4]\n"
          ]
        }
      ]
    },
    {
      "cell_type": "code",
      "metadata": {
        "colab": {
          "base_uri": "https://localhost:8080/"
        },
        "id": "tx5vZMn5ET0Z",
        "outputId": "b86dadca-c461-4cec-fcb3-f3bd03d63412"
      },
      "source": [
        "# del in list\n",
        "print(numbers)"
      ],
      "execution_count": 121,
      "outputs": [
        {
          "output_type": "stream",
          "name": "stdout",
          "text": [
            "[0, 1, 2, 3, 4, 5, 6, 7, 8, 9]\n"
          ]
        }
      ]
    },
    {
      "cell_type": "code",
      "metadata": {
        "colab": {
          "base_uri": "https://localhost:8080/"
        },
        "id": "Mo18uBnSEarL",
        "outputId": "81ed7f24-8aa0-4d4b-df4d-bdbe9c960847"
      },
      "source": [
        "del numbers[1::2]\n",
        "print(numbers)"
      ],
      "execution_count": 122,
      "outputs": [
        {
          "output_type": "stream",
          "name": "stdout",
          "text": [
            "[0, 2, 4, 6, 8]\n"
          ]
        }
      ]
    },
    {
      "cell_type": "code",
      "metadata": {
        "colab": {
          "base_uri": "https://localhost:8080/"
        },
        "id": "C8KCY0ssEy7V",
        "outputId": "6164e304-86fe-4b12-db4b-9966f309fd66"
      },
      "source": [
        "# sorting\n",
        "numbers = [2,144,33,5115,2,4,99,0,-1212]\n",
        "sorted_numbers = sorted(numbers)\n",
        "print(numbers,'\\n\\t', sorted_numbers)\n",
        "# sort in place\n",
        "numbers.sort()\n",
        "print(numbers)\n",
        "\n"
      ],
      "execution_count": 126,
      "outputs": [
        {
          "output_type": "stream",
          "name": "stdout",
          "text": [
            "[2, 144, 33, 5115, 2, 4, 99, 0, -1212] \n",
            "\t [-1212, 0, 2, 2, 4, 33, 99, 144, 5115]\n",
            "[-1212, 0, 2, 2, 4, 33, 99, 144, 5115]\n"
          ]
        }
      ]
    },
    {
      "cell_type": "code",
      "metadata": {
        "colab": {
          "base_uri": "https://localhost:8080/"
        },
        "id": "rWVQnpp6FeUv",
        "outputId": "1221104c-72d3-43f5-f88b-7f13278fc6fe"
      },
      "source": [
        "if 144 in numbers:\n",
        "  print('144 is present in list')\n",
        "\n",
        "if 1000 not in numbers:\n",
        "  print('1000 is not present in list')\n",
        "\n",
        "mixed_list = [1,None,2,5]\n",
        "print(any(mixed_list))\n",
        "mixed_list=[]\n",
        "print(any(mixed_list))\n"
      ],
      "execution_count": 128,
      "outputs": [
        {
          "output_type": "stream",
          "name": "stdout",
          "text": [
            "144 is present in list\n",
            "1000 is not present in list\n",
            "True\n",
            "False\n"
          ]
        }
      ]
    },
    {
      "cell_type": "code",
      "metadata": {
        "colab": {
          "base_uri": "https://localhost:8080/"
        },
        "id": "jofDqORCGRDF",
        "outputId": "b22aa198-0c66-424d-9d7e-7c57ea6f0c7a"
      },
      "source": [
        "mixed_list = [1,None,2,5]\n",
        "print(all(mixed_list))\n",
        "mixed_list[1]= 12\n",
        "print(all(mixed_list))"
      ],
      "execution_count": 132,
      "outputs": [
        {
          "output_type": "stream",
          "name": "stdout",
          "text": [
            "False\n",
            "True\n"
          ]
        }
      ]
    },
    {
      "cell_type": "code",
      "metadata": {
        "id": "nrC86Fq8HZdh"
      },
      "source": [
        "# # Stacks\n",
        "\n",
        "\n",
        "# # stack of items\n",
        "\n",
        "\n",
        "\n",
        "# --------- empty table top\n",
        "# i push a plate ie I am inserting a plate in stack\n",
        "\n",
        "# \\----/\n",
        "# --------- size of the stack is 1\n",
        "\n",
        "# i push a plate ie I am inserting a plate in stack\n",
        "\n",
        "# \\----/\n",
        "# \\----/\n",
        "# --------- size of the stack is 2\n",
        "\n",
        "\n",
        "# i push a plate ie I am inserting a plate in stack\n",
        "\n",
        "# \\--C--/\n",
        "# \\--B--/\n",
        "# \\--A--/\n",
        "# --------- size of the stack is 3\n",
        "\n",
        "# pop items\n",
        "\n",
        "# if I pop from stack, ie removing \n",
        "\n",
        "# \\--B--/\n",
        "# \\--A--/\n",
        "# --------- size of the stack is 2 and the removed plate is \\--C--/\n",
        "\n",
        "\n",
        "# if I pop from stack, ie removing \n",
        "\n",
        "# \\--A--/\n",
        "# --------- size of the stack is 1 and the removed plate is \\--B--/\n",
        "\n",
        "\n",
        "# if I pop from stack, ie removing \n",
        "\n",
        "# --------- the stack is empty and the removed plate is \\--A--/\n",
        "\n",
        "\n",
        "# LIFO --- Last in first out\n",
        "\n",
        "\n",
        "# QUeue\n",
        "# FIrst in first out\n"
      ],
      "execution_count": 133,
      "outputs": []
    },
    {
      "cell_type": "code",
      "metadata": {
        "colab": {
          "base_uri": "https://localhost:8080/"
        },
        "id": "I0d-v4sVJQWL",
        "outputId": "a8e91f23-cb05-491c-902e-8651546f6c36"
      },
      "source": [
        "# stacks with list\n",
        "stack = []\n",
        "# to push\n",
        "stack.append(10)\n",
        "stack.append(20)\n",
        "stack.append(30)\n",
        "\n",
        "print(stack)"
      ],
      "execution_count": 134,
      "outputs": [
        {
          "output_type": "stream",
          "name": "stdout",
          "text": [
            "[10, 20, 30]\n"
          ]
        }
      ]
    },
    {
      "cell_type": "code",
      "metadata": {
        "colab": {
          "base_uri": "https://localhost:8080/"
        },
        "id": "rxowVWUpJbVK",
        "outputId": "8dae4886-3d73-4d4d-d91e-69fe9848ac7c"
      },
      "source": [
        "stack.pop()"
      ],
      "execution_count": 135,
      "outputs": [
        {
          "output_type": "execute_result",
          "data": {
            "text/plain": [
              "30"
            ]
          },
          "metadata": {},
          "execution_count": 135
        }
      ]
    },
    {
      "cell_type": "code",
      "metadata": {
        "colab": {
          "base_uri": "https://localhost:8080/"
        },
        "id": "uItbClY4JiCk",
        "outputId": "e3e897b4-2e81-4947-aedc-26a5309da0d9"
      },
      "source": [
        "stack.pop()"
      ],
      "execution_count": 136,
      "outputs": [
        {
          "output_type": "execute_result",
          "data": {
            "text/plain": [
              "20"
            ]
          },
          "metadata": {},
          "execution_count": 136
        }
      ]
    },
    {
      "cell_type": "code",
      "metadata": {
        "colab": {
          "base_uri": "https://localhost:8080/"
        },
        "id": "0mUJkGMbJkYf",
        "outputId": "dc5852b6-7ac0-4a42-aa0e-b59fd9695a46"
      },
      "source": [
        "stack.pop()"
      ],
      "execution_count": 138,
      "outputs": [
        {
          "output_type": "execute_result",
          "data": {
            "text/plain": [
              "10"
            ]
          },
          "metadata": {},
          "execution_count": 138
        }
      ]
    },
    {
      "cell_type": "code",
      "metadata": {
        "colab": {
          "base_uri": "https://localhost:8080/"
        },
        "id": "2UV9PEr7JnCQ",
        "outputId": "a47e1602-cfca-4145-bb83-044ea95e5ce0"
      },
      "source": [
        "stack"
      ],
      "execution_count": 139,
      "outputs": [
        {
          "output_type": "execute_result",
          "data": {
            "text/plain": [
              "[]"
            ]
          },
          "metadata": {},
          "execution_count": 139
        }
      ]
    },
    {
      "cell_type": "code",
      "metadata": {
        "colab": {
          "base_uri": "https://localhost:8080/",
          "height": 201
        },
        "id": "R-gazd4bJoru",
        "outputId": "15ac2284-1b90-4efd-dac5-8cb159b14135"
      },
      "source": [
        "stack.pop()"
      ],
      "execution_count": 140,
      "outputs": [
        {
          "output_type": "error",
          "ename": "IndexError",
          "evalue": "ignored",
          "traceback": [
            "\u001b[0;31m---------------------------------------------------------------------------\u001b[0m",
            "\u001b[0;31mIndexError\u001b[0m                                Traceback (most recent call last)",
            "\u001b[0;32m<ipython-input-140-415460d3b717>\u001b[0m in \u001b[0;36m<module>\u001b[0;34m()\u001b[0m\n\u001b[0;32m----> 1\u001b[0;31m \u001b[0mstack\u001b[0m\u001b[0;34m.\u001b[0m\u001b[0mpop\u001b[0m\u001b[0;34m(\u001b[0m\u001b[0;34m)\u001b[0m\u001b[0;34m\u001b[0m\u001b[0;34m\u001b[0m\u001b[0m\n\u001b[0m",
            "\u001b[0;31mIndexError\u001b[0m: pop from empty list"
          ]
        }
      ]
    },
    {
      "cell_type": "code",
      "metadata": {
        "colab": {
          "base_uri": "https://localhost:8080/",
          "height": 35
        },
        "id": "2cvFCYE7Julx",
        "outputId": "05017832-a571-4ae1-e960-55038184e8ce"
      },
      "source": [
        "name = \"dhruv\"\n",
        "name"
      ],
      "execution_count": 141,
      "outputs": [
        {
          "output_type": "execute_result",
          "data": {
            "application/vnd.google.colaboratory.intrinsic+json": {
              "type": "string"
            },
            "text/plain": [
              "'dhruv'"
            ]
          },
          "metadata": {},
          "execution_count": 141
        }
      ]
    },
    {
      "cell_type": "code",
      "metadata": {
        "id": "bSVYopyoSOrk"
      },
      "source": [
        "#"
      ],
      "execution_count": null,
      "outputs": []
    },
    {
      "cell_type": "markdown",
      "metadata": {
        "id": "SdX1c0K6SP-b"
      },
      "source": [
        "# Dictionaries\n"
      ]
    },
    {
      "cell_type": "code",
      "metadata": {
        "colab": {
          "base_uri": "https://localhost:8080/"
        },
        "id": "LCwKi2voSSaj",
        "outputId": "8e92bfd8-0d40-4d63-d1a1-03435d08a6d3"
      },
      "source": [
        "#  key value pair\n",
        "#  keys are unique\n",
        "\n",
        "\n",
        "#  key1 -> values\n",
        "#  \"one\" -> (.....)\n",
        "#  key2 -> values\n",
        "#  \"two\" ->\n",
        "\n",
        "a_dictionary = {} # creating empty dictionary\n",
        "print(type(a_dictionary))\n",
        "print(a_dictionary)\n",
        "\n",
        "# create dict with one key_value pair\n",
        "# a_dictionary = {\"one\": 1}\n",
        "# a_dictionary = {\"one\": [1,2]}\n",
        "# a_dictionary = {\"one\": (1,2)}\n",
        "\n",
        "a_dictionary[\"one\"] = 12\n",
        "a_dictionary[\"two\"] = 12\n",
        "a_dictionary[\"two\"] = 23\n",
        "a_dictionary[(1,2)] = 1200\n",
        "a_dictionary[12] = 1211\n",
        "a_dictionary[1.01] = 12.0101\n",
        "              \n",
        "print(a_dictionary)\n"
      ],
      "execution_count": 151,
      "outputs": [
        {
          "output_type": "stream",
          "name": "stdout",
          "text": [
            "<class 'dict'>\n",
            "{}\n",
            "{'one': 12, 'two': 23, (1, 2): 1200, 12: 1211, 1.01: 12.0101}\n"
          ]
        }
      ]
    },
    {
      "cell_type": "code",
      "metadata": {
        "id": "emGcAK5LUKku"
      },
      "source": [
        "dict_class = {\"one\": 12, \"two\": \"hi\", \"one\": 111}"
      ],
      "execution_count": 153,
      "outputs": []
    },
    {
      "cell_type": "code",
      "metadata": {
        "colab": {
          "base_uri": "https://localhost:8080/"
        },
        "id": "HfYRppaZUTtk",
        "outputId": "da6dc7f5-45a5-4053-830d-e274beb90f10"
      },
      "source": [
        "dict_class"
      ],
      "execution_count": 154,
      "outputs": [
        {
          "output_type": "execute_result",
          "data": {
            "text/plain": [
              "{'one': 111, 'two': 'hi'}"
            ]
          },
          "metadata": {},
          "execution_count": 154
        }
      ]
    }
  ]
}