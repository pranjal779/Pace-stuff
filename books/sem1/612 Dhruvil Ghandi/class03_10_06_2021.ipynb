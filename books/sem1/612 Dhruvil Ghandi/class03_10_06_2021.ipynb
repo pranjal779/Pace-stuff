{
  "nbformat": 4,
  "nbformat_minor": 0,
  "metadata": {
    "colab": {
      "name": "class03 - 10/06/2021.ipynb",
      "provenance": [],
      "collapsed_sections": []
    },
    "kernelspec": {
      "name": "python3",
      "display_name": "Python 3"
    },
    "language_info": {
      "name": "python"
    }
  },
  "cells": [
    {
      "cell_type": "code",
      "metadata": {
        "colab": {
          "base_uri": "https://localhost:8080/"
        },
        "id": "s5Jx6QsmpcgP",
        "outputId": "d6046df7-ff60-44f1-8e15-c8b4abfc432c"
      },
      "source": [
        "# for <condition/range/ ...>:\n",
        "#   statements\n",
        "\n",
        "characters = 'python'\n",
        "#for one_itwm in list of items\n",
        "for character in characters:\n",
        "  print(character)\n",
        "\n",
        "# in is another keyword in python\n",
        "\n"
      ],
      "execution_count": 1,
      "outputs": [
        {
          "output_type": "stream",
          "name": "stdout",
          "text": [
            "p\n",
            "y\n",
            "t\n",
            "h\n",
            "o\n",
            "n\n"
          ]
        }
      ]
    },
    {
      "cell_type": "code",
      "metadata": {
        "colab": {
          "base_uri": "https://localhost:8080/"
        },
        "id": "JERUOErTstFF",
        "outputId": "a3047773-8b3f-4a17-b4dc-3dc19b4e1520"
      },
      "source": [
        "#using in wiht if\n",
        "if 'th' in characters:\n",
        "  print(f\"th present in {characters}\")"
      ],
      "execution_count": 2,
      "outputs": [
        {
          "output_type": "stream",
          "name": "stdout",
          "text": [
            "th present in python\n"
          ]
        }
      ]
    },
    {
      "cell_type": "code",
      "metadata": {
        "id": "yo_Cbt-LtA7A"
      },
      "source": [
        "#print(character, end=' ')"
      ],
      "execution_count": 3,
      "outputs": []
    },
    {
      "cell_type": "code",
      "metadata": {
        "id": "LQFDcRf4tfy_"
      },
      "source": [
        "#seperator"
      ],
      "execution_count": 4,
      "outputs": []
    },
    {
      "cell_type": "code",
      "metadata": {
        "id": "XfynR44htix4"
      },
      "source": [
        "#keywords inside a function, do not put spaces (do this instead) eg: end=\n",
        "\n",
        "#to quickly comment use cntrl+/"
      ],
      "execution_count": 5,
      "outputs": []
    },
    {
      "cell_type": "code",
      "metadata": {
        "colab": {
          "base_uri": "https://localhost:8080/"
        },
        "id": "IZDgEb6UtxgV",
        "outputId": "79f7b442-62e5-4c24-ed21-4730fdb59141"
      },
      "source": [
        "#lists\n",
        "['string', 0 , 10.00, False]\n",
        "\n",
        "for number in [1, 2, 3, 4, 5]:\n",
        "  print(f\"current values of the variable number {number}\")"
      ],
      "execution_count": 6,
      "outputs": [
        {
          "output_type": "stream",
          "name": "stdout",
          "text": [
            "current values of the variable number 1\n",
            "current values of the variable number 2\n",
            "current values of the variable number 3\n",
            "current values of the variable number 4\n",
            "current values of the variable number 5\n"
          ]
        }
      ]
    },
    {
      "cell_type": "code",
      "metadata": {
        "colab": {
          "base_uri": "https://localhost:8080/",
          "height": 35
        },
        "id": "MOePvpwGumPU",
        "outputId": "729c0f8b-6af8-4729-9e33-4e36cdf20f4d"
      },
      "source": [
        "#range function\n",
        "#function_name (variables, values)\n",
        "'''the values/variables are called arguments\n",
        "'''"
      ],
      "execution_count": 7,
      "outputs": [
        {
          "output_type": "execute_result",
          "data": {
            "application/vnd.google.colaboratory.intrinsic+json": {
              "type": "string"
            },
            "text/plain": [
              "'the values/variables are called arguments\\n'"
            ]
          },
          "metadata": {},
          "execution_count": 7
        }
      ]
    },
    {
      "cell_type": "code",
      "metadata": {
        "colab": {
          "base_uri": "https://localhost:8080/",
          "height": 35
        },
        "id": "H6GD6TqPvCHi",
        "outputId": "5e8335bc-91bd-4aba-b6fe-b3ccadc494a2"
      },
      "source": [
        "'''\n",
        "range()\n",
        "\n",
        "range(starting_value, ending_value, stepper_value)\n",
        "'''"
      ],
      "execution_count": 8,
      "outputs": [
        {
          "output_type": "execute_result",
          "data": {
            "application/vnd.google.colaboratory.intrinsic+json": {
              "type": "string"
            },
            "text/plain": [
              "'\\nrange()\\n\\nrange(starting_value, ending_value, stepper_value)\\n'"
            ]
          },
          "metadata": {},
          "execution_count": 8
        }
      ]
    },
    {
      "cell_type": "code",
      "metadata": {
        "id": "3AdShPHBvSEA"
      },
      "source": [
        "value = []\n",
        "if value in range(0, 10, 2):\n",
        "  print(value)\n",
        "\n",
        "#starting_value\n",
        "#starting_value + stepper_value - if starting value < ending_value\n"
      ],
      "execution_count": 14,
      "outputs": []
    },
    {
      "cell_type": "code",
      "metadata": {
        "colab": {
          "base_uri": "https://localhost:8080/"
        },
        "id": "a2d9c-Jrv-tI",
        "outputId": "337f2652-e1cd-4d99-9e5c-560e0910bdcd"
      },
      "source": [
        "vlaue = []\n",
        "for value in range(1000, 0, -100):\n",
        "  print(value)\n",
        "\n",
        "#\n",
        "for value in range(15, 11):\n",
        "  print(value)"
      ],
      "execution_count": 10,
      "outputs": [
        {
          "output_type": "stream",
          "name": "stdout",
          "text": [
            "1000\n",
            "900\n",
            "800\n",
            "700\n",
            "600\n",
            "500\n",
            "400\n",
            "300\n",
            "200\n",
            "100\n"
          ]
        }
      ]
    },
    {
      "cell_type": "code",
      "metadata": {
        "colab": {
          "base_uri": "https://localhost:8080/"
        },
        "id": "hON2y1U_wo3R",
        "outputId": "b0bf23f5-0dcc-42d4-8704-1d984d9c553e"
      },
      "source": [
        "result = 0\n",
        "for number in [1, 2, 3, 4, 5]:\n",
        "  result += number\n",
        "  print(f\"the result is {result}\")"
      ],
      "execution_count": 15,
      "outputs": [
        {
          "output_type": "stream",
          "name": "stdout",
          "text": [
            "the result is 1\n",
            "the result is 3\n",
            "the result is 6\n",
            "the result is 10\n",
            "the result is 15\n"
          ]
        }
      ]
    },
    {
      "cell_type": "code",
      "metadata": {
        "colab": {
          "base_uri": "https://localhost:8080/"
        },
        "id": "TnHdikMVxq4J",
        "outputId": "d4436f3c-3de0-45fe-b889-7e9f287826a5"
      },
      "source": [
        "pass_student = 0\n",
        "fail_student = 0\n",
        "\n",
        "for student in range(10):\n",
        "  result = int(input(\"Enter exam result for student\"+ str(student)))\n",
        "  if result>=33:\n",
        "    pass_student += 1\n",
        "  else:\n",
        "    fail_student += 1\n",
        "\n",
        "print(pass_student)\n",
        "print(fail_student)\n",
        "if pass_student > 8:\n",
        "  print(\"\\nbonus to instructor\")\n"
      ],
      "execution_count": 25,
      "outputs": [
        {
          "output_type": "stream",
          "name": "stdout",
          "text": [
            "Enter exam result for student089\n",
            "Enter exam result for student189\n",
            "Enter exam result for student287\n",
            "Enter exam result for student309\n",
            "Enter exam result for student487\n",
            "Enter exam result for student587\n",
            "Enter exam result for student656\n",
            "Enter exam result for student765\n",
            "Enter exam result for student809\n",
            "Enter exam result for student909\n",
            "7\n",
            "3\n"
          ]
        }
      ]
    },
    {
      "cell_type": "code",
      "metadata": {
        "colab": {
          "base_uri": "https://localhost:8080/",
          "height": 131
        },
        "id": "KCT7LBTm0-9x",
        "outputId": "e57d6c78-4e94-44af-c71f-27762ea8e22d"
      },
      "source": [
        "#break\n",
        "for i in range(5):\n",
        "  if i==3:\n",
        "    break #ends the loop\n",
        "  print(i)\n",
        "print('ended')\n",
        "\n",
        "for i in range(5):\n",
        "  if i==3:\n",
        "  #  contine #skips the rest of the loop\n",
        "  print(i)\n",
        "  print(\"running\")\n",
        "print('ended')"
      ],
      "execution_count": 27,
      "outputs": [
        {
          "output_type": "error",
          "ename": "IndentationError",
          "evalue": "ignored",
          "traceback": [
            "\u001b[0;36m  File \u001b[0;32m\"<ipython-input-27-fc3cdc151d37>\"\u001b[0;36m, line \u001b[0;32m11\u001b[0m\n\u001b[0;31m    print(i)\u001b[0m\n\u001b[0m        ^\u001b[0m\n\u001b[0;31mIndentationError\u001b[0m\u001b[0;31m:\u001b[0m expected an indented block\n"
          ]
        }
      ]
    },
    {
      "cell_type": "code",
      "metadata": {
        "colab": {
          "base_uri": "https://localhost:8080/",
          "height": 35
        },
        "id": "20NYm35C9ehp",
        "outputId": "087353f2-7eca-431f-901f-fe741569cefc"
      },
      "source": [
        "#def\n",
        "'''def function_name(0 or more parameters):\n",
        "  function_body'''\n"
      ],
      "execution_count": 28,
      "outputs": [
        {
          "output_type": "execute_result",
          "data": {
            "application/vnd.google.colaboratory.intrinsic+json": {
              "type": "string"
            },
            "text/plain": [
              "'def function_name():\\n  function_body'"
            ]
          },
          "metadata": {},
          "execution_count": 28
        }
      ]
    },
    {
      "cell_type": "code",
      "metadata": {
        "id": "W97hI6Df-e6N"
      },
      "source": [
        "def square():\n",
        "  print(\"square\")"
      ],
      "execution_count": 30,
      "outputs": []
    },
    {
      "cell_type": "code",
      "metadata": {
        "id": "8Jp48Vh4-lkH"
      },
      "source": [
        "#funtion take prints square of a number\n",
        "def square(number):\n",
        "  print(number*number)\n",
        "  #return 1\n",
        "  return number**2\n",
        "  '''return number**3 #while running in a .py file the whole code is executed \n",
        "  rather the single block in collab so you dont have to update the code again'''\n",
        "  \"\"\"always have the purpose of function in these quotes this is for commenting\"\"\""
      ],
      "execution_count": 38,
      "outputs": []
    },
    {
      "cell_type": "code",
      "metadata": {
        "colab": {
          "base_uri": "https://localhost:8080/"
        },
        "id": "tK47tweo_Cye",
        "outputId": "f47a3588-5c03-43b4-ff77-0da04d14d9c0"
      },
      "source": [
        "square(4)"
      ],
      "execution_count": 32,
      "outputs": [
        {
          "output_type": "stream",
          "name": "stdout",
          "text": [
            "16\n"
          ]
        }
      ]
    },
    {
      "cell_type": "code",
      "metadata": {
        "colab": {
          "base_uri": "https://localhost:8080/"
        },
        "id": "0TtUnGbc_H5V",
        "outputId": "580e188c-681e-42c7-c49d-c1277463584f"
      },
      "source": [
        "answer = square(2)\n",
        "print(f\"the answer is {answer}\")\n",
        "\n",
        "#return statement"
      ],
      "execution_count": 36,
      "outputs": [
        {
          "output_type": "stream",
          "name": "stdout",
          "text": [
            "4\n",
            "the answer is 4\n"
          ]
        }
      ]
    },
    {
      "cell_type": "code",
      "metadata": {
        "colab": {
          "base_uri": "https://localhost:8080/"
        },
        "id": "1zy_ajx7_cK8",
        "outputId": "8b957087-7d21-4fa3-e628-daad94ccf798"
      },
      "source": [
        "#function to add 2 numbers\n",
        "def add(x, y):\n",
        "  result = x + y\n",
        "  return result\n",
        "\n",
        "one = 1\n",
        "two = 2\n",
        "\n",
        "three = add(one,two)\n",
        "print(three)\n",
        "print(type(three))"
      ],
      "execution_count": 40,
      "outputs": [
        {
          "output_type": "stream",
          "name": "stdout",
          "text": [
            "3\n",
            "<class 'int'>\n"
          ]
        }
      ]
    },
    {
      "cell_type": "code",
      "metadata": {
        "id": "sP-DNYQ6CFci"
      },
      "source": [
        "#function to add 2 numbers\n",
        "def add(x, y):\n",
        "  resultxy = x + y\n",
        "  return resultxy\n",
        "\n",
        "\n",
        "\n",
        "one = 1\n",
        "two = 2\n",
        "\n",
        "three = add(one,two)\n",
        "print(three)\n",
        "print(type(three))"
      ],
      "execution_count": null,
      "outputs": []
    },
    {
      "cell_type": "code",
      "metadata": {
        "id": "OEPAl9k2Cw7C"
      },
      "source": [
        "def print_values(one, two):\n",
        "  print(f'value of one is {one}')\n",
        "  print(f'value of two is {two}')"
      ],
      "execution_count": 41,
      "outputs": []
    },
    {
      "cell_type": "code",
      "metadata": {
        "colab": {
          "base_uri": "https://localhost:8080/"
        },
        "id": "GlXLwPIWDJnK",
        "outputId": "8526a104-dba4-4831-d5c7-1df1c3b8468f"
      },
      "source": [
        "course = 'IS'\n",
        "number = '612'\n",
        "\n",
        "print_values(course, number)\n",
        "print_values(number, course)"
      ],
      "execution_count": 42,
      "outputs": [
        {
          "output_type": "stream",
          "name": "stdout",
          "text": [
            "value of one is IS\n",
            "value of two is 612\n",
            "value of one is 612\n",
            "value of two is IS\n"
          ]
        }
      ]
    },
    {
      "cell_type": "code",
      "metadata": {
        "colab": {
          "base_uri": "https://localhost:8080/"
        },
        "id": "0btFRvVADV5t",
        "outputId": "3aca56d5-fbac-4a60-85a1-02747d83fc42"
      },
      "source": [
        "#keyword_arguments\n",
        "\n",
        "print_values(two=number, one=course) #order of the argument is important, now it will get executed correctly"
      ],
      "execution_count": 43,
      "outputs": [
        {
          "output_type": "stream",
          "name": "stdout",
          "text": [
            "value of one is IS\n",
            "value of two is 612\n"
          ]
        }
      ]
    },
    {
      "cell_type": "code",
      "metadata": {
        "id": "lP8WRz-eDxku"
      },
      "source": [
        "def maximum(value1, value2, value3):\n",
        "  \"\"\"Return the maximum of three values.\"\"\"\n",
        "  max_value = value1\n",
        "  if value2 > max_value:\n",
        "    max_value = value2\n",
        "  if value3 > max_value:\n",
        "    max_value = value3\n",
        "  return max_value"
      ],
      "execution_count": 44,
      "outputs": []
    },
    {
      "cell_type": "code",
      "metadata": {
        "id": "pJfP92SRFAg8"
      },
      "source": [
        "#create a function called divide_by_2\n",
        "  # return the value of answe\n",
        "\n",
        "#answer = divide_by_2(10)\n",
        "#print(answer)\n",
        "\n",
        "# create a function called multiplication, \n",
        "# with 2 parameters num1, num2\n",
        "  # return num1 * num2\n",
        "\n",
        "#answer = multiple(10,10)\n",
        "#print(answer)\n",
        "\n"
      ],
      "execution_count": 57,
      "outputs": []
    },
    {
      "cell_type": "code",
      "metadata": {
        "id": "kk05cNc0KPuc"
      },
      "source": [
        "def divide_by_2(number):\n",
        "  return number/2\n",
        "  print"
      ],
      "execution_count": 64,
      "outputs": []
    },
    {
      "cell_type": "code",
      "metadata": {
        "colab": {
          "base_uri": "https://localhost:8080/"
        },
        "id": "z-onVzevMuAr",
        "outputId": "e1a4078f-4972-4110-c140-af78e3ff0ab1"
      },
      "source": [
        "divide_by_2(10)"
      ],
      "execution_count": 66,
      "outputs": [
        {
          "output_type": "execute_result",
          "data": {
            "text/plain": [
              "5.0"
            ]
          },
          "metadata": {},
          "execution_count": 66
        }
      ]
    },
    {
      "cell_type": "code",
      "metadata": {
        "id": "qp_3Q8wFMxaa"
      },
      "source": [
        "def multi(number):\n",
        "  return number*10\n",
        "  print"
      ],
      "execution_count": 65,
      "outputs": []
    },
    {
      "cell_type": "code",
      "metadata": {
        "colab": {
          "base_uri": "https://localhost:8080/"
        },
        "id": "g_sHtaHcM_VG",
        "outputId": "e79271dc-be62-405c-9f23-bceaa1295557"
      },
      "source": [
        "multi(10)"
      ],
      "execution_count": 67,
      "outputs": [
        {
          "output_type": "execute_result",
          "data": {
            "text/plain": [
              "100"
            ]
          },
          "metadata": {},
          "execution_count": 67
        }
      ]
    },
    {
      "cell_type": "code",
      "metadata": {
        "colab": {
          "base_uri": "https://localhost:8080/"
        },
        "id": "XNmDNndrHjoa",
        "outputId": "dbfdd0d9-6027-4409-d79d-6e9e7049273a"
      },
      "source": [
        "def multi(num1, num2):\n",
        "  num1 = 10\n",
        "  num2 = 20 \n",
        "  return num1*num2\n",
        "\n",
        "  answer = (f\"multiplication is {answer}\")\n",
        "\n",
        "\n",
        "\n",
        "print(multi)"
      ],
      "execution_count": 54,
      "outputs": [
        {
          "output_type": "stream",
          "name": "stdout",
          "text": [
            "<function multi at 0x7fb1aa355f80>\n"
          ]
        }
      ]
    },
    {
      "cell_type": "code",
      "metadata": {
        "id": "TyrCPgt5Hr6g"
      },
      "source": [
        "#arbitrary arguments\n",
        "\n",
        "def average(*args):\n",
        "  retuen sum(*args)/len(*args)"
      ],
      "execution_count": null,
      "outputs": []
    },
    {
      "cell_type": "code",
      "metadata": {
        "colab": {
          "base_uri": "https://localhost:8080/",
          "height": 131
        },
        "id": "REC5NprFLa9l",
        "outputId": "93d04023-3a31-4158-ab86-25d7b237130f"
      },
      "source": [
        "def area(width=2, height):\n",
        "  return width*height\n",
        "\n",
        "rectangle_area = area(10,20)\n",
        "sqaure = area(10)\n",
        "random_area = area()\n",
        "print(rectangle_area, square, random_area)"
      ],
      "execution_count": 61,
      "outputs": [
        {
          "output_type": "error",
          "ename": "SyntaxError",
          "evalue": "ignored",
          "traceback": [
            "\u001b[0;36m  File \u001b[0;32m\"<ipython-input-61-e0e9dc6e565c>\"\u001b[0;36m, line \u001b[0;32m1\u001b[0m\n\u001b[0;31m    def area(width=2, height):\u001b[0m\n\u001b[0m            ^\u001b[0m\n\u001b[0;31mSyntaxError\u001b[0m\u001b[0;31m:\u001b[0m non-default argument follows default argument\n"
          ]
        }
      ]
    },
    {
      "cell_type": "code",
      "metadata": {
        "id": "dmNIe5JFMAhq"
      },
      "source": [
        ""
      ],
      "execution_count": null,
      "outputs": []
    }
  ]
}