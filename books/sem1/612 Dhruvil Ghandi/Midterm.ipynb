{
  "nbformat": 4,
  "nbformat_minor": 0,
  "metadata": {
    "colab": {
      "name": "Midterm.ipynb",
      "provenance": []
    },
    "kernelspec": {
      "name": "python3",
      "display_name": "Python 3"
    },
    "language_info": {
      "name": "python"
    }
  },
  "cells": [
    {
      "cell_type": "markdown",
      "metadata": {
        "id": "Z3CHg9q2sj8A"
      },
      "source": [
        "Create 4 variables, each storing an integer, a float, a string and a boolean [2]"
      ]
    },
    {
      "cell_type": "code",
      "metadata": {
        "id": "Ldo2vEQ8sjnT"
      },
      "source": [
        ""
      ],
      "execution_count": null,
      "outputs": []
    },
    {
      "cell_type": "markdown",
      "metadata": {
        "id": "-kGM3IAXsrIx"
      },
      "source": [
        "Create a function that takes any number of integers as input and returns their sum [2]"
      ]
    },
    {
      "cell_type": "code",
      "metadata": {
        "id": "6qCqHptisi_h"
      },
      "source": [
        ""
      ],
      "execution_count": null,
      "outputs": []
    },
    {
      "cell_type": "markdown",
      "metadata": {
        "id": "dHGJMllrszUH"
      },
      "source": [
        "create a function that is represented by the pseudocode below\n",
        "\n",
        "\n",
        "> def print_numbers(range_end, range_start, stepper)\n",
        "\n",
        "Sample input: 10,3\n",
        "Sample output: [3,4,5,6,7,8,9]\n",
        "\n",
        "Sample input: 10,1,2\n",
        "Sample output: 10\n",
        "\n",
        "Sample input: 10\n",
        "Sample output: [1,2,3,4,5,6,7,8,9]\n",
        "\n",
        "range_start and range_end are optional parameters\n",
        "[5]"
      ]
    },
    {
      "cell_type": "code",
      "metadata": {
        "id": "f1r-grPqs_Ew"
      },
      "source": [
        ""
      ],
      "execution_count": null,
      "outputs": []
    },
    {
      "cell_type": "markdown",
      "metadata": {
        "id": "44fLTYVkuBGz"
      },
      "source": [
        "Create an input prompt that present users with 3 choices\n",
        "\n",
        "\n",
        "*   if user enters 1, it calls a function which takes 3 numbers as input from user and print the maximum\n",
        "*   if user enters 2, it calls a function that print a random number between (1-100)\n",
        "*   if user enters 3, asks user to enter their name and generates a list from the name and print it eg: Dhruv -> ['D','h','r','u','v']\n",
        "*   if user enters 0, exits the prompt\n",
        "*   if user enters something else, prints 'invalid choice'\n",
        "\n"
      ]
    }
  ]
}